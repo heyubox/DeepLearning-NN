{
 "cells": [
  {
   "cell_type": "code",
   "execution_count": null,
   "metadata": {
    "id": "uJ6I_OwClmuY"
   },
   "outputs": [],
   "source": [
    "%tensorflow_version 1.x\n",
    "import tensorflow as tf\n",
    "from tensorflow.examples.tutorials.mnist import input_data\n",
    "import numpy as np\n",
    "mnist = input_data.read_data_sets('MNIST_data',one_hot=True)"
   ]
  },
  {
   "cell_type": "markdown",
   "metadata": {},
   "source": [
    "<font size=6>一、\t多层感知机用于 MINSTT手写数字数据集分类（提交实现步骤描述以及下面要求提交的结果）</font>"
   ]
  },
  {
   "cell_type": "code",
   "execution_count": 16,
   "metadata": {
    "colab": {
     "base_uri": "https://localhost:8080/",
     "height": 297
    },
    "id": "R3N-iFW90ou2",
    "outputId": "9158ff15-76ba-4e11-b5d9-0fcdd76366ee"
   },
   "outputs": [
    {
     "name": "stdout",
     "output_type": "stream",
     "text": [
      "step : 0, training loss = 19.4287 \n",
      "step : 0, testing loss = 48.6643 \n",
      "step : 0, training accuracy = 0.23 \n",
      "step : 0, testing accuracy = 0.1506 \n",
      "step : 500, training loss = 0.241689 \n",
      "step : 500, testing loss = 0.173039 \n",
      "step : 500, training accuracy = 0.99 \n",
      "step : 500, testing accuracy = 0.9455 \n",
      "step : 1000, training loss = 0.106698 \n",
      "step : 1000, testing loss = 0.114709 \n",
      "step : 1000, training accuracy = 0.99 \n",
      "step : 1000, testing accuracy = 0.9641 \n",
      "step : 1500, training loss = 0.223329 \n",
      "step : 1500, testing loss = 0.0964008 \n",
      "step : 1500, training accuracy = 0.99 \n",
      "step : 1500, testing accuracy = 0.9703 \n"
     ]
    }
   ],
   "source": [
    "num_classes = 10  # 输出大小\n",
    "input_size = 784  # 输入大小\n",
    "hidden_units_size = 256  # 隐藏层节点数量\n",
    "batch_size = 100\n",
    "training_iterations = 10000\n",
    "\n",
    "X = tf.placeholder(tf.float32, shape = [None, input_size])\n",
    "y = tf.placeholder(tf.float32, shape = [None, num_classes])\n",
    "#第一层256\n",
    "W1 = tf.Variable(tf.random_normal ([input_size, hidden_units_size], stddev = 0.1))\n",
    "B1 = tf.Variable(tf.constant (0.1,shape=[hidden_units_size]))\n",
    "hidden_opt1 = tf.matmul(X, W1) + B1  \n",
    "hidden_opt1 = tf.nn.relu(hidden_opt1)  \n",
    "#第二层256\n",
    "W2 = tf.Variable(tf.random_normal ([hidden_units_size, hidden_units_size], stddev = 0.1))\n",
    "B2 = tf.Variable(tf.constant (0.1,shape=[hidden_units_size]) )\n",
    "hidden_opt2 = tf.matmul(hidden_opt1, W2) + B2  \n",
    "hidden_opt2 = tf.nn.relu(hidden_opt2)  \n",
    "#输出层10\n",
    "W3=tf.Variable(tf.random_normal([hidden_units_size,num_classes]))\n",
    "B3=tf.Variable(tf.constant(0.1,shape=[10]))\n",
    "y_p=tf.matmul(hidden_opt2,W3)+B3\n",
    "#y_p=tf.nn.softmax(tf.matmul(hidden_opt2,W3)+B3)\n",
    "\n",
    "\n",
    "# 对输出层计算交叉熵损失\n",
    "loss = tf.reduce_mean(tf.nn.softmax_cross_entropy_with_logits(labels=y, logits=y_p))\n",
    "# 梯度下降算法，这里使用了反向传播算法用于修改权重，减小损失\n",
    "opt = tf.train.GradientDescentOptimizer(0.05).minimize(loss)\n",
    "\n",
    "#y_p=tf.nn.softmax(y_p)\n",
    "#cross_entropy = tf.reduce_mean(-tf.reduce_sum(y*tf.log(y_p),reduction_indices=[1]))\n",
    "#train_step = tf.train.AdamOptimizer(0.01).minimize(cross_entropy)\n",
    "\n",
    "init = tf.global_variables_initializer()\n",
    "# 计算准确率\n",
    "correct_prediction =tf.equal (tf.argmax (y, 1), tf.argmax(y_p, 1))\n",
    "accuracy = tf.reduce_mean(tf.cast(correct_prediction, 'float'))\n",
    "\n",
    "cost_list_test=[]\n",
    "cost_list_train=[]\n",
    "accur_list_test=[]\n",
    "accur_list_train=[]\n",
    "\n",
    "sess = tf.Session ()\n",
    "sess.run (init)\n",
    "for i in range (2000) :\n",
    "    batch = mnist.train.next_batch (100)\n",
    "    batch_input = batch[0]\n",
    "    batch_labels = batch[1]\n",
    "    # 训练\n",
    "    training_loss = sess.run ([opt,loss], feed_dict = {X: batch_input, y: batch_labels})\n",
    "    #training_loss = sess.run ([train_step,cross_entropy], feed_dict = {X: batch_input, y: batch_labels})\n",
    "    if i % 10 == 0 :\n",
    "        test_accuracy = accuracy.eval (session = sess, feed_dict = {X:mnist.test.images, y:mnist.test.labels})\n",
    "        train_accuracy = accuracy.eval (session = sess, feed_dict = {X: batch_input, y: batch_labels})\n",
    "        cost_list_train.append(training_loss[1])\n",
    "        cost_list_test.append(sess.run ([opt,loss], feed_dict = {X:mnist.test.images, y:mnist.test.labels})[1])\n",
    "        accur_list_train.append(train_accuracy)\n",
    "        accur_list_test.append(test_accuracy)\n",
    "        if i% 500 == 0:\n",
    "          print(\"step : %d, training loss = %g \" % (i,cost_list_train[-1]))\n",
    "          print(\"step : %d, testing loss = %g \" % (i, cost_list_test[-1]))\n",
    "          print(\"step : %d, training accuracy = %g \" % (i, accur_list_train[-1]))\n",
    "          print(\"step : %d, testing accuracy = %g \" % (i, accur_list_test[-1]))\n",
    "\n"
   ]
  },
  {
   "cell_type": "code",
   "execution_count": 17,
   "metadata": {
    "colab": {
     "base_uri": "https://localhost:8080/",
     "height": 585
    },
    "id": "nWRpLxJEQVVD",
    "outputId": "538c3e79-1390-4c7b-b3b1-cb5d77f312c7"
   },
   "outputs": [
    {
     "data": {
      "image/png": "[encoded data removed]",
      "text/plain": [
       "<Figure size 432x288 with 2 Axes>"
      ]
     },
     "metadata": {
      "needs_background": "light",
      "tags": []
     },
     "output_type": "display_data"
    },
    {
     "data": {
      "image/png": "[encoded data removed]",
      "text/plain": [
       "<Figure size 432x288 with 2 Axes>"
      ]
     },
     "metadata": {
      "needs_background": "light",
      "tags": []
     },
     "output_type": "display_data"
    }
   ],
   "source": [
    "import matplotlib.pyplot as plt\n",
    "fig,ax=plt.subplots(2,1)\n",
    "plt.title('Traning Dataset',fontsize='large',y=2.4,fontweight='bold') \n",
    "ax[0].plot(accur_list_train,'r')\n",
    "ax[1].plot(cost_list_train,'r')\n",
    "plt.show()\n",
    "\n",
    "fig,ax=plt.subplots(2,1)\n",
    "plt.title('Testing Dataset',fontsize='large',y=2.4,fontweight='bold') \n",
    "ax[0].plot(accur_list_test)\n",
    "ax[1].plot(cost_list_test)\n",
    "plt.show()"
   ]
  },
  {
   "cell_type": "markdown",
   "metadata": {},
   "source": [
    "<font size=6>二、\t卷积神经网络用于 MINISTT手写数字数据集分类（提交实现步骤描述以及下面要求提交的结果）</font>"
   ]
  },
  {
   "cell_type": "markdown",
   "metadata": {
    "id": "ZwsqFzLRIGIQ"
   },
   "source": [
    "\n",
    "---\n",
    "tf.nn.max_pool(value, ksize, strides, padding, name=None)\n",
    "参数是四个，和卷积很类似：\n",
    "\n",
    "1. 第一个参数value：需要池化的输入，一般池化层接在卷积层后面，所以输入通常是feature map，依然是[batch, height, width, channels]这样的shape\n",
    "\n",
    "2. 第二个参数ksize：池化窗口的大小，取一个四维向量，一般是[1, height, width, 1]，因为我们不想在batch和channels上做池化，所以这两个维度设为了1\n",
    "\n",
    "3. 第三个参数strides：和卷积类似，窗口在每一个维度上滑动的步长，一般也是[1, stride,stride, 1]\n",
    "\n",
    "4. 第四个参数padding：和卷积类似，可以取'VALID' 或者'SAME'\n",
    "\n",
    "返回一个Tensor，类型不变，shape仍然是[batch, height, width, channels]这种形式\n",
    "\n",
    "\n",
    "---\n",
    "\n"
   ]
  },
  {
   "cell_type": "markdown",
   "metadata": {
    "id": "7cMsO7WZIJ8M"
   },
   "source": [
    "tf.nn.conv2d(input, filter, strides, padding, use_cudnn_on_gpu=None, name=None)\n",
    "除去name参数用以指定该操作的name，与方法有关的一共五个参数：\n",
    "\n",
    "1. input：\n",
    "指需要做卷积的输入图像，它要求是一个Tensor，具有[batch, in_height, in_width, in_channels]这样的shape，具体含义是[训练时一个batch的图片数量, 图片高度, 图片宽度, 图像通道数]，注意这是一个4维的Tensor，要求类型为float32和float64其中之一\n",
    "\n",
    "2. filter：\n",
    "相当于CNN中的卷积核，它要求是一个Tensor，具有[filter_height, filter_width, in_channels, out_channels]这样的shape，具体含义是[卷积核的高度，卷积核的宽度，图像通道数，卷积核个数]，要求类型与参数input相同，有一个地方需要注意，第三维in_channels，就是参数input的第四维\n",
    "\n",
    "3. strides：卷积时在图像每一维的步长，这是一个一维的向量，长度4\n",
    "\n",
    "padding：\n",
    "string类型的量，只能是”SAME”,”VALID”其中之一，这个值决定了不同的卷积方式（后面会介绍）\n",
    "\n",
    "4. use_cudnn_on_gpu：\n",
    "bool类型，是否使用cudnn加速，默认为true\n",
    "\n",
    "结果返回一个Tensor，这个输出，就是我们常说的feature map\n",
    "\n",
    "\n",
    "---\n",
    "\n"
   ]
  },
  {
   "cell_type": "markdown",
   "metadata": {
    "id": "4-gvuhgOIgOA"
   },
   "source": [
    "1. input = tf.Variable(tf.random_normal([1,3,3,5]))\n",
    "input的第4维是通道个数\n",
    "\n",
    "filter = tf.Variable(tf.random_normal([1,1,5,1]))\n",
    "filter的第3维是通道个数，对应input的第3维；第4维是输出的feature map的个数\n",
    "\n",
    "\n",
    "---\n",
    "\n"
   ]
  },
  {
   "cell_type": "code",
   "execution_count": null,
   "metadata": {
    "colab": {
     "base_uri": "https://localhost:8080/",
     "height": 317
    },
    "id": "RF8UHrQd-fwI",
    "outputId": "80cb59e1-8b64-47a8-f823-c8b1ffee03a1"
   },
   "outputs": [
    {
     "name": "stdout",
     "output_type": "stream",
     "text": [
      "WARNING:tensorflow:From <ipython-input-2-d3efd2571d0a>:37: calling dropout (from tensorflow.python.ops.nn_ops) with keep_prob is deprecated and will be removed in a future version.\n",
      "Instructions for updating:\n",
      "Please use `rate` instead of `keep_prob`. Rate should be set to `rate = 1 - keep_prob`.\n",
      "WARNING:tensorflow:From /tensorflow-1.15.2/python3.6/tensorflow_core/python/util/tf_should_use.py:198: initialize_all_variables (from tensorflow.python.ops.variables) is deprecated and will be removed after 2017-03-02.\n",
      "Instructions for updating:\n",
      "Use `tf.global_variables_initializer` instead.\n",
      "0.0686\n",
      "0.9315\n",
      "0.9554\n",
      "0.9631\n",
      "0.9705\n",
      "0.9746\n",
      "0.9782\n",
      "0.9825\n",
      "0.9841\n",
      "0.9881\n"
     ]
    }
   ],
   "source": [
    "def compute_accuracy(v_xs,v_ys):\n",
    "    global y_p\n",
    "    y_pre = sess.run(y_p,feed_dict={X:v_xs, keep_prob:1})\n",
    "    correct_prediction = tf.equal(tf.argmax(y_pre,1),tf.argmax(v_ys,1))\n",
    "    accuracy = tf.reduce_mean(tf.cast(correct_prediction,tf.float32))\n",
    "    result = sess.run(accuracy,feed_dict={X:v_xs,y:v_ys,keep_prob:1})\n",
    "    return result\n",
    "\n",
    "\n",
    "##输入\n",
    "X = tf.placeholder(tf.float32,[None,784])#28*28\n",
    "y = tf.placeholder(tf.float32,[None,10])#10个输出\n",
    "#-1代表样本数不定，28*28大小的图片，1表示通道数\n",
    "x_image = tf.reshape(X,[-1,28,28,1])\n",
    "keep_prob = tf.placeholder(tf.float32)\n",
    "#第一层卷积\n",
    "#对输入的单通道图片 卷积核 5×5 1通道 32个数，输出32个featu map 后续对应32通道\n",
    "W_c1=tf.Variable(tf.truncated_normal([5,5,1,32],stddev=0.1))\n",
    "b_c1=tf.Variable(tf.constant(0.1,shape=[32]))\n",
    "active_c1=tf.nn.conv2d(x_image,W_c1,strides=[1,1,1,1],padding=\"SAME\")\n",
    "out_c1=tf.nn.relu(active_c1+b_c1)\n",
    "out_p1=tf.nn.max_pool(out_c1,ksize=[1,2,2,1],strides=[1,2,2,1],padding=\"SAME\")\n",
    "#第二层卷积\n",
    "#对输入的32通道图片 卷积核5×5 32通道 64个数，输出64个feature map 后续对应64通道\n",
    "W_c2=tf.Variable(tf.truncated_normal([5,5,32,64],stddev=0.1))\n",
    "b_c2=tf.Variable(tf.constant(0.1,shape=[64]))\n",
    "active_c2=tf.nn.conv2d(out_p1,W_c2,strides=[1,1,1,1],padding=\"SAME\")\n",
    "out_c2=tf.nn.relu(active_c2+b_c2)\n",
    "out_p2=tf.nn.max_pool(out_c2,ksize=[1,2,2,1],strides=[1,2,2,1],padding=\"SAME\")\n",
    "#全连接层\n",
    "W_fc1=tf.Variable(tf.truncated_normal([7*7*64,1024],stddev=0.1))\n",
    "b_fc1=tf.Variable(tf.constant(0.1,shape=[1024]))\n",
    "out_p2_flat=tf.reshape(out_p2,[-1,7*7*64])\n",
    "out_fc1=tf.nn.relu(tf.matmul(out_p2_flat,W_fc1)+b_fc1)\n",
    "out_fc1_drop=tf.nn.dropout(out_fc1,keep_prob);\n",
    "#softmax输出层\n",
    "W_fc2=tf.Variable(tf.truncated_normal([1024,10],stddev=0.1))\n",
    "b_fc2=tf.Variable(tf.constant(0.1,shape=[10]))\n",
    "y_p=tf.nn.softmax(tf.matmul(out_fc1_drop,W_fc2)+b_fc2)\n",
    "#loss函数\n",
    "cross_entropy = tf.reduce_mean(-tf.reduce_sum(y*tf.log(y_p),reduction_indices=[1]))\n",
    "train_step = tf.train.AdamOptimizer(1e-4).minimize(cross_entropy)\n",
    "sess = tf.Session()\n",
    "sess.run(tf.initialize_all_variables())\n",
    "\n",
    "cost_list_test=[]\n",
    "cost_list_train=[]\n",
    "accur_list_test=[]\n",
    "accur_list_train=[]\n",
    "\n",
    "for i in range(1000):\n",
    "    batch_xs,batch_ys = mnist.train.next_batch(100)#从下载好的数据集提取100个数据，mini_batch\n",
    "    #print(batch_xs.shape)\n",
    "    sess.run(train_step,feed_dict={X:batch_xs,y:batch_ys,keep_prob:0.25})\n",
    "    if i %1 == 0:\n",
    "      test_accuracy = compute_accuracy(mnist.test.images, mnist.test.labels)\n",
    "      train_accuracy = compute_accuracy(batch_xs, batch_ys)\n",
    "      cost_list_train.append(sess.run ([train_step,cross_entropy], feed_dict = {X: batch_xs, y: batch_ys,keep_prob:0.25})[1])\n",
    "      cost_list_test.append(sess.run ([train_step,cross_entropy], feed_dict = {X:mnist.test.images, y:mnist.test.labels,keep_prob:0.25})[1])\n",
    "      accur_list_train.append(train_accuracy)\n",
    "      accur_list_test.append(test_accuracy)\n",
    "      if i%100==0:\n",
    "        print(compute_accuracy(mnist.test.images, mnist.test.labels))"
   ]
  },
  {
   "cell_type": "code",
   "execution_count": null,
   "metadata": {
    "colab": {
     "base_uri": "https://localhost:8080/",
     "height": 585
    },
    "id": "51int2tnVJxf",
    "outputId": "9f6fd4dd-f6fe-4d8f-d570-bfa3d128a11e"
   },
   "outputs": [
    {
     "data": {
      "image/png": "[encoded data removed]",
      "text/plain": [
       "<Figure size 432x288 with 2 Axes>"
      ]
     },
     "metadata": {
      "needs_background": "light",
      "tags": []
     },
     "output_type": "display_data"
    },
    {
     "data": {
      "image/png": "[encoded data removed]",
      "text/plain": [
       "<Figure size 432x288 with 2 Axes>"
      ]
     },
     "metadata": {
      "needs_background": "light",
      "tags": []
     },
     "output_type": "display_data"
    }
   ],
   "source": [
    "import matplotlib.pyplot as plt\n",
    "fig,ax=plt.subplots(2,1)\n",
    "plt.title('Traning Dataset',fontsize='large',y=2.4,fontweight='bold') \n",
    "ax[0].plot(accur_list_train,'r')\n",
    "ax[1].plot(cost_list_train,'r')\n",
    "plt.show()\n",
    "\n",
    "fig,ax=plt.subplots(2,1)\n",
    "plt.title('Testing Dataset',fontsize='large',y=2.4,fontweight='bold') \n",
    "ax[0].plot(accur_list_test)\n",
    "ax[1].plot(cost_list_test)\n",
    "plt.show()"
   ]
  },
  {
   "cell_type": "markdown",
   "metadata": {},
   "source": [
    "<font size=6> 三、\t多层感知机实现异或运算（提交实现步骤描述、源代码以及最后的测试误差）</font>"
   ]
  },
  {
   "cell_type": "code",
   "execution_count": 18,
   "metadata": {
    "id": "48wXc_y2_fuS"
   },
   "outputs": [],
   "source": [
    "import numpy as np\n",
    "import random\n",
    "import matplotlib.pyplot as plt\n",
    "#referrence:https://zhuanlan.zhihu.com/p/109822533\n",
    "#sigmoid激活函数\n",
    "def sigmoid(x):\n",
    "  return 1 / (1 + np.exp(-x))\n",
    "#sigmoid激活函数导数\n",
    "def diff_sigmoid(x):\n",
    "  fx = sigmoid(x)\n",
    "  return fx * (1 - fx)\n",
    "#计算误差\n",
    "def mse_loss(y_true, y_pred):\n",
    "  return ((y_true - y_pred) ** 2).mean()\n",
    "\n",
    "#隐藏层\n",
    "class hidden:\n",
    "  '''\n",
    "  func：激活函数\n",
    "  shape：[input_num,hidden_num]\n",
    "  '''\n",
    "  def __init__(self,X=None,y=None,lr=0.05,func=sigmoid,diff_func=diff_sigmoid,shape=None):\n",
    "    self.W=np.random.rand(shape[0],shape[1])\n",
    "    self.b=np.random.rand(1,shape[1])\n",
    "    self.x=X\n",
    "    self.y=y\n",
    "    self.lr=lr\n",
    "    self.func=func\n",
    "    self.diff_func=diff_func\n",
    "    self.BP_val=1 #反向传播，向下一层传播\n",
    "    self.a=0  #保存(Wx+b)\n",
    "\n",
    "  #正向传播，输出\n",
    "  def output(self):\n",
    "    self.a=(np.matmul(self.x,self.W))+self.b\n",
    "    self.y=self.func(self.a)\n",
    "    return self.y\n",
    "  #梯度下降的方法更新网络参数，根据链式求导将偏导返回给下一层\n",
    "  def update(self,bp_val):\n",
    "    #误差平方和关于这一层W b偏导数的计算\n",
    "    delta_b=bp_val*self.diff_func(self.a)\n",
    "    delta_W=delta_b*self.x.T\n",
    "    self.W-=self.lr*delta_W\n",
    "    self.b-=self.lr*delta_b    \n",
    "    self.BP_val=delta_b*self.W\n",
    "    #下一层梯度下降需要的偏导数\n",
    "    self.BP_val=self.BP_val.sum(axis=1)\n",
    "    return self.BP_val\n",
    "\n",
    "  #正向传播\n",
    "  def run_forward(self,X):\n",
    "    self.x=X\n",
    "    return self.output()\n",
    "  \n",
    "  #反向传播\n",
    "  def run_backward(self,bp_val):\n",
    "    return self.update(bp_val)\n",
    "\n",
    "#输出层\n",
    "class optLayer(hidden):\n",
    "  #输出层的更新方法有所不同\n",
    "  def update(self,t):\n",
    "    #根据误差平方和求偏导\n",
    "    delta_b=(self.y-t)*self.diff_func(self.a)\n",
    "    delta_W=delta_b*self.x.T\n",
    "    self.W-=self.lr*delta_W\n",
    "    self.b-=self.lr*delta_b\n",
    "    self.BP_val=delta_b*self.W.T\n",
    "    return self.BP_val\n",
    "\n",
    "  def run_backward(self,bp_val):\n",
    "    return self.update(bp_val)\n",
    "    \n",
    "#构建包含输出层、隐藏层的网络\n",
    "class net:\n",
    "  '''\n",
    "  shape=[输入维度，隐藏层个数，隐藏层个数，......]\n",
    "  '''\n",
    "  def __init__(self,lr,shape,X=None,y=None):\n",
    "    self.epoch=0\n",
    "    self.lr=lr\n",
    "    self.x=X\n",
    "    self.y=y\n",
    "    self.layer=[None]*(len(shape))\n",
    "    self.loss_history=[]\n",
    "    #初始化每一层的shape,每一层的W b\n",
    "    self.layer[-1]=optLayer(shape=[shape[-1],1])#输出层\n",
    "    for i in range(len(shape)-1):\n",
    "      self.layer[i]=hidden(shape=[shape[i],shape[i+1]])#隐藏层\n",
    "\n",
    "  #包括正向传播 反向传播\n",
    "  def run(self):\n",
    "    y_pred=self.layer[0].run_forward(self.x)    \n",
    "    for i in range(len(self.layer)-1):\n",
    "      y_pred=self.layer[i+1].run_forward(y_pred)\n",
    "    bp=self.y\n",
    "    for i in reversed(self.layer):\n",
    "      bp=i.run_backward(bp)\n",
    "    return y_pred\n",
    "    \n",
    "  def putin(self,X,y):\n",
    "    self.x=np.array([X])\n",
    "    self.y=np.array([y])\n",
    "\n",
    "  #支持batch输入\n",
    "  def feed_batch(self,X,y,batch_size=1):\n",
    "    self.epoch+=1\n",
    "    for i in range(batch_size):\n",
    "      self.putin(X[i],y[i])\n",
    "      self.run()\n",
    "    if self.epoch%1==0:\n",
    "      self.x=X\n",
    "      p_pred=self.layer[0].run_forward(self.x)    \n",
    "      for i in range(len(self.layer)-1):\n",
    "        p_pred=self.layer[i+1].run_forward(p_pred)\n",
    "      self.loss_history.append(mse_loss(y,p_pred))\n",
    "      if self.epoch%1000==0:\n",
    "        print(\"loss:\",self.loss_history[-1])\n",
    "    return\n",
    "      \n",
    "  #画出误差的图像\n",
    "  def plot_loss(self):\n",
    "    plt.plot(self.loss_history,'r-')\n",
    "    plt.show()\n",
    "    return"
   ]
  },
  {
   "cell_type": "code",
   "execution_count": 19,
   "metadata": {
    "colab": {
     "base_uri": "https://localhost:8080/",
     "height": 440
    },
    "id": "sc3zJ0b19LQ-",
    "outputId": "02826836-9927-4e3b-a71a-83832bc1c502"
   },
   "outputs": [
    {
     "name": "stdout",
     "output_type": "stream",
     "text": [
      "loss: 0.22050371248386125\n",
      "loss: 0.14364857786783874\n",
      "loss: 0.024413688022166775\n",
      "loss: 0.007919176614246664\n",
      "loss: 0.004416890330842479\n",
      "loss: 0.003001697102667052\n",
      "loss: 0.002252947662052557\n",
      "loss: 0.0017942987253716863\n",
      "loss: 0.0014862825745014083\n",
      "loss: 0.001265954029455774\n"
     ]
    },
    {
     "data": {
      "image/png": "[encoded data removed]",
      "text/plain": [
       "<Figure size 432x288 with 1 Axes>"
      ]
     },
     "metadata": {
      "needs_background": "light",
      "tags": []
     },
     "output_type": "display_data"
    }
   ],
   "source": [
    "X=np.array([[0,0],[1,0],[0,1],[1,1],[0,0],[0,0],[1,1],[0,1],[1,0],[1,0],[1,1],[0,1],[0,0]])\n",
    "y=np.array([[0],[1],[1],[0],[0],[0],[0],[1],[1],[1],[0],[1],[0]])\n",
    "shape=[2,2]\n",
    "bp_nn=net(lr=0.1,shape=shape,X=X,y=y)\n",
    "for i in range(10000):\n",
    "  bp_nn.feed_batch(X=X,y=y,batch_size=len(y))\n",
    "bp_nn.plot_loss()"
   ]
  },
  {
   "cell_type": "code",
   "execution_count": 20,
   "metadata": {
    "colab": {
     "base_uri": "https://localhost:8080/",
     "height": 34
    },
    "id": "-L0KSo2WIP9O",
    "outputId": "197ebf7a-9c03-4d8b-b27f-1f00914a1752"
   },
   "outputs": [
    {
     "name": "stdout",
     "output_type": "stream",
     "text": [
      "[0,1] prediction: [[0.96467548]]\n"
     ]
    }
   ],
   "source": [
    "bp_nn.putin([0,1],[1])\n",
    "print(\"[0,1] prediction:\",bp_nn.run())\n"
   ]
  },
  {
   "cell_type": "code",
   "execution_count": 21,
   "metadata": {
    "colab": {
     "base_uri": "https://localhost:8080/",
     "height": 34
    },
    "id": "Kt7u5z-S9Hc7",
    "outputId": "29b7a29d-f4e2-4b18-c866-f8e8831a241a"
   },
   "outputs": [
    {
     "name": "stdout",
     "output_type": "stream",
     "text": [
      "[1,0] prediction: [[0.96444233]]\n"
     ]
    }
   ],
   "source": [
    "bp_nn.putin([1,0],[1])\n",
    "print(\"[1,0] prediction:\",bp_nn.run())"
   ]
  },
  {
   "cell_type": "code",
   "execution_count": 22,
   "metadata": {
    "colab": {
     "base_uri": "https://localhost:8080/",
     "height": 34
    },
    "id": "ZUw9qZpkMQOO",
    "outputId": "4770a151-b7f2-40ff-aead-3802595d512f"
   },
   "outputs": [
    {
     "name": "stdout",
     "output_type": "stream",
     "text": [
      "[0,0] prediction: [[0.03407978]]\n"
     ]
    }
   ],
   "source": [
    "bp_nn.putin([0,0],[0])\n",
    "print(\"[0,0] prediction:\",bp_nn.run())"
   ]
  },
  {
   "cell_type": "code",
   "execution_count": 23,
   "metadata": {
    "colab": {
     "base_uri": "https://localhost:8080/",
     "height": 34
    },
    "id": "5ZxeONc-NKwE",
    "outputId": "d24642ff-cec3-4bd0-b530-ef2d96f2fedf"
   },
   "outputs": [
    {
     "name": "stdout",
     "output_type": "stream",
     "text": [
      "[1,1] prediction: [[0.03776495]]\n"
     ]
    }
   ],
   "source": [
    "bp_nn.putin([1,1],[0])\n",
    "print(\"[1,1] prediction:\",bp_nn.run())"
   ]
  }
 ],
 "metadata": {
  "accelerator": "GPU",
  "colab": {
   "collapsed_sections": [],
   "name": "homework2.ipynb",
   "provenance": []
  },
  "kernelspec": {
   "display_name": "Python 3",
   "language": "python",
   "name": "python3"
  },
  "language_info": {
   "codemirror_mode": {
    "name": "ipython",
    "version": 3
   },
   "file_extension": ".py",
   "mimetype": "text/x-python",
   "name": "python",
   "nbconvert_exporter": "python",
   "pygments_lexer": "ipython3",
   "version": "3.7.7"
  }
 },
 "nbformat": 4,
 "nbformat_minor": 4
}
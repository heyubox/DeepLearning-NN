{
  "nbformat": 4,
  "nbformat_minor": 0,
  "metadata": {
    "colab": {
      "name": "homework4.1.ipynb",
      "provenance": [],
      "collapsed_sections": [
        "F8iE-nbSXjU8",
        "3Vx3VUoWXjU_"
      ]
    },
    "kernelspec": {
      "display_name": "Python 3",
      "language": "python",
      "name": "python3"
    },
    "language_info": {
      "codemirror_mode": {
        "name": "ipython",
        "version": 3
      },
      "file_extension": ".py",
      "mimetype": "text/x-python",
      "name": "python",
      "nbconvert_exporter": "python",
      "pygments_lexer": "ipython3",
      "version": "3.6.2"
    },
    "accelerator": "GPU"
  },
  "cells": [
    {
      "cell_type": "code",
      "metadata": {
        "id": "4D2jzw67XjT4"
      },
      "source": [
        "import pandas as pd\n",
        "from IPython.display import Markdown, display\n",
        "from sklearn.model_selection import train_test_split\n",
        "import matplotlib.pyplot as plt\n",
        "from sklearn.metrics import roc_curve, auc\n",
        "import numpy as np\n",
        "from sklearn import metrics\n",
        "\n",
        "seed = 7\n",
        "np.random.seed(seed)\n",
        "\n",
        "def printmd(string):\n",
        "    display(Markdown(string))\n",
        "    \n",
        "    \n",
        "from sklearn.linear_model import LogisticRegression\n",
        "from sklearn import svm\n",
        "from sklearn import tree\n",
        "from sklearn.ensemble import RandomForestClassifier\n",
        "from sklearn.neural_network import MLPClassifier\n",
        "from sklearn.ensemble import AdaBoostClassifier\n",
        "from sklearn.model_selection import cross_val_score\n",
        "\n",
        "from sklearn.metrics import accuracy_score\n",
        "from sklearn.metrics import roc_curve, auc\n",
        "from sklearn.preprocessing import label_binarize\n",
        "\n",
        "\n",
        "%  matplotlib inline"
      ],
      "execution_count": 35,
      "outputs": []
    },
    {
      "cell_type": "code",
      "metadata": {
        "id": "gQ-tK-ljXjT9"
      },
      "source": [
        "#adult = pd.read_csv('adult.csv')\n",
        "\n",
        "column_names = ['age', 'workclass', 'fnlwgt', 'education', 'educational-num','marital-status', 'occupation', 'relationship', 'race', 'gender','capital-gain', 'capital-loss', 'hours-per-week', 'native-country','income']\n",
        "\n",
        "train = pd.read_csv('adult_data.txt', sep=\",\\s\", header=None, names = column_names, engine = 'python')\n",
        "test = pd.read_csv('adult_test.txt', sep=\",\\s\", header=None, names = column_names, engine = 'python')\n",
        "test['income'].replace(regex=True,inplace=True,to_replace=r'\\.',value=r'')\n",
        "\n",
        "\n",
        "adult = pd.concat([test,train])\n",
        "adult.reset_index(inplace = True, drop = True)"
      ],
      "execution_count": 2,
      "outputs": []
    },
    {
      "cell_type": "markdown",
      "metadata": {
        "id": "aV1MxP3TXjT_"
      },
      "source": [
        "---\n",
        "# 1. Preliminary Data Analysis"
      ]
    },
    {
      "cell_type": "code",
      "metadata": {
        "colab": {
          "base_uri": "https://localhost:8080/",
          "height": 473
        },
        "id": "x9Q3-3gNXjUA",
        "outputId": "714d0952-828f-4126-ddca-4a9bf16d3396"
      },
      "source": [
        "# Setting all the categorical columns to type category\n",
        "for col in set(adult.columns) - set(adult.describe().columns):\n",
        "    adult[col] = adult[col].astype('category')\n",
        "    \n",
        "printmd('## 1.1. Columns and their types')\n",
        "print(adult.info())"
      ],
      "execution_count": 3,
      "outputs": [
        {
          "output_type": "display_data",
          "data": {
            "text/markdown": "## 1.1. Columns and their types",
            "text/plain": [
              "<IPython.core.display.Markdown object>"
            ]
          },
          "metadata": {
            "tags": []
          }
        },
        {
          "output_type": "stream",
          "text": [
            "<class 'pandas.core.frame.DataFrame'>\n",
            "RangeIndex: 48842 entries, 0 to 48841\n",
            "Data columns (total 15 columns):\n",
            " #   Column           Non-Null Count  Dtype   \n",
            "---  ------           --------------  -----   \n",
            " 0   age              48842 non-null  int64   \n",
            " 1   workclass        48842 non-null  category\n",
            " 2   fnlwgt           48842 non-null  int64   \n",
            " 3   education        48842 non-null  category\n",
            " 4   educational-num  48842 non-null  int64   \n",
            " 5   marital-status   48842 non-null  category\n",
            " 6   occupation       48842 non-null  category\n",
            " 7   relationship     48842 non-null  category\n",
            " 8   race             48842 non-null  category\n",
            " 9   gender           48842 non-null  category\n",
            " 10  capital-gain     48842 non-null  int64   \n",
            " 11  capital-loss     48842 non-null  int64   \n",
            " 12  hours-per-week   48842 non-null  int64   \n",
            " 13  native-country   48842 non-null  category\n",
            " 14  income           48842 non-null  category\n",
            "dtypes: category(9), int64(6)\n",
            "memory usage: 2.7 MB\n",
            "None\n"
          ],
          "name": "stdout"
        }
      ]
    },
    {
      "cell_type": "code",
      "metadata": {
        "colab": {
          "base_uri": "https://localhost:8080/",
          "height": 420
        },
        "id": "bhHErilCXjUD",
        "outputId": "bc496358-99a8-4b27-a94b-50410f47014b"
      },
      "source": [
        "# Top 5 records\n",
        "printmd('## 1.2. Data')\n",
        "adult.head()"
      ],
      "execution_count": 4,
      "outputs": [
        {
          "output_type": "display_data",
          "data": {
            "text/markdown": "## 1.2. Data",
            "text/plain": [
              "<IPython.core.display.Markdown object>"
            ]
          },
          "metadata": {
            "tags": []
          }
        },
        {
          "output_type": "execute_result",
          "data": {
            "text/html": [
              "<div>\n",
              "<style scoped>\n",
              "    .dataframe tbody tr th:only-of-type {\n",
              "        vertical-align: middle;\n",
              "    }\n",
              "\n",
              "    .dataframe tbody tr th {\n",
              "        vertical-align: top;\n",
              "    }\n",
              "\n",
              "    .dataframe thead th {\n",
              "        text-align: right;\n",
              "    }\n",
              "</style>\n",
              "<table border=\"1\" class=\"dataframe\">\n",
              "  <thead>\n",
              "    <tr style=\"text-align: right;\">\n",
              "      <th></th>\n",
              "      <th>age</th>\n",
              "      <th>workclass</th>\n",
              "      <th>fnlwgt</th>\n",
              "      <th>education</th>\n",
              "      <th>educational-num</th>\n",
              "      <th>marital-status</th>\n",
              "      <th>occupation</th>\n",
              "      <th>relationship</th>\n",
              "      <th>race</th>\n",
              "      <th>gender</th>\n",
              "      <th>capital-gain</th>\n",
              "      <th>capital-loss</th>\n",
              "      <th>hours-per-week</th>\n",
              "      <th>native-country</th>\n",
              "      <th>income</th>\n",
              "    </tr>\n",
              "  </thead>\n",
              "  <tbody>\n",
              "    <tr>\n",
              "      <th>0</th>\n",
              "      <td>25</td>\n",
              "      <td>Private</td>\n",
              "      <td>226802</td>\n",
              "      <td>11th</td>\n",
              "      <td>7</td>\n",
              "      <td>Never-married</td>\n",
              "      <td>Machine-op-inspct</td>\n",
              "      <td>Own-child</td>\n",
              "      <td>Black</td>\n",
              "      <td>Male</td>\n",
              "      <td>0</td>\n",
              "      <td>0</td>\n",
              "      <td>40</td>\n",
              "      <td>United-States</td>\n",
              "      <td>&lt;=50K</td>\n",
              "    </tr>\n",
              "    <tr>\n",
              "      <th>1</th>\n",
              "      <td>38</td>\n",
              "      <td>Private</td>\n",
              "      <td>89814</td>\n",
              "      <td>HS-grad</td>\n",
              "      <td>9</td>\n",
              "      <td>Married-civ-spouse</td>\n",
              "      <td>Farming-fishing</td>\n",
              "      <td>Husband</td>\n",
              "      <td>White</td>\n",
              "      <td>Male</td>\n",
              "      <td>0</td>\n",
              "      <td>0</td>\n",
              "      <td>50</td>\n",
              "      <td>United-States</td>\n",
              "      <td>&lt;=50K</td>\n",
              "    </tr>\n",
              "    <tr>\n",
              "      <th>2</th>\n",
              "      <td>28</td>\n",
              "      <td>Local-gov</td>\n",
              "      <td>336951</td>\n",
              "      <td>Assoc-acdm</td>\n",
              "      <td>12</td>\n",
              "      <td>Married-civ-spouse</td>\n",
              "      <td>Protective-serv</td>\n",
              "      <td>Husband</td>\n",
              "      <td>White</td>\n",
              "      <td>Male</td>\n",
              "      <td>0</td>\n",
              "      <td>0</td>\n",
              "      <td>40</td>\n",
              "      <td>United-States</td>\n",
              "      <td>&gt;50K</td>\n",
              "    </tr>\n",
              "    <tr>\n",
              "      <th>3</th>\n",
              "      <td>44</td>\n",
              "      <td>Private</td>\n",
              "      <td>160323</td>\n",
              "      <td>Some-college</td>\n",
              "      <td>10</td>\n",
              "      <td>Married-civ-spouse</td>\n",
              "      <td>Machine-op-inspct</td>\n",
              "      <td>Husband</td>\n",
              "      <td>Black</td>\n",
              "      <td>Male</td>\n",
              "      <td>7688</td>\n",
              "      <td>0</td>\n",
              "      <td>40</td>\n",
              "      <td>United-States</td>\n",
              "      <td>&gt;50K</td>\n",
              "    </tr>\n",
              "    <tr>\n",
              "      <th>4</th>\n",
              "      <td>18</td>\n",
              "      <td>?</td>\n",
              "      <td>103497</td>\n",
              "      <td>Some-college</td>\n",
              "      <td>10</td>\n",
              "      <td>Never-married</td>\n",
              "      <td>?</td>\n",
              "      <td>Own-child</td>\n",
              "      <td>White</td>\n",
              "      <td>Female</td>\n",
              "      <td>0</td>\n",
              "      <td>0</td>\n",
              "      <td>30</td>\n",
              "      <td>United-States</td>\n",
              "      <td>&lt;=50K</td>\n",
              "    </tr>\n",
              "  </tbody>\n",
              "</table>\n",
              "</div>"
            ],
            "text/plain": [
              "   age  workclass  fnlwgt  ... hours-per-week  native-country income\n",
              "0   25    Private  226802  ...             40   United-States  <=50K\n",
              "1   38    Private   89814  ...             50   United-States  <=50K\n",
              "2   28  Local-gov  336951  ...             40   United-States   >50K\n",
              "3   44    Private  160323  ...             40   United-States   >50K\n",
              "4   18          ?  103497  ...             30   United-States  <=50K\n",
              "\n",
              "[5 rows x 15 columns]"
            ]
          },
          "metadata": {
            "tags": []
          },
          "execution_count": 4
        }
      ]
    },
    {
      "cell_type": "code",
      "metadata": {
        "colab": {
          "base_uri": "https://localhost:8080/",
          "height": 339
        },
        "id": "Qch_1scFXjUF",
        "scrolled": false,
        "outputId": "9aee7a78-bf7f-4af1-d3b7-e1c05501d5a5"
      },
      "source": [
        "printmd('## 1.3. Summary Statistics')\n",
        "\n",
        "adult.describe()"
      ],
      "execution_count": 5,
      "outputs": [
        {
          "output_type": "display_data",
          "data": {
            "text/markdown": "## 1.3. Summary Statistics",
            "text/plain": [
              "<IPython.core.display.Markdown object>"
            ]
          },
          "metadata": {
            "tags": []
          }
        },
        {
          "output_type": "execute_result",
          "data": {
            "text/html": [
              "<div>\n",
              "<style scoped>\n",
              "    .dataframe tbody tr th:only-of-type {\n",
              "        vertical-align: middle;\n",
              "    }\n",
              "\n",
              "    .dataframe tbody tr th {\n",
              "        vertical-align: top;\n",
              "    }\n",
              "\n",
              "    .dataframe thead th {\n",
              "        text-align: right;\n",
              "    }\n",
              "</style>\n",
              "<table border=\"1\" class=\"dataframe\">\n",
              "  <thead>\n",
              "    <tr style=\"text-align: right;\">\n",
              "      <th></th>\n",
              "      <th>age</th>\n",
              "      <th>fnlwgt</th>\n",
              "      <th>educational-num</th>\n",
              "      <th>capital-gain</th>\n",
              "      <th>capital-loss</th>\n",
              "      <th>hours-per-week</th>\n",
              "    </tr>\n",
              "  </thead>\n",
              "  <tbody>\n",
              "    <tr>\n",
              "      <th>count</th>\n",
              "      <td>48842.000000</td>\n",
              "      <td>4.884200e+04</td>\n",
              "      <td>48842.000000</td>\n",
              "      <td>48842.000000</td>\n",
              "      <td>48842.000000</td>\n",
              "      <td>48842.000000</td>\n",
              "    </tr>\n",
              "    <tr>\n",
              "      <th>mean</th>\n",
              "      <td>38.643585</td>\n",
              "      <td>1.896641e+05</td>\n",
              "      <td>10.078089</td>\n",
              "      <td>1079.067626</td>\n",
              "      <td>87.502314</td>\n",
              "      <td>40.422382</td>\n",
              "    </tr>\n",
              "    <tr>\n",
              "      <th>std</th>\n",
              "      <td>13.710510</td>\n",
              "      <td>1.056040e+05</td>\n",
              "      <td>2.570973</td>\n",
              "      <td>7452.019058</td>\n",
              "      <td>403.004552</td>\n",
              "      <td>12.391444</td>\n",
              "    </tr>\n",
              "    <tr>\n",
              "      <th>min</th>\n",
              "      <td>17.000000</td>\n",
              "      <td>1.228500e+04</td>\n",
              "      <td>1.000000</td>\n",
              "      <td>0.000000</td>\n",
              "      <td>0.000000</td>\n",
              "      <td>1.000000</td>\n",
              "    </tr>\n",
              "    <tr>\n",
              "      <th>25%</th>\n",
              "      <td>28.000000</td>\n",
              "      <td>1.175505e+05</td>\n",
              "      <td>9.000000</td>\n",
              "      <td>0.000000</td>\n",
              "      <td>0.000000</td>\n",
              "      <td>40.000000</td>\n",
              "    </tr>\n",
              "    <tr>\n",
              "      <th>50%</th>\n",
              "      <td>37.000000</td>\n",
              "      <td>1.781445e+05</td>\n",
              "      <td>10.000000</td>\n",
              "      <td>0.000000</td>\n",
              "      <td>0.000000</td>\n",
              "      <td>40.000000</td>\n",
              "    </tr>\n",
              "    <tr>\n",
              "      <th>75%</th>\n",
              "      <td>48.000000</td>\n",
              "      <td>2.376420e+05</td>\n",
              "      <td>12.000000</td>\n",
              "      <td>0.000000</td>\n",
              "      <td>0.000000</td>\n",
              "      <td>45.000000</td>\n",
              "    </tr>\n",
              "    <tr>\n",
              "      <th>max</th>\n",
              "      <td>90.000000</td>\n",
              "      <td>1.490400e+06</td>\n",
              "      <td>16.000000</td>\n",
              "      <td>99999.000000</td>\n",
              "      <td>4356.000000</td>\n",
              "      <td>99.000000</td>\n",
              "    </tr>\n",
              "  </tbody>\n",
              "</table>\n",
              "</div>"
            ],
            "text/plain": [
              "                age        fnlwgt  ...  capital-loss  hours-per-week\n",
              "count  48842.000000  4.884200e+04  ...  48842.000000    48842.000000\n",
              "mean      38.643585  1.896641e+05  ...     87.502314       40.422382\n",
              "std       13.710510  1.056040e+05  ...    403.004552       12.391444\n",
              "min       17.000000  1.228500e+04  ...      0.000000        1.000000\n",
              "25%       28.000000  1.175505e+05  ...      0.000000       40.000000\n",
              "50%       37.000000  1.781445e+05  ...      0.000000       40.000000\n",
              "75%       48.000000  2.376420e+05  ...      0.000000       45.000000\n",
              "max       90.000000  1.490400e+06  ...   4356.000000       99.000000\n",
              "\n",
              "[8 rows x 6 columns]"
            ]
          },
          "metadata": {
            "tags": []
          },
          "execution_count": 5
        }
      ]
    },
    {
      "cell_type": "code",
      "metadata": {
        "colab": {
          "base_uri": "https://localhost:8080/",
          "height": 135
        },
        "id": "50umOjRxXjUI",
        "outputId": "9e003e70-26e6-4da8-83c7-97b7f7855433"
      },
      "source": [
        "printmd('## 1.4. Missing values')\n",
        "for i,j in zip(adult.columns,(adult.values.astype(str) == '?').sum(axis = 0)):\n",
        "    if j > 0:\n",
        "        printmd(str(i) + ': ' + str(j) + ' records')\n",
        "\n"
      ],
      "execution_count": 6,
      "outputs": [
        {
          "output_type": "display_data",
          "data": {
            "text/markdown": "## 1.4. Missing values",
            "text/plain": [
              "<IPython.core.display.Markdown object>"
            ]
          },
          "metadata": {
            "tags": []
          }
        },
        {
          "output_type": "display_data",
          "data": {
            "text/markdown": "workclass: 2799 records",
            "text/plain": [
              "<IPython.core.display.Markdown object>"
            ]
          },
          "metadata": {
            "tags": []
          }
        },
        {
          "output_type": "display_data",
          "data": {
            "text/markdown": "occupation: 2809 records",
            "text/plain": [
              "<IPython.core.display.Markdown object>"
            ]
          },
          "metadata": {
            "tags": []
          }
        },
        {
          "output_type": "display_data",
          "data": {
            "text/markdown": "native-country: 857 records",
            "text/plain": [
              "<IPython.core.display.Markdown object>"
            ]
          },
          "metadata": {
            "tags": []
          }
        }
      ]
    },
    {
      "cell_type": "markdown",
      "metadata": {
        "id": "6boa2A5PXjUL"
      },
      "source": [
        "### Treating Missing Values by predicting them\n",
        "\n",
        "I fill the missing values in each of the three columns by predicting their values. For each of the three columns, I use all the attributes (including 'income') as independent variables and treat that column as the dependent variable, making it a multi-class classification task. I use three classification algorithms, namely, logistic regression, decision trees and random forest to predict the class when the value is missing (in this case a '?'). I then take a majority vote amongst the three classifiers to be the class of the missing value. In case of a tie, I pick the majority class of that column using the entire dataset."
      ]
    },
    {
      "cell_type": "code",
      "metadata": {
        "id": "RbdjpeD8XjUM"
      },
      "source": [
        "# Create one hot encoding of the categorical columns in the data frame.\n",
        "def oneHotCatVars(df, df_cols):\n",
        "    \n",
        "    df_1 = adult_data = df.drop(columns = df_cols, axis = 1)\n",
        "    df_2 = pd.get_dummies(df[df_cols])\n",
        "    \n",
        "    return (pd.concat([df_1, df_2], axis=1, join='inner'))"
      ],
      "execution_count": 7,
      "outputs": []
    },
    {
      "cell_type": "code",
      "metadata": {
        "id": "LRhITCAJXjUO",
        "colab": {
          "base_uri": "https://localhost:8080/",
          "height": 430
        },
        "outputId": "7df647b2-93bb-4fa5-c86a-7684e6567f11"
      },
      "source": [
        "printmd('### 1.4.1. Filling in missing values for Attribute workclass')\n",
        "\n",
        "test_data = adult[(adult.workclass.values == '?')].copy()\n",
        "test_label = test_data.workclass\n",
        "\n",
        "train_data = adult[(adult.workclass.values != '?')].copy()\n",
        "train_label = train_data.workclass\n",
        "\n",
        "test_data.drop(columns = ['workclass'], inplace = True)\n",
        "train_data.drop(columns = ['workclass'], inplace = True)\n",
        "\n",
        "train_data = oneHotCatVars(train_data, train_data.select_dtypes('category').columns)\n",
        "test_data = oneHotCatVars(test_data, test_data.select_dtypes('category').columns)\n",
        "\n",
        "log_reg = LogisticRegression()\n",
        "log_reg.fit(train_data, train_label)\n",
        "log_reg_pred = log_reg.predict(test_data)\n",
        "\n",
        "\n",
        "clf = tree.DecisionTreeClassifier()\n",
        "clf = clf.fit(train_data, train_label)\n",
        "clf_pred = clf.predict(test_data)\n",
        "\n",
        "r_forest = RandomForestClassifier(n_estimators=10)\n",
        "r_forest.fit(train_data, train_label)\n",
        "r_forest_pred = r_forest.predict(test_data)\n",
        "\n",
        "majority_class = adult.workclass.value_counts().index[0]\n",
        "\n",
        "pred_df =  pd.DataFrame({'RFor': r_forest_pred, 'DTree' : clf_pred, 'LogReg' : log_reg_pred})\n",
        "overall_pred = pred_df.apply(lambda x: x.value_counts().index[0] if x.value_counts()[0] > 1 else majority_class, axis = 1)\n",
        "\n",
        "adult.loc[(adult.workclass.values == '?'),'workclass'] = overall_pred.values\n",
        "print(adult.workclass.value_counts())\n",
        "print(adult.workclass.unique())"
      ],
      "execution_count": 8,
      "outputs": [
        {
          "output_type": "display_data",
          "data": {
            "text/markdown": "### 1.4.1. Filling in missing values for Attribute workclass",
            "text/plain": [
              "<IPython.core.display.Markdown object>"
            ]
          },
          "metadata": {
            "tags": []
          }
        },
        {
          "output_type": "stream",
          "text": [
            "/usr/local/lib/python3.6/dist-packages/sklearn/linear_model/_logistic.py:940: ConvergenceWarning: lbfgs failed to converge (status=1):\n",
            "STOP: TOTAL NO. of ITERATIONS REACHED LIMIT.\n",
            "\n",
            "Increase the number of iterations (max_iter) or scale the data as shown in:\n",
            "    https://scikit-learn.org/stable/modules/preprocessing.html\n",
            "Please also refer to the documentation for alternative solver options:\n",
            "    https://scikit-learn.org/stable/modules/linear_model.html#logistic-regression\n",
            "  extra_warning_msg=_LOGISTIC_SOLVER_CONVERGENCE_MSG)\n"
          ],
          "name": "stderr"
        },
        {
          "output_type": "stream",
          "text": [
            "Private             36445\n",
            "Self-emp-not-inc     3872\n",
            "Local-gov            3142\n",
            "State-gov            1983\n",
            "Self-emp-inc         1695\n",
            "Federal-gov          1432\n",
            "Never-worked          252\n",
            "Without-pay            21\n",
            "?                       0\n",
            "Name: workclass, dtype: int64\n",
            "['Private', 'Local-gov', 'Self-emp-not-inc', 'Federal-gov', 'State-gov', 'Self-emp-inc', 'Never-worked', 'Without-pay']\n",
            "Categories (8, object): ['Private', 'Local-gov', 'Self-emp-not-inc', 'Federal-gov', 'State-gov',\n",
            "                         'Self-emp-inc', 'Never-worked', 'Without-pay']\n"
          ],
          "name": "stdout"
        }
      ]
    },
    {
      "cell_type": "code",
      "metadata": {
        "colab": {
          "base_uri": "https://localhost:8080/",
          "height": 575
        },
        "id": "Zgnez3v5XjUS",
        "outputId": "7b629374-9dce-4c07-bc88-63d7f6bee017"
      },
      "source": [
        "printmd('### 1.4.2. Filling in missing values for Occupation occupation')\n",
        "\n",
        "test_data = adult[(adult.occupation.values == '?')].copy()\n",
        "test_label = test_data.occupation\n",
        "\n",
        "train_data = adult[(adult.occupation.values != '?')].copy()\n",
        "train_label = train_data.occupation\n",
        "\n",
        "test_data.drop(columns = ['occupation'], inplace = True)\n",
        "train_data.drop(columns = ['occupation'], inplace = True)\n",
        "\n",
        "train_data = oneHotCatVars(train_data, train_data.select_dtypes('category').columns)\n",
        "test_data = oneHotCatVars(test_data, test_data.select_dtypes('category').columns)\n",
        "\n",
        "log_reg = LogisticRegression()\n",
        "log_reg.fit(train_data, train_label)\n",
        "log_reg_pred = log_reg.predict(test_data)\n",
        "\n",
        "\n",
        "clf = tree.DecisionTreeClassifier()\n",
        "clf = clf.fit(train_data, train_label)\n",
        "clf_pred = clf.predict(test_data)\n",
        "\n",
        "r_forest = RandomForestClassifier(n_estimators=10)\n",
        "r_forest.fit(train_data, train_label)\n",
        "r_forest_pred = r_forest.predict(test_data)\n",
        "\n",
        "\n",
        "majority_class = adult.occupation.value_counts().index[0]\n",
        "\n",
        "pred_df =  pd.DataFrame({'RFor': r_forest_pred, 'DTree' : clf_pred, 'LogReg' : log_reg_pred})\n",
        "overall_pred = pred_df.apply(lambda x: x.value_counts().index[0] if x.value_counts()[0] > 1 else majority_class, axis = 1)\n",
        "\n",
        "adult.loc[(adult.occupation.values == '?'),'occupation'] = overall_pred.values\n",
        "print(adult.occupation.value_counts())\n",
        "print(adult.occupation.unique())"
      ],
      "execution_count": 9,
      "outputs": [
        {
          "output_type": "display_data",
          "data": {
            "text/markdown": "### 1.4.2. Filling in missing values for Occupation occupation",
            "text/plain": [
              "<IPython.core.display.Markdown object>"
            ]
          },
          "metadata": {
            "tags": []
          }
        },
        {
          "output_type": "stream",
          "text": [
            "/usr/local/lib/python3.6/dist-packages/sklearn/linear_model/_logistic.py:940: ConvergenceWarning: lbfgs failed to converge (status=1):\n",
            "STOP: TOTAL NO. of ITERATIONS REACHED LIMIT.\n",
            "\n",
            "Increase the number of iterations (max_iter) or scale the data as shown in:\n",
            "    https://scikit-learn.org/stable/modules/preprocessing.html\n",
            "Please also refer to the documentation for alternative solver options:\n",
            "    https://scikit-learn.org/stable/modules/linear_model.html#logistic-regression\n",
            "  extra_warning_msg=_LOGISTIC_SOLVER_CONVERGENCE_MSG)\n"
          ],
          "name": "stderr"
        },
        {
          "output_type": "stream",
          "text": [
            "Prof-specialty       7732\n",
            "Craft-repair         6574\n",
            "Exec-managerial      6141\n",
            "Adm-clerical         5785\n",
            "Sales                5640\n",
            "Other-service        5166\n",
            "Machine-op-inspct    3080\n",
            "Transport-moving     2391\n",
            "Handlers-cleaners    2106\n",
            "Farming-fishing      1510\n",
            "Tech-support         1461\n",
            "Protective-serv       991\n",
            "Priv-house-serv       250\n",
            "Armed-Forces           15\n",
            "?                       0\n",
            "Name: occupation, dtype: int64\n",
            "['Machine-op-inspct', 'Farming-fishing', 'Protective-serv', 'Prof-specialty', 'Other-service', ..., 'Sales', 'Priv-house-serv', 'Transport-moving', 'Handlers-cleaners', 'Armed-Forces']\n",
            "Length: 14\n",
            "Categories (14, object): ['Machine-op-inspct', 'Farming-fishing', 'Protective-serv', 'Prof-specialty', ...,\n",
            "                          'Priv-house-serv', 'Transport-moving', 'Handlers-cleaners', 'Armed-Forces']\n"
          ],
          "name": "stdout"
        }
      ]
    },
    {
      "cell_type": "code",
      "metadata": {
        "colab": {
          "base_uri": "https://localhost:8080/",
          "height": 1000
        },
        "id": "ZF-cDppzXjUV",
        "outputId": "19bf225f-ef2f-4538-dc57-22771f60c91e"
      },
      "source": [
        "printmd('### 1.4.3. Filling in missing values for Native Country')\n",
        "\n",
        "test_data = adult[(adult['native-country'].values == '?')].copy()\n",
        "test_label = test_data['native-country']\n",
        "\n",
        "train_data = adult[(adult['native-country'].values != '?')].copy()\n",
        "train_label = train_data['native-country']\n",
        "\n",
        "test_data.drop(columns = ['native-country'], inplace = True)\n",
        "train_data.drop(columns = ['native-country'], inplace = True)\n",
        "\n",
        "train_data = oneHotCatVars(train_data, train_data.select_dtypes('category').columns)\n",
        "test_data = oneHotCatVars(test_data, test_data.select_dtypes('category').columns)\n",
        "\n",
        "log_reg = LogisticRegression()\n",
        "log_reg.fit(train_data, train_label)\n",
        "log_reg_pred = log_reg.predict(test_data)\n",
        "\n",
        "\n",
        "clf = tree.DecisionTreeClassifier()\n",
        "clf = clf.fit(train_data, train_label)\n",
        "clf_pred = clf.predict(test_data)\n",
        "\n",
        "r_forest = RandomForestClassifier(n_estimators=10)\n",
        "r_forest.fit(train_data, train_label)\n",
        "r_forest_pred = r_forest.predict(test_data)\n",
        "\n",
        "\n",
        "majority_class = adult['native-country'].value_counts().index[0]\n",
        "\n",
        "pred_df =  pd.DataFrame({'RFor': r_forest_pred, 'DTree' : clf_pred, 'LogReg' : log_reg_pred})\n",
        "overall_pred = pred_df.apply(lambda x: x.value_counts().index[0] if x.value_counts()[0] > 1 else majority_class, axis = 1)\n",
        "\n",
        "adult.loc[(adult['native-country'].values == '?'),'native-country'] = overall_pred.values\n",
        "print(adult['native-country'].value_counts())\n",
        "print(adult['native-country'].unique())"
      ],
      "execution_count": 10,
      "outputs": [
        {
          "output_type": "display_data",
          "data": {
            "text/markdown": "### 1.4.3. Filling in missing values for Native Country",
            "text/plain": [
              "<IPython.core.display.Markdown object>"
            ]
          },
          "metadata": {
            "tags": []
          }
        },
        {
          "output_type": "stream",
          "text": [
            "/usr/local/lib/python3.6/dist-packages/sklearn/linear_model/_logistic.py:940: ConvergenceWarning: lbfgs failed to converge (status=1):\n",
            "STOP: TOTAL NO. of ITERATIONS REACHED LIMIT.\n",
            "\n",
            "Increase the number of iterations (max_iter) or scale the data as shown in:\n",
            "    https://scikit-learn.org/stable/modules/preprocessing.html\n",
            "Please also refer to the documentation for alternative solver options:\n",
            "    https://scikit-learn.org/stable/modules/linear_model.html#logistic-regression\n",
            "  extra_warning_msg=_LOGISTIC_SOLVER_CONVERGENCE_MSG)\n"
          ],
          "name": "stderr"
        },
        {
          "output_type": "stream",
          "text": [
            "United-States                 44654\n",
            "Mexico                          960\n",
            "Philippines                     303\n",
            "Germany                         206\n",
            "Puerto-Rico                     184\n",
            "Canada                          182\n",
            "India                           155\n",
            "El-Salvador                     155\n",
            "Cuba                            138\n",
            "England                         127\n",
            "China                           124\n",
            "South                           120\n",
            "Jamaica                         106\n",
            "Italy                           105\n",
            "Dominican-Republic              103\n",
            "Japan                            94\n",
            "Guatemala                        88\n",
            "Poland                           87\n",
            "Vietnam                          87\n",
            "Columbia                         85\n",
            "Haiti                            75\n",
            "Portugal                         67\n",
            "Taiwan                           66\n",
            "Iran                             59\n",
            "Nicaragua                        49\n",
            "Greece                           49\n",
            "Peru                             46\n",
            "Ecuador                          45\n",
            "France                           38\n",
            "Ireland                          37\n",
            "Hong                             31\n",
            "Thailand                         30\n",
            "Cambodia                         28\n",
            "Trinadad&Tobago                  27\n",
            "Laos                             25\n",
            "Yugoslavia                       23\n",
            "Outlying-US(Guam-USVI-etc)       23\n",
            "Scotland                         21\n",
            "Honduras                         20\n",
            "Hungary                          19\n",
            "Holand-Netherlands                1\n",
            "?                                 0\n",
            "Name: native-country, dtype: int64\n",
            "['United-States', 'India', 'Peru', 'Guatemala', 'Mexico', ..., 'Greece', 'Trinadad&Tobago', 'Outlying-US(Guam-USVI-etc)', 'France', 'Holand-Netherlands']\n",
            "Length: 41\n",
            "Categories (41, object): ['United-States', 'India', 'Peru', 'Guatemala', ..., 'Trinadad&Tobago',\n",
            "                          'Outlying-US(Guam-USVI-etc)', 'France', 'Holand-Netherlands']\n"
          ],
          "name": "stdout"
        }
      ]
    },
    {
      "cell_type": "code",
      "metadata": {
        "id": "LL5jxrCeXjUY"
      },
      "source": [
        "# Resetting the categories\n",
        "\n",
        "adult['workclass'] = adult['workclass'].cat.remove_categories('?')\n",
        "adult['occupation'] = adult['occupation'].cat.remove_categories('?')\n",
        "adult['native-country'] = adult['native-country'].cat.remove_categories('?')\n",
        "\n"
      ],
      "execution_count": 11,
      "outputs": []
    },
    {
      "cell_type": "code",
      "metadata": {
        "colab": {
          "base_uri": "https://localhost:8080/",
          "height": 308
        },
        "id": "dQLO9YOpXjUb",
        "outputId": "1ce6780f-6460-4ffa-9bd8-174da40ca002"
      },
      "source": [
        "printmd('## 1.5. Correlation Matrix')\n",
        "\n",
        "display(adult.corr())\n",
        "\n",
        "printmd('We see that none of the columns are highly correlated.')"
      ],
      "execution_count": 12,
      "outputs": [
        {
          "output_type": "display_data",
          "data": {
            "text/markdown": "## 1.5. Correlation Matrix",
            "text/plain": [
              "<IPython.core.display.Markdown object>"
            ]
          },
          "metadata": {
            "tags": []
          }
        },
        {
          "output_type": "display_data",
          "data": {
            "text/html": [
              "<div>\n",
              "<style scoped>\n",
              "    .dataframe tbody tr th:only-of-type {\n",
              "        vertical-align: middle;\n",
              "    }\n",
              "\n",
              "    .dataframe tbody tr th {\n",
              "        vertical-align: top;\n",
              "    }\n",
              "\n",
              "    .dataframe thead th {\n",
              "        text-align: right;\n",
              "    }\n",
              "</style>\n",
              "<table border=\"1\" class=\"dataframe\">\n",
              "  <thead>\n",
              "    <tr style=\"text-align: right;\">\n",
              "      <th></th>\n",
              "      <th>age</th>\n",
              "      <th>fnlwgt</th>\n",
              "      <th>educational-num</th>\n",
              "      <th>capital-gain</th>\n",
              "      <th>capital-loss</th>\n",
              "      <th>hours-per-week</th>\n",
              "    </tr>\n",
              "  </thead>\n",
              "  <tbody>\n",
              "    <tr>\n",
              "      <th>age</th>\n",
              "      <td>1.000000</td>\n",
              "      <td>-0.076628</td>\n",
              "      <td>0.030940</td>\n",
              "      <td>0.077229</td>\n",
              "      <td>0.056944</td>\n",
              "      <td>0.071558</td>\n",
              "    </tr>\n",
              "    <tr>\n",
              "      <th>fnlwgt</th>\n",
              "      <td>-0.076628</td>\n",
              "      <td>1.000000</td>\n",
              "      <td>-0.038761</td>\n",
              "      <td>-0.003706</td>\n",
              "      <td>-0.004366</td>\n",
              "      <td>-0.013519</td>\n",
              "    </tr>\n",
              "    <tr>\n",
              "      <th>educational-num</th>\n",
              "      <td>0.030940</td>\n",
              "      <td>-0.038761</td>\n",
              "      <td>1.000000</td>\n",
              "      <td>0.125146</td>\n",
              "      <td>0.080972</td>\n",
              "      <td>0.143689</td>\n",
              "    </tr>\n",
              "    <tr>\n",
              "      <th>capital-gain</th>\n",
              "      <td>0.077229</td>\n",
              "      <td>-0.003706</td>\n",
              "      <td>0.125146</td>\n",
              "      <td>1.000000</td>\n",
              "      <td>-0.031441</td>\n",
              "      <td>0.082157</td>\n",
              "    </tr>\n",
              "    <tr>\n",
              "      <th>capital-loss</th>\n",
              "      <td>0.056944</td>\n",
              "      <td>-0.004366</td>\n",
              "      <td>0.080972</td>\n",
              "      <td>-0.031441</td>\n",
              "      <td>1.000000</td>\n",
              "      <td>0.054467</td>\n",
              "    </tr>\n",
              "    <tr>\n",
              "      <th>hours-per-week</th>\n",
              "      <td>0.071558</td>\n",
              "      <td>-0.013519</td>\n",
              "      <td>0.143689</td>\n",
              "      <td>0.082157</td>\n",
              "      <td>0.054467</td>\n",
              "      <td>1.000000</td>\n",
              "    </tr>\n",
              "  </tbody>\n",
              "</table>\n",
              "</div>"
            ],
            "text/plain": [
              "                      age    fnlwgt  ...  capital-loss  hours-per-week\n",
              "age              1.000000 -0.076628  ...      0.056944        0.071558\n",
              "fnlwgt          -0.076628  1.000000  ...     -0.004366       -0.013519\n",
              "educational-num  0.030940 -0.038761  ...      0.080972        0.143689\n",
              "capital-gain     0.077229 -0.003706  ...     -0.031441        0.082157\n",
              "capital-loss     0.056944 -0.004366  ...      1.000000        0.054467\n",
              "hours-per-week   0.071558 -0.013519  ...      0.054467        1.000000\n",
              "\n",
              "[6 rows x 6 columns]"
            ]
          },
          "metadata": {
            "tags": []
          }
        },
        {
          "output_type": "display_data",
          "data": {
            "text/markdown": "We see that none of the columns are highly correlated.",
            "text/plain": [
              "<IPython.core.display.Markdown object>"
            ]
          },
          "metadata": {
            "tags": []
          }
        }
      ]
    },
    {
      "cell_type": "markdown",
      "metadata": {
        "id": "AREaz8qXXjU7"
      },
      "source": [
        "---\n",
        "# 3. Data Transformations"
      ]
    },
    {
      "cell_type": "markdown",
      "metadata": {
        "id": "F8iE-nbSXjU8"
      },
      "source": [
        "## 3.1. Feature Selection"
      ]
    },
    {
      "cell_type": "code",
      "metadata": {
        "colab": {
          "base_uri": "https://localhost:8080/",
          "height": 0
        },
        "id": "LH9G6CIHXjU8",
        "outputId": "db392ca4-f951-4912-c324-3700d3c09005"
      },
      "source": [
        "# Remove education and fnlwgt\n",
        "#adult.drop(columns = ['education','fnlwgt','hours-per-week'], inplace = True)\n",
        "\n",
        "printmd('* For education level, we have 2 features that convey the same meaning, \\'education\\' \\\n",
        "        and \\'educational-num\\'. To avoid the effect of this attribute on the models to be \\\n",
        "        overstated, I am not going to use the categorical education attribute.')\n",
        "printmd('* I use the categorical Hours work column and drop the \\'hour-per-week\\' column')\n",
        "printmd('* Also, I chose not to use the \\'Fnlwgt\\' attribute that is used by the census, \\\n",
        "        as the inverse of sampling fraction adjusted for non-response and over or under sampling \\\n",
        "        of particular groups. This attribute does not convey individual related meaning.')\n"
      ],
      "execution_count": 13,
      "outputs": [
        {
          "output_type": "display_data",
          "data": {
            "text/markdown": "* For education level, we have 2 features that convey the same meaning, 'education'         and 'educational-num'. To avoid the effect of this attribute on the models to be         overstated, I am not going to use the categorical education attribute.",
            "text/plain": [
              "<IPython.core.display.Markdown object>"
            ]
          },
          "metadata": {
            "tags": []
          }
        },
        {
          "output_type": "display_data",
          "data": {
            "text/markdown": "* I use the categorical Hours work column and drop the 'hour-per-week' column",
            "text/plain": [
              "<IPython.core.display.Markdown object>"
            ]
          },
          "metadata": {
            "tags": []
          }
        },
        {
          "output_type": "display_data",
          "data": {
            "text/markdown": "* Also, I chose not to use the 'Fnlwgt' attribute that is used by the census,         as the inverse of sampling fraction adjusted for non-response and over or under sampling         of particular groups. This attribute does not convey individual related meaning.",
            "text/plain": [
              "<IPython.core.display.Markdown object>"
            ]
          },
          "metadata": {
            "tags": []
          }
        }
      ]
    },
    {
      "cell_type": "markdown",
      "metadata": {
        "id": "3Vx3VUoWXjU_"
      },
      "source": [
        "## 3.2 Normalization"
      ]
    },
    {
      "cell_type": "code",
      "metadata": {
        "colab": {
          "base_uri": "https://localhost:8080/",
          "height": 0
        },
        "id": "Ba1CD-wwXjU_",
        "outputId": "5ca01c78-4462-4c28-cc96-2ba1e3150207"
      },
      "source": [
        "printmd('## Box plot')\n",
        "adult.select_dtypes(exclude = 'category').plot(kind = 'box', figsize = (10,8))"
      ],
      "execution_count": 14,
      "outputs": [
        {
          "output_type": "display_data",
          "data": {
            "text/markdown": "## Box plot",
            "text/plain": [
              "<IPython.core.display.Markdown object>"
            ]
          },
          "metadata": {
            "tags": []
          }
        },
        {
          "output_type": "execute_result",
          "data": {
            "text/plain": [
              "<matplotlib.axes._subplots.AxesSubplot at 0x7f66b245c390>"
            ]
          },
          "metadata": {
            "tags": []
          },
          "execution_count": 14
        },
        {
          "output_type": "display_data",
          "data": {
            "image/png": "[encoded data removed]",
            "text/plain": [
              "<Figure size 720x576 with 1 Axes>"
            ]
          },
          "metadata": {
            "tags": [],
            "needs_background": "light"
          }
        }
      ]
    },
    {
      "cell_type": "code",
      "metadata": {
        "colab": {
          "base_uri": "https://localhost:8080/",
          "height": 0
        },
        "id": "8mrrqEjsXjVC",
        "outputId": "98c99de1-c553-4285-b763-b213080d14e6"
      },
      "source": [
        "printmd ('Normalization happens on the training dataset, by removing the mean and \\\n",
        "        scaling to unit variance. These values are stored and then later applied  \\\n",
        "        to the test data before the test data is passed to the model for prediction. ')"
      ],
      "execution_count": 15,
      "outputs": [
        {
          "output_type": "display_data",
          "data": {
            "text/markdown": "Normalization happens on the training dataset, by removing the mean and         scaling to unit variance. These values are stored and then later applied          to the test data before the test data is passed to the model for prediction. ",
            "text/plain": [
              "<IPython.core.display.Markdown object>"
            ]
          },
          "metadata": {
            "tags": []
          }
        }
      ]
    },
    {
      "cell_type": "markdown",
      "metadata": {
        "id": "YTJwI8mqXjVE"
      },
      "source": [
        "---\n",
        "# 4. Model Development & Classification "
      ]
    },
    {
      "cell_type": "markdown",
      "metadata": {
        "id": "ITSDBxiIXjVE"
      },
      "source": [
        "## 4.1. Data Preparation'\n",
        "\n",
        "One-hot encoding is the process of representing multi-class categorical features as binary features, one for each class. Although this process increases the dimensionality of the dataset, classification algorithms tend to work better on this format of data.\n",
        "\n",
        "I use one-hot encoding to represent all the categorical features in the dataset. \n"
      ]
    },
    {
      "cell_type": "code",
      "metadata": {
        "id": "ewXnHqdYXjVF"
      },
      "source": [
        "# Data Prep\n",
        "adult_data = adult.drop(columns = ['income'])\n",
        "adult_label = adult.income\n",
        "\n",
        "\n",
        "adult_cat_1hot = pd.get_dummies(adult_data.select_dtypes('category'))\n",
        "adult_non_cat = adult_data.select_dtypes(exclude = 'category')\n",
        "\n",
        "adult_data_1hot = pd.concat([adult_non_cat, adult_cat_1hot], axis=1, join='inner')\n"
      ],
      "execution_count": 16,
      "outputs": []
    },
    {
      "cell_type": "code",
      "metadata": {
        "id": "hB-QJF4wEmCk"
      },
      "source": [
        "def vectorize_sequences(squences, dimension=10000):\n",
        "    \"\"\"\n",
        "    @函数功能:将序列向量化，初始化全0的序列，在单词索引对应的位置上置1\n",
        "    \"\"\"\n",
        "    resluts = np.zeros((len(squences), dimension))\n",
        "    for i, sequence in enumerate(squences):\n",
        "        resluts[i, sequence] = 1\n",
        "    return resluts"
      ],
      "execution_count": 17,
      "outputs": []
    },
    {
      "cell_type": "code",
      "metadata": {
        "id": "Kf3D4CAzFW7z"
      },
      "source": [
        "def encode_label(label):\n",
        "  if label == '>50K':\n",
        "    return 1\n",
        "  return 0"
      ],
      "execution_count": 18,
      "outputs": []
    },
    {
      "cell_type": "code",
      "metadata": {
        "colab": {
          "base_uri": "https://localhost:8080/"
        },
        "id": "4MYtGIfIFo4J",
        "outputId": "249bf1a9-64a1-430d-d59e-5f8305829982"
      },
      "source": [
        "adult_label.values"
      ],
      "execution_count": 19,
      "outputs": [
        {
          "output_type": "execute_result",
          "data": {
            "text/plain": [
              "['<=50K', '<=50K', '>50K', '>50K', '<=50K', ..., '<=50K', '>50K', '<=50K', '<=50K', '>50K']\n",
              "Length: 48842\n",
              "Categories (2, object): ['<=50K', '>50K']"
            ]
          },
          "metadata": {
            "tags": []
          },
          "execution_count": 19
        }
      ]
    },
    {
      "cell_type": "code",
      "metadata": {
        "id": "wGIb20RPEm1m"
      },
      "source": [
        "yyyy = np.array( [ encode_label(i) for i in adult_label.values ] )"
      ],
      "execution_count": 20,
      "outputs": []
    },
    {
      "cell_type": "code",
      "metadata": {
        "id": "iCplO8pqXjVH"
      },
      "source": [
        "# Train - Test split\n",
        "train_data, test_data, train_label, test_label = train_test_split(adult_data_1hot, yyyy, test_size  = 0.25)"
      ],
      "execution_count": 21,
      "outputs": []
    },
    {
      "cell_type": "code",
      "metadata": {
        "colab": {
          "base_uri": "https://localhost:8080/",
          "height": 468
        },
        "id": "6S3YEr6GovyO",
        "outputId": "1238e9bc-4bb4-45fd-d238-222b27756927"
      },
      "source": [
        "train_data"
      ],
      "execution_count": 22,
      "outputs": [
        {
          "output_type": "execute_result",
          "data": {
            "text/html": [
              "<div>\n",
              "<style scoped>\n",
              "    .dataframe tbody tr th:only-of-type {\n",
              "        vertical-align: middle;\n",
              "    }\n",
              "\n",
              "    .dataframe tbody tr th {\n",
              "        vertical-align: top;\n",
              "    }\n",
              "\n",
              "    .dataframe thead th {\n",
              "        text-align: right;\n",
              "    }\n",
              "</style>\n",
              "<table border=\"1\" class=\"dataframe\">\n",
              "  <thead>\n",
              "    <tr style=\"text-align: right;\">\n",
              "      <th></th>\n",
              "      <th>age</th>\n",
              "      <th>fnlwgt</th>\n",
              "      <th>educational-num</th>\n",
              "      <th>capital-gain</th>\n",
              "      <th>capital-loss</th>\n",
              "      <th>hours-per-week</th>\n",
              "      <th>workclass_Federal-gov</th>\n",
              "      <th>workclass_Local-gov</th>\n",
              "      <th>workclass_Never-worked</th>\n",
              "      <th>workclass_Private</th>\n",
              "      <th>workclass_Self-emp-inc</th>\n",
              "      <th>workclass_Self-emp-not-inc</th>\n",
              "      <th>workclass_State-gov</th>\n",
              "      <th>workclass_Without-pay</th>\n",
              "      <th>education_10th</th>\n",
              "      <th>education_11th</th>\n",
              "      <th>education_12th</th>\n",
              "      <th>education_1st-4th</th>\n",
              "      <th>education_5th-6th</th>\n",
              "      <th>education_7th-8th</th>\n",
              "      <th>education_9th</th>\n",
              "      <th>education_Assoc-acdm</th>\n",
              "      <th>education_Assoc-voc</th>\n",
              "      <th>education_Bachelors</th>\n",
              "      <th>education_Doctorate</th>\n",
              "      <th>education_HS-grad</th>\n",
              "      <th>education_Masters</th>\n",
              "      <th>education_Preschool</th>\n",
              "      <th>education_Prof-school</th>\n",
              "      <th>education_Some-college</th>\n",
              "      <th>marital-status_Divorced</th>\n",
              "      <th>marital-status_Married-AF-spouse</th>\n",
              "      <th>marital-status_Married-civ-spouse</th>\n",
              "      <th>marital-status_Married-spouse-absent</th>\n",
              "      <th>marital-status_Never-married</th>\n",
              "      <th>marital-status_Separated</th>\n",
              "      <th>marital-status_Widowed</th>\n",
              "      <th>occupation_Adm-clerical</th>\n",
              "      <th>occupation_Armed-Forces</th>\n",
              "      <th>occupation_Craft-repair</th>\n",
              "      <th>...</th>\n",
              "      <th>native-country_Canada</th>\n",
              "      <th>native-country_China</th>\n",
              "      <th>native-country_Columbia</th>\n",
              "      <th>native-country_Cuba</th>\n",
              "      <th>native-country_Dominican-Republic</th>\n",
              "      <th>native-country_Ecuador</th>\n",
              "      <th>native-country_El-Salvador</th>\n",
              "      <th>native-country_England</th>\n",
              "      <th>native-country_France</th>\n",
              "      <th>native-country_Germany</th>\n",
              "      <th>native-country_Greece</th>\n",
              "      <th>native-country_Guatemala</th>\n",
              "      <th>native-country_Haiti</th>\n",
              "      <th>native-country_Holand-Netherlands</th>\n",
              "      <th>native-country_Honduras</th>\n",
              "      <th>native-country_Hong</th>\n",
              "      <th>native-country_Hungary</th>\n",
              "      <th>native-country_India</th>\n",
              "      <th>native-country_Iran</th>\n",
              "      <th>native-country_Ireland</th>\n",
              "      <th>native-country_Italy</th>\n",
              "      <th>native-country_Jamaica</th>\n",
              "      <th>native-country_Japan</th>\n",
              "      <th>native-country_Laos</th>\n",
              "      <th>native-country_Mexico</th>\n",
              "      <th>native-country_Nicaragua</th>\n",
              "      <th>native-country_Outlying-US(Guam-USVI-etc)</th>\n",
              "      <th>native-country_Peru</th>\n",
              "      <th>native-country_Philippines</th>\n",
              "      <th>native-country_Poland</th>\n",
              "      <th>native-country_Portugal</th>\n",
              "      <th>native-country_Puerto-Rico</th>\n",
              "      <th>native-country_Scotland</th>\n",
              "      <th>native-country_South</th>\n",
              "      <th>native-country_Taiwan</th>\n",
              "      <th>native-country_Thailand</th>\n",
              "      <th>native-country_Trinadad&amp;Tobago</th>\n",
              "      <th>native-country_United-States</th>\n",
              "      <th>native-country_Vietnam</th>\n",
              "      <th>native-country_Yugoslavia</th>\n",
              "    </tr>\n",
              "  </thead>\n",
              "  <tbody>\n",
              "    <tr>\n",
              "      <th>32272</th>\n",
              "      <td>28</td>\n",
              "      <td>192588</td>\n",
              "      <td>9</td>\n",
              "      <td>0</td>\n",
              "      <td>0</td>\n",
              "      <td>40</td>\n",
              "      <td>0</td>\n",
              "      <td>0</td>\n",
              "      <td>0</td>\n",
              "      <td>1</td>\n",
              "      <td>0</td>\n",
              "      <td>0</td>\n",
              "      <td>0</td>\n",
              "      <td>0</td>\n",
              "      <td>0</td>\n",
              "      <td>0</td>\n",
              "      <td>0</td>\n",
              "      <td>0</td>\n",
              "      <td>0</td>\n",
              "      <td>0</td>\n",
              "      <td>0</td>\n",
              "      <td>0</td>\n",
              "      <td>0</td>\n",
              "      <td>0</td>\n",
              "      <td>0</td>\n",
              "      <td>1</td>\n",
              "      <td>0</td>\n",
              "      <td>0</td>\n",
              "      <td>0</td>\n",
              "      <td>0</td>\n",
              "      <td>0</td>\n",
              "      <td>0</td>\n",
              "      <td>1</td>\n",
              "      <td>0</td>\n",
              "      <td>0</td>\n",
              "      <td>0</td>\n",
              "      <td>0</td>\n",
              "      <td>0</td>\n",
              "      <td>0</td>\n",
              "      <td>0</td>\n",
              "      <td>...</td>\n",
              "      <td>0</td>\n",
              "      <td>0</td>\n",
              "      <td>0</td>\n",
              "      <td>0</td>\n",
              "      <td>0</td>\n",
              "      <td>0</td>\n",
              "      <td>0</td>\n",
              "      <td>0</td>\n",
              "      <td>0</td>\n",
              "      <td>0</td>\n",
              "      <td>0</td>\n",
              "      <td>0</td>\n",
              "      <td>0</td>\n",
              "      <td>0</td>\n",
              "      <td>0</td>\n",
              "      <td>0</td>\n",
              "      <td>0</td>\n",
              "      <td>0</td>\n",
              "      <td>0</td>\n",
              "      <td>0</td>\n",
              "      <td>0</td>\n",
              "      <td>0</td>\n",
              "      <td>0</td>\n",
              "      <td>0</td>\n",
              "      <td>0</td>\n",
              "      <td>0</td>\n",
              "      <td>0</td>\n",
              "      <td>0</td>\n",
              "      <td>0</td>\n",
              "      <td>0</td>\n",
              "      <td>0</td>\n",
              "      <td>0</td>\n",
              "      <td>0</td>\n",
              "      <td>0</td>\n",
              "      <td>0</td>\n",
              "      <td>0</td>\n",
              "      <td>0</td>\n",
              "      <td>1</td>\n",
              "      <td>0</td>\n",
              "      <td>0</td>\n",
              "    </tr>\n",
              "    <tr>\n",
              "      <th>42251</th>\n",
              "      <td>31</td>\n",
              "      <td>208881</td>\n",
              "      <td>10</td>\n",
              "      <td>0</td>\n",
              "      <td>0</td>\n",
              "      <td>40</td>\n",
              "      <td>0</td>\n",
              "      <td>0</td>\n",
              "      <td>0</td>\n",
              "      <td>1</td>\n",
              "      <td>0</td>\n",
              "      <td>0</td>\n",
              "      <td>0</td>\n",
              "      <td>0</td>\n",
              "      <td>0</td>\n",
              "      <td>0</td>\n",
              "      <td>0</td>\n",
              "      <td>0</td>\n",
              "      <td>0</td>\n",
              "      <td>0</td>\n",
              "      <td>0</td>\n",
              "      <td>0</td>\n",
              "      <td>0</td>\n",
              "      <td>0</td>\n",
              "      <td>0</td>\n",
              "      <td>0</td>\n",
              "      <td>0</td>\n",
              "      <td>0</td>\n",
              "      <td>0</td>\n",
              "      <td>1</td>\n",
              "      <td>0</td>\n",
              "      <td>0</td>\n",
              "      <td>1</td>\n",
              "      <td>0</td>\n",
              "      <td>0</td>\n",
              "      <td>0</td>\n",
              "      <td>0</td>\n",
              "      <td>0</td>\n",
              "      <td>0</td>\n",
              "      <td>1</td>\n",
              "      <td>...</td>\n",
              "      <td>0</td>\n",
              "      <td>0</td>\n",
              "      <td>0</td>\n",
              "      <td>0</td>\n",
              "      <td>0</td>\n",
              "      <td>0</td>\n",
              "      <td>0</td>\n",
              "      <td>0</td>\n",
              "      <td>0</td>\n",
              "      <td>0</td>\n",
              "      <td>0</td>\n",
              "      <td>0</td>\n",
              "      <td>0</td>\n",
              "      <td>0</td>\n",
              "      <td>0</td>\n",
              "      <td>0</td>\n",
              "      <td>0</td>\n",
              "      <td>0</td>\n",
              "      <td>0</td>\n",
              "      <td>0</td>\n",
              "      <td>0</td>\n",
              "      <td>0</td>\n",
              "      <td>0</td>\n",
              "      <td>0</td>\n",
              "      <td>0</td>\n",
              "      <td>0</td>\n",
              "      <td>0</td>\n",
              "      <td>0</td>\n",
              "      <td>0</td>\n",
              "      <td>0</td>\n",
              "      <td>0</td>\n",
              "      <td>0</td>\n",
              "      <td>0</td>\n",
              "      <td>0</td>\n",
              "      <td>0</td>\n",
              "      <td>0</td>\n",
              "      <td>0</td>\n",
              "      <td>1</td>\n",
              "      <td>0</td>\n",
              "      <td>0</td>\n",
              "    </tr>\n",
              "    <tr>\n",
              "      <th>44314</th>\n",
              "      <td>61</td>\n",
              "      <td>197286</td>\n",
              "      <td>4</td>\n",
              "      <td>0</td>\n",
              "      <td>0</td>\n",
              "      <td>40</td>\n",
              "      <td>0</td>\n",
              "      <td>0</td>\n",
              "      <td>0</td>\n",
              "      <td>1</td>\n",
              "      <td>0</td>\n",
              "      <td>0</td>\n",
              "      <td>0</td>\n",
              "      <td>0</td>\n",
              "      <td>0</td>\n",
              "      <td>0</td>\n",
              "      <td>0</td>\n",
              "      <td>0</td>\n",
              "      <td>0</td>\n",
              "      <td>1</td>\n",
              "      <td>0</td>\n",
              "      <td>0</td>\n",
              "      <td>0</td>\n",
              "      <td>0</td>\n",
              "      <td>0</td>\n",
              "      <td>0</td>\n",
              "      <td>0</td>\n",
              "      <td>0</td>\n",
              "      <td>0</td>\n",
              "      <td>0</td>\n",
              "      <td>0</td>\n",
              "      <td>0</td>\n",
              "      <td>1</td>\n",
              "      <td>0</td>\n",
              "      <td>0</td>\n",
              "      <td>0</td>\n",
              "      <td>0</td>\n",
              "      <td>0</td>\n",
              "      <td>0</td>\n",
              "      <td>0</td>\n",
              "      <td>...</td>\n",
              "      <td>0</td>\n",
              "      <td>0</td>\n",
              "      <td>0</td>\n",
              "      <td>0</td>\n",
              "      <td>0</td>\n",
              "      <td>0</td>\n",
              "      <td>0</td>\n",
              "      <td>0</td>\n",
              "      <td>0</td>\n",
              "      <td>0</td>\n",
              "      <td>0</td>\n",
              "      <td>0</td>\n",
              "      <td>0</td>\n",
              "      <td>0</td>\n",
              "      <td>0</td>\n",
              "      <td>0</td>\n",
              "      <td>0</td>\n",
              "      <td>0</td>\n",
              "      <td>0</td>\n",
              "      <td>0</td>\n",
              "      <td>0</td>\n",
              "      <td>0</td>\n",
              "      <td>0</td>\n",
              "      <td>0</td>\n",
              "      <td>0</td>\n",
              "      <td>0</td>\n",
              "      <td>0</td>\n",
              "      <td>0</td>\n",
              "      <td>0</td>\n",
              "      <td>0</td>\n",
              "      <td>0</td>\n",
              "      <td>0</td>\n",
              "      <td>0</td>\n",
              "      <td>0</td>\n",
              "      <td>0</td>\n",
              "      <td>0</td>\n",
              "      <td>0</td>\n",
              "      <td>1</td>\n",
              "      <td>0</td>\n",
              "      <td>0</td>\n",
              "    </tr>\n",
              "    <tr>\n",
              "      <th>10896</th>\n",
              "      <td>27</td>\n",
              "      <td>54897</td>\n",
              "      <td>9</td>\n",
              "      <td>0</td>\n",
              "      <td>0</td>\n",
              "      <td>40</td>\n",
              "      <td>0</td>\n",
              "      <td>0</td>\n",
              "      <td>0</td>\n",
              "      <td>1</td>\n",
              "      <td>0</td>\n",
              "      <td>0</td>\n",
              "      <td>0</td>\n",
              "      <td>0</td>\n",
              "      <td>0</td>\n",
              "      <td>0</td>\n",
              "      <td>0</td>\n",
              "      <td>0</td>\n",
              "      <td>0</td>\n",
              "      <td>0</td>\n",
              "      <td>0</td>\n",
              "      <td>0</td>\n",
              "      <td>0</td>\n",
              "      <td>0</td>\n",
              "      <td>0</td>\n",
              "      <td>1</td>\n",
              "      <td>0</td>\n",
              "      <td>0</td>\n",
              "      <td>0</td>\n",
              "      <td>0</td>\n",
              "      <td>0</td>\n",
              "      <td>0</td>\n",
              "      <td>1</td>\n",
              "      <td>0</td>\n",
              "      <td>0</td>\n",
              "      <td>0</td>\n",
              "      <td>0</td>\n",
              "      <td>0</td>\n",
              "      <td>0</td>\n",
              "      <td>0</td>\n",
              "      <td>...</td>\n",
              "      <td>0</td>\n",
              "      <td>0</td>\n",
              "      <td>0</td>\n",
              "      <td>0</td>\n",
              "      <td>0</td>\n",
              "      <td>0</td>\n",
              "      <td>0</td>\n",
              "      <td>0</td>\n",
              "      <td>0</td>\n",
              "      <td>0</td>\n",
              "      <td>0</td>\n",
              "      <td>0</td>\n",
              "      <td>0</td>\n",
              "      <td>0</td>\n",
              "      <td>0</td>\n",
              "      <td>0</td>\n",
              "      <td>0</td>\n",
              "      <td>0</td>\n",
              "      <td>0</td>\n",
              "      <td>0</td>\n",
              "      <td>0</td>\n",
              "      <td>0</td>\n",
              "      <td>0</td>\n",
              "      <td>0</td>\n",
              "      <td>0</td>\n",
              "      <td>0</td>\n",
              "      <td>0</td>\n",
              "      <td>0</td>\n",
              "      <td>0</td>\n",
              "      <td>0</td>\n",
              "      <td>0</td>\n",
              "      <td>0</td>\n",
              "      <td>0</td>\n",
              "      <td>0</td>\n",
              "      <td>0</td>\n",
              "      <td>0</td>\n",
              "      <td>0</td>\n",
              "      <td>1</td>\n",
              "      <td>0</td>\n",
              "      <td>0</td>\n",
              "    </tr>\n",
              "    <tr>\n",
              "      <th>287</th>\n",
              "      <td>46</td>\n",
              "      <td>157857</td>\n",
              "      <td>10</td>\n",
              "      <td>0</td>\n",
              "      <td>0</td>\n",
              "      <td>40</td>\n",
              "      <td>0</td>\n",
              "      <td>0</td>\n",
              "      <td>0</td>\n",
              "      <td>1</td>\n",
              "      <td>0</td>\n",
              "      <td>0</td>\n",
              "      <td>0</td>\n",
              "      <td>0</td>\n",
              "      <td>0</td>\n",
              "      <td>0</td>\n",
              "      <td>0</td>\n",
              "      <td>0</td>\n",
              "      <td>0</td>\n",
              "      <td>0</td>\n",
              "      <td>0</td>\n",
              "      <td>0</td>\n",
              "      <td>0</td>\n",
              "      <td>0</td>\n",
              "      <td>0</td>\n",
              "      <td>0</td>\n",
              "      <td>0</td>\n",
              "      <td>0</td>\n",
              "      <td>0</td>\n",
              "      <td>1</td>\n",
              "      <td>0</td>\n",
              "      <td>0</td>\n",
              "      <td>1</td>\n",
              "      <td>0</td>\n",
              "      <td>0</td>\n",
              "      <td>0</td>\n",
              "      <td>0</td>\n",
              "      <td>0</td>\n",
              "      <td>0</td>\n",
              "      <td>0</td>\n",
              "      <td>...</td>\n",
              "      <td>0</td>\n",
              "      <td>0</td>\n",
              "      <td>0</td>\n",
              "      <td>0</td>\n",
              "      <td>0</td>\n",
              "      <td>0</td>\n",
              "      <td>0</td>\n",
              "      <td>0</td>\n",
              "      <td>0</td>\n",
              "      <td>0</td>\n",
              "      <td>0</td>\n",
              "      <td>0</td>\n",
              "      <td>0</td>\n",
              "      <td>0</td>\n",
              "      <td>0</td>\n",
              "      <td>0</td>\n",
              "      <td>0</td>\n",
              "      <td>0</td>\n",
              "      <td>0</td>\n",
              "      <td>0</td>\n",
              "      <td>0</td>\n",
              "      <td>0</td>\n",
              "      <td>0</td>\n",
              "      <td>0</td>\n",
              "      <td>0</td>\n",
              "      <td>0</td>\n",
              "      <td>0</td>\n",
              "      <td>0</td>\n",
              "      <td>0</td>\n",
              "      <td>0</td>\n",
              "      <td>0</td>\n",
              "      <td>0</td>\n",
              "      <td>0</td>\n",
              "      <td>0</td>\n",
              "      <td>0</td>\n",
              "      <td>0</td>\n",
              "      <td>0</td>\n",
              "      <td>1</td>\n",
              "      <td>0</td>\n",
              "      <td>0</td>\n",
              "    </tr>\n",
              "    <tr>\n",
              "      <th>...</th>\n",
              "      <td>...</td>\n",
              "      <td>...</td>\n",
              "      <td>...</td>\n",
              "      <td>...</td>\n",
              "      <td>...</td>\n",
              "      <td>...</td>\n",
              "      <td>...</td>\n",
              "      <td>...</td>\n",
              "      <td>...</td>\n",
              "      <td>...</td>\n",
              "      <td>...</td>\n",
              "      <td>...</td>\n",
              "      <td>...</td>\n",
              "      <td>...</td>\n",
              "      <td>...</td>\n",
              "      <td>...</td>\n",
              "      <td>...</td>\n",
              "      <td>...</td>\n",
              "      <td>...</td>\n",
              "      <td>...</td>\n",
              "      <td>...</td>\n",
              "      <td>...</td>\n",
              "      <td>...</td>\n",
              "      <td>...</td>\n",
              "      <td>...</td>\n",
              "      <td>...</td>\n",
              "      <td>...</td>\n",
              "      <td>...</td>\n",
              "      <td>...</td>\n",
              "      <td>...</td>\n",
              "      <td>...</td>\n",
              "      <td>...</td>\n",
              "      <td>...</td>\n",
              "      <td>...</td>\n",
              "      <td>...</td>\n",
              "      <td>...</td>\n",
              "      <td>...</td>\n",
              "      <td>...</td>\n",
              "      <td>...</td>\n",
              "      <td>...</td>\n",
              "      <td>...</td>\n",
              "      <td>...</td>\n",
              "      <td>...</td>\n",
              "      <td>...</td>\n",
              "      <td>...</td>\n",
              "      <td>...</td>\n",
              "      <td>...</td>\n",
              "      <td>...</td>\n",
              "      <td>...</td>\n",
              "      <td>...</td>\n",
              "      <td>...</td>\n",
              "      <td>...</td>\n",
              "      <td>...</td>\n",
              "      <td>...</td>\n",
              "      <td>...</td>\n",
              "      <td>...</td>\n",
              "      <td>...</td>\n",
              "      <td>...</td>\n",
              "      <td>...</td>\n",
              "      <td>...</td>\n",
              "      <td>...</td>\n",
              "      <td>...</td>\n",
              "      <td>...</td>\n",
              "      <td>...</td>\n",
              "      <td>...</td>\n",
              "      <td>...</td>\n",
              "      <td>...</td>\n",
              "      <td>...</td>\n",
              "      <td>...</td>\n",
              "      <td>...</td>\n",
              "      <td>...</td>\n",
              "      <td>...</td>\n",
              "      <td>...</td>\n",
              "      <td>...</td>\n",
              "      <td>...</td>\n",
              "      <td>...</td>\n",
              "      <td>...</td>\n",
              "      <td>...</td>\n",
              "      <td>...</td>\n",
              "      <td>...</td>\n",
              "      <td>...</td>\n",
              "    </tr>\n",
              "    <tr>\n",
              "      <th>23802</th>\n",
              "      <td>28</td>\n",
              "      <td>150309</td>\n",
              "      <td>9</td>\n",
              "      <td>0</td>\n",
              "      <td>0</td>\n",
              "      <td>45</td>\n",
              "      <td>0</td>\n",
              "      <td>0</td>\n",
              "      <td>0</td>\n",
              "      <td>1</td>\n",
              "      <td>0</td>\n",
              "      <td>0</td>\n",
              "      <td>0</td>\n",
              "      <td>0</td>\n",
              "      <td>0</td>\n",
              "      <td>0</td>\n",
              "      <td>0</td>\n",
              "      <td>0</td>\n",
              "      <td>0</td>\n",
              "      <td>0</td>\n",
              "      <td>0</td>\n",
              "      <td>0</td>\n",
              "      <td>0</td>\n",
              "      <td>0</td>\n",
              "      <td>0</td>\n",
              "      <td>1</td>\n",
              "      <td>0</td>\n",
              "      <td>0</td>\n",
              "      <td>0</td>\n",
              "      <td>0</td>\n",
              "      <td>0</td>\n",
              "      <td>0</td>\n",
              "      <td>1</td>\n",
              "      <td>0</td>\n",
              "      <td>0</td>\n",
              "      <td>0</td>\n",
              "      <td>0</td>\n",
              "      <td>0</td>\n",
              "      <td>0</td>\n",
              "      <td>0</td>\n",
              "      <td>...</td>\n",
              "      <td>0</td>\n",
              "      <td>0</td>\n",
              "      <td>0</td>\n",
              "      <td>0</td>\n",
              "      <td>0</td>\n",
              "      <td>0</td>\n",
              "      <td>0</td>\n",
              "      <td>0</td>\n",
              "      <td>0</td>\n",
              "      <td>0</td>\n",
              "      <td>0</td>\n",
              "      <td>0</td>\n",
              "      <td>0</td>\n",
              "      <td>0</td>\n",
              "      <td>0</td>\n",
              "      <td>0</td>\n",
              "      <td>0</td>\n",
              "      <td>0</td>\n",
              "      <td>0</td>\n",
              "      <td>0</td>\n",
              "      <td>0</td>\n",
              "      <td>0</td>\n",
              "      <td>0</td>\n",
              "      <td>0</td>\n",
              "      <td>0</td>\n",
              "      <td>0</td>\n",
              "      <td>0</td>\n",
              "      <td>0</td>\n",
              "      <td>0</td>\n",
              "      <td>0</td>\n",
              "      <td>0</td>\n",
              "      <td>0</td>\n",
              "      <td>0</td>\n",
              "      <td>0</td>\n",
              "      <td>0</td>\n",
              "      <td>0</td>\n",
              "      <td>0</td>\n",
              "      <td>1</td>\n",
              "      <td>0</td>\n",
              "      <td>0</td>\n",
              "    </tr>\n",
              "    <tr>\n",
              "      <th>45851</th>\n",
              "      <td>38</td>\n",
              "      <td>27408</td>\n",
              "      <td>9</td>\n",
              "      <td>0</td>\n",
              "      <td>0</td>\n",
              "      <td>50</td>\n",
              "      <td>0</td>\n",
              "      <td>0</td>\n",
              "      <td>0</td>\n",
              "      <td>1</td>\n",
              "      <td>0</td>\n",
              "      <td>0</td>\n",
              "      <td>0</td>\n",
              "      <td>0</td>\n",
              "      <td>0</td>\n",
              "      <td>0</td>\n",
              "      <td>0</td>\n",
              "      <td>0</td>\n",
              "      <td>0</td>\n",
              "      <td>0</td>\n",
              "      <td>0</td>\n",
              "      <td>0</td>\n",
              "      <td>0</td>\n",
              "      <td>0</td>\n",
              "      <td>0</td>\n",
              "      <td>1</td>\n",
              "      <td>0</td>\n",
              "      <td>0</td>\n",
              "      <td>0</td>\n",
              "      <td>0</td>\n",
              "      <td>1</td>\n",
              "      <td>0</td>\n",
              "      <td>0</td>\n",
              "      <td>0</td>\n",
              "      <td>0</td>\n",
              "      <td>0</td>\n",
              "      <td>0</td>\n",
              "      <td>0</td>\n",
              "      <td>0</td>\n",
              "      <td>1</td>\n",
              "      <td>...</td>\n",
              "      <td>0</td>\n",
              "      <td>0</td>\n",
              "      <td>0</td>\n",
              "      <td>0</td>\n",
              "      <td>0</td>\n",
              "      <td>0</td>\n",
              "      <td>0</td>\n",
              "      <td>0</td>\n",
              "      <td>0</td>\n",
              "      <td>0</td>\n",
              "      <td>0</td>\n",
              "      <td>0</td>\n",
              "      <td>0</td>\n",
              "      <td>0</td>\n",
              "      <td>0</td>\n",
              "      <td>0</td>\n",
              "      <td>0</td>\n",
              "      <td>0</td>\n",
              "      <td>0</td>\n",
              "      <td>0</td>\n",
              "      <td>0</td>\n",
              "      <td>0</td>\n",
              "      <td>0</td>\n",
              "      <td>0</td>\n",
              "      <td>0</td>\n",
              "      <td>0</td>\n",
              "      <td>0</td>\n",
              "      <td>0</td>\n",
              "      <td>0</td>\n",
              "      <td>0</td>\n",
              "      <td>0</td>\n",
              "      <td>0</td>\n",
              "      <td>0</td>\n",
              "      <td>0</td>\n",
              "      <td>0</td>\n",
              "      <td>0</td>\n",
              "      <td>0</td>\n",
              "      <td>1</td>\n",
              "      <td>0</td>\n",
              "      <td>0</td>\n",
              "    </tr>\n",
              "    <tr>\n",
              "      <th>29788</th>\n",
              "      <td>34</td>\n",
              "      <td>236543</td>\n",
              "      <td>9</td>\n",
              "      <td>0</td>\n",
              "      <td>0</td>\n",
              "      <td>40</td>\n",
              "      <td>0</td>\n",
              "      <td>0</td>\n",
              "      <td>0</td>\n",
              "      <td>1</td>\n",
              "      <td>0</td>\n",
              "      <td>0</td>\n",
              "      <td>0</td>\n",
              "      <td>0</td>\n",
              "      <td>0</td>\n",
              "      <td>0</td>\n",
              "      <td>0</td>\n",
              "      <td>0</td>\n",
              "      <td>0</td>\n",
              "      <td>0</td>\n",
              "      <td>0</td>\n",
              "      <td>0</td>\n",
              "      <td>0</td>\n",
              "      <td>0</td>\n",
              "      <td>0</td>\n",
              "      <td>1</td>\n",
              "      <td>0</td>\n",
              "      <td>0</td>\n",
              "      <td>0</td>\n",
              "      <td>0</td>\n",
              "      <td>0</td>\n",
              "      <td>0</td>\n",
              "      <td>0</td>\n",
              "      <td>0</td>\n",
              "      <td>1</td>\n",
              "      <td>0</td>\n",
              "      <td>0</td>\n",
              "      <td>0</td>\n",
              "      <td>0</td>\n",
              "      <td>1</td>\n",
              "      <td>...</td>\n",
              "      <td>0</td>\n",
              "      <td>0</td>\n",
              "      <td>0</td>\n",
              "      <td>0</td>\n",
              "      <td>0</td>\n",
              "      <td>0</td>\n",
              "      <td>0</td>\n",
              "      <td>0</td>\n",
              "      <td>0</td>\n",
              "      <td>0</td>\n",
              "      <td>0</td>\n",
              "      <td>0</td>\n",
              "      <td>0</td>\n",
              "      <td>0</td>\n",
              "      <td>0</td>\n",
              "      <td>0</td>\n",
              "      <td>0</td>\n",
              "      <td>0</td>\n",
              "      <td>0</td>\n",
              "      <td>0</td>\n",
              "      <td>0</td>\n",
              "      <td>0</td>\n",
              "      <td>0</td>\n",
              "      <td>0</td>\n",
              "      <td>0</td>\n",
              "      <td>0</td>\n",
              "      <td>0</td>\n",
              "      <td>0</td>\n",
              "      <td>0</td>\n",
              "      <td>0</td>\n",
              "      <td>0</td>\n",
              "      <td>0</td>\n",
              "      <td>0</td>\n",
              "      <td>0</td>\n",
              "      <td>0</td>\n",
              "      <td>0</td>\n",
              "      <td>0</td>\n",
              "      <td>1</td>\n",
              "      <td>0</td>\n",
              "      <td>0</td>\n",
              "    </tr>\n",
              "    <tr>\n",
              "      <th>342</th>\n",
              "      <td>31</td>\n",
              "      <td>179415</td>\n",
              "      <td>3</td>\n",
              "      <td>0</td>\n",
              "      <td>0</td>\n",
              "      <td>40</td>\n",
              "      <td>0</td>\n",
              "      <td>0</td>\n",
              "      <td>0</td>\n",
              "      <td>1</td>\n",
              "      <td>0</td>\n",
              "      <td>0</td>\n",
              "      <td>0</td>\n",
              "      <td>0</td>\n",
              "      <td>0</td>\n",
              "      <td>0</td>\n",
              "      <td>0</td>\n",
              "      <td>0</td>\n",
              "      <td>1</td>\n",
              "      <td>0</td>\n",
              "      <td>0</td>\n",
              "      <td>0</td>\n",
              "      <td>0</td>\n",
              "      <td>0</td>\n",
              "      <td>0</td>\n",
              "      <td>0</td>\n",
              "      <td>0</td>\n",
              "      <td>0</td>\n",
              "      <td>0</td>\n",
              "      <td>0</td>\n",
              "      <td>0</td>\n",
              "      <td>0</td>\n",
              "      <td>1</td>\n",
              "      <td>0</td>\n",
              "      <td>0</td>\n",
              "      <td>0</td>\n",
              "      <td>0</td>\n",
              "      <td>0</td>\n",
              "      <td>0</td>\n",
              "      <td>0</td>\n",
              "      <td>...</td>\n",
              "      <td>0</td>\n",
              "      <td>0</td>\n",
              "      <td>0</td>\n",
              "      <td>0</td>\n",
              "      <td>0</td>\n",
              "      <td>0</td>\n",
              "      <td>0</td>\n",
              "      <td>0</td>\n",
              "      <td>0</td>\n",
              "      <td>0</td>\n",
              "      <td>0</td>\n",
              "      <td>0</td>\n",
              "      <td>0</td>\n",
              "      <td>0</td>\n",
              "      <td>0</td>\n",
              "      <td>0</td>\n",
              "      <td>0</td>\n",
              "      <td>0</td>\n",
              "      <td>0</td>\n",
              "      <td>0</td>\n",
              "      <td>0</td>\n",
              "      <td>0</td>\n",
              "      <td>0</td>\n",
              "      <td>0</td>\n",
              "      <td>1</td>\n",
              "      <td>0</td>\n",
              "      <td>0</td>\n",
              "      <td>0</td>\n",
              "      <td>0</td>\n",
              "      <td>0</td>\n",
              "      <td>0</td>\n",
              "      <td>0</td>\n",
              "      <td>0</td>\n",
              "      <td>0</td>\n",
              "      <td>0</td>\n",
              "      <td>0</td>\n",
              "      <td>0</td>\n",
              "      <td>0</td>\n",
              "      <td>0</td>\n",
              "      <td>0</td>\n",
              "    </tr>\n",
              "    <tr>\n",
              "      <th>4933</th>\n",
              "      <td>23</td>\n",
              "      <td>273010</td>\n",
              "      <td>9</td>\n",
              "      <td>0</td>\n",
              "      <td>0</td>\n",
              "      <td>40</td>\n",
              "      <td>0</td>\n",
              "      <td>0</td>\n",
              "      <td>0</td>\n",
              "      <td>1</td>\n",
              "      <td>0</td>\n",
              "      <td>0</td>\n",
              "      <td>0</td>\n",
              "      <td>0</td>\n",
              "      <td>0</td>\n",
              "      <td>0</td>\n",
              "      <td>0</td>\n",
              "      <td>0</td>\n",
              "      <td>0</td>\n",
              "      <td>0</td>\n",
              "      <td>0</td>\n",
              "      <td>0</td>\n",
              "      <td>0</td>\n",
              "      <td>0</td>\n",
              "      <td>0</td>\n",
              "      <td>1</td>\n",
              "      <td>0</td>\n",
              "      <td>0</td>\n",
              "      <td>0</td>\n",
              "      <td>0</td>\n",
              "      <td>0</td>\n",
              "      <td>0</td>\n",
              "      <td>1</td>\n",
              "      <td>0</td>\n",
              "      <td>0</td>\n",
              "      <td>0</td>\n",
              "      <td>0</td>\n",
              "      <td>0</td>\n",
              "      <td>0</td>\n",
              "      <td>1</td>\n",
              "      <td>...</td>\n",
              "      <td>0</td>\n",
              "      <td>0</td>\n",
              "      <td>0</td>\n",
              "      <td>0</td>\n",
              "      <td>0</td>\n",
              "      <td>0</td>\n",
              "      <td>0</td>\n",
              "      <td>0</td>\n",
              "      <td>0</td>\n",
              "      <td>0</td>\n",
              "      <td>0</td>\n",
              "      <td>0</td>\n",
              "      <td>0</td>\n",
              "      <td>0</td>\n",
              "      <td>0</td>\n",
              "      <td>0</td>\n",
              "      <td>0</td>\n",
              "      <td>0</td>\n",
              "      <td>0</td>\n",
              "      <td>0</td>\n",
              "      <td>0</td>\n",
              "      <td>0</td>\n",
              "      <td>0</td>\n",
              "      <td>0</td>\n",
              "      <td>0</td>\n",
              "      <td>0</td>\n",
              "      <td>0</td>\n",
              "      <td>0</td>\n",
              "      <td>0</td>\n",
              "      <td>0</td>\n",
              "      <td>0</td>\n",
              "      <td>0</td>\n",
              "      <td>0</td>\n",
              "      <td>0</td>\n",
              "      <td>0</td>\n",
              "      <td>0</td>\n",
              "      <td>0</td>\n",
              "      <td>1</td>\n",
              "      <td>0</td>\n",
              "      <td>0</td>\n",
              "    </tr>\n",
              "  </tbody>\n",
              "</table>\n",
              "<p>36631 rows × 105 columns</p>\n",
              "</div>"
            ],
            "text/plain": [
              "       age  fnlwgt  ...  native-country_Vietnam  native-country_Yugoslavia\n",
              "32272   28  192588  ...                       0                          0\n",
              "42251   31  208881  ...                       0                          0\n",
              "44314   61  197286  ...                       0                          0\n",
              "10896   27   54897  ...                       0                          0\n",
              "287     46  157857  ...                       0                          0\n",
              "...    ...     ...  ...                     ...                        ...\n",
              "23802   28  150309  ...                       0                          0\n",
              "45851   38   27408  ...                       0                          0\n",
              "29788   34  236543  ...                       0                          0\n",
              "342     31  179415  ...                       0                          0\n",
              "4933    23  273010  ...                       0                          0\n",
              "\n",
              "[36631 rows x 105 columns]"
            ]
          },
          "metadata": {
            "tags": []
          },
          "execution_count": 22
        }
      ]
    },
    {
      "cell_type": "code",
      "metadata": {
        "id": "L6PZim4EXjVJ"
      },
      "source": [
        "# Normalization\n",
        "from sklearn.preprocessing import StandardScaler  \n",
        "scaler = StandardScaler()  \n",
        "\n",
        "# Fitting only on training data\n",
        "scaler.fit(train_data)  \n",
        "train_data = scaler.transform(train_data)  \n",
        "\n",
        "# Applying same transformation to test data\n",
        "test_data = scaler.transform(test_data) "
      ],
      "execution_count": 23,
      "outputs": []
    },
    {
      "cell_type": "code",
      "metadata": {
        "colab": {
          "base_uri": "https://localhost:8080/"
        },
        "id": "M7uEPvBRTrUE",
        "outputId": "04ea0b8e-4547-4023-94bb-5da43b2a6ad3"
      },
      "source": [
        "train_label"
      ],
      "execution_count": 24,
      "outputs": [
        {
          "output_type": "execute_result",
          "data": {
            "text/plain": [
              "array([0, 0, 0, ..., 0, 0, 0])"
            ]
          },
          "metadata": {
            "tags": []
          },
          "execution_count": 24
        }
      ]
    },
    {
      "cell_type": "code",
      "metadata": {
        "colab": {
          "base_uri": "https://localhost:8080/"
        },
        "id": "pGbJnaXISit3",
        "outputId": "7bc41619-ede4-4634-da90-c52832cae5a1"
      },
      "source": [
        "train_data[0].shape"
      ],
      "execution_count": 25,
      "outputs": [
        {
          "output_type": "execute_result",
          "data": {
            "text/plain": [
              "(105,)"
            ]
          },
          "metadata": {
            "tags": []
          },
          "execution_count": 25
        }
      ]
    },
    {
      "cell_type": "code",
      "metadata": {
        "id": "t7cRt7P-WE9j"
      },
      "source": [
        "import tensorflow as tf\n",
        "import numpy as np\n",
        "import pandas as pd\n",
        "# from tensorflow import keras\n",
        "from keras.models import Sequential\n",
        "from keras.layers import Dense,Dropout"
      ],
      "execution_count": 26,
      "outputs": []
    },
    {
      "cell_type": "code",
      "metadata": {
        "id": "mNt1hvj1YgIA"
      },
      "source": [
        "\"\"\" 构建神经网络 \n",
        "不使用正则化和Droupout\n",
        "使用最基础的Optimizer = SGD\n",
        "loss = 'binary_crossentropy'\n",
        "最后输出层使用sigmoid激活函数\n",
        "\"\"\"\n",
        "model_simple = Sequential()\n",
        "# keras.regularizers.l1(lambda)\n",
        "# keras.regularizers.l2(lambda)\n",
        "# keras.regularizers.l1_l2(l1=lambda1, l2=lambda2)\n",
        "model_simple.add(Dense(128, activation='tanh', input_shape=train_data[0].shape))\n",
        "model_simple.add(Dense(64, activation='tanh'))\n",
        "model_simple.add(Dense(1, activation='sigmoid'))"
      ],
      "execution_count": 45,
      "outputs": []
    },
    {
      "cell_type": "code",
      "metadata": {
        "colab": {
          "base_uri": "https://localhost:8080/"
        },
        "id": "hCqlxB8qYjl-",
        "outputId": "50c4ede5-04cc-4da8-fffe-13d6c377586e"
      },
      "source": [
        "model_simple.compile(optimizer='SGD',loss = 'binary_crossentropy',metrics=['accuracy'])\n",
        "history_simple = model_simple.fit(train_data, train_label, epochs=50, batch_size=16, validation_data=(test_data, test_label))\n"
      ],
      "execution_count": 46,
      "outputs": [
        {
          "output_type": "stream",
          "text": [
            "Epoch 1/50\n",
            "2290/2290 [==============================] - 6s 2ms/step - loss: 0.3591 - accuracy: 0.8336 - val_loss: 0.3321 - val_accuracy: 0.8455\n",
            "Epoch 2/50\n",
            "2290/2290 [==============================] - 5s 2ms/step - loss: 0.3283 - accuracy: 0.8461 - val_loss: 0.3263 - val_accuracy: 0.8466\n",
            "Epoch 3/50\n",
            "2290/2290 [==============================] - 5s 2ms/step - loss: 0.3236 - accuracy: 0.8489 - val_loss: 0.3238 - val_accuracy: 0.8473\n",
            "Epoch 4/50\n",
            "2290/2290 [==============================] - 5s 2ms/step - loss: 0.3201 - accuracy: 0.8508 - val_loss: 0.3229 - val_accuracy: 0.8523\n",
            "Epoch 5/50\n",
            "2290/2290 [==============================] - 5s 2ms/step - loss: 0.3174 - accuracy: 0.8508 - val_loss: 0.3243 - val_accuracy: 0.8467\n",
            "Epoch 6/50\n",
            "2290/2290 [==============================] - 5s 2ms/step - loss: 0.3143 - accuracy: 0.8532 - val_loss: 0.3207 - val_accuracy: 0.8491\n",
            "Epoch 7/50\n",
            "2290/2290 [==============================] - 5s 2ms/step - loss: 0.3123 - accuracy: 0.8532 - val_loss: 0.3188 - val_accuracy: 0.8500\n",
            "Epoch 8/50\n",
            "2290/2290 [==============================] - 5s 2ms/step - loss: 0.3105 - accuracy: 0.8550 - val_loss: 0.3167 - val_accuracy: 0.8528\n",
            "Epoch 9/50\n",
            "2290/2290 [==============================] - 6s 3ms/step - loss: 0.3087 - accuracy: 0.8560 - val_loss: 0.3177 - val_accuracy: 0.8509\n",
            "Epoch 10/50\n",
            "2290/2290 [==============================] - 5s 2ms/step - loss: 0.3065 - accuracy: 0.8560 - val_loss: 0.3184 - val_accuracy: 0.8517\n",
            "Epoch 11/50\n",
            "2290/2290 [==============================] - 5s 2ms/step - loss: 0.3051 - accuracy: 0.8563 - val_loss: 0.3156 - val_accuracy: 0.8537\n",
            "Epoch 12/50\n",
            "2290/2290 [==============================] - 5s 2ms/step - loss: 0.3036 - accuracy: 0.8571 - val_loss: 0.3156 - val_accuracy: 0.8537\n",
            "Epoch 13/50\n",
            "2290/2290 [==============================] - 5s 2ms/step - loss: 0.3016 - accuracy: 0.8595 - val_loss: 0.3163 - val_accuracy: 0.8543\n",
            "Epoch 14/50\n",
            "2290/2290 [==============================] - 5s 2ms/step - loss: 0.3001 - accuracy: 0.8601 - val_loss: 0.3155 - val_accuracy: 0.8552\n",
            "Epoch 15/50\n",
            "2290/2290 [==============================] - 5s 2ms/step - loss: 0.2985 - accuracy: 0.8611 - val_loss: 0.3176 - val_accuracy: 0.8530\n",
            "Epoch 16/50\n",
            "2290/2290 [==============================] - 5s 2ms/step - loss: 0.2970 - accuracy: 0.8618 - val_loss: 0.3141 - val_accuracy: 0.8557\n",
            "Epoch 17/50\n",
            "2290/2290 [==============================] - 5s 2ms/step - loss: 0.2957 - accuracy: 0.8627 - val_loss: 0.3149 - val_accuracy: 0.8541\n",
            "Epoch 18/50\n",
            "2290/2290 [==============================] - 6s 3ms/step - loss: 0.2942 - accuracy: 0.8627 - val_loss: 0.3157 - val_accuracy: 0.8569\n",
            "Epoch 19/50\n",
            "2290/2290 [==============================] - 6s 3ms/step - loss: 0.2932 - accuracy: 0.8624 - val_loss: 0.3166 - val_accuracy: 0.8550\n",
            "Epoch 20/50\n",
            "2290/2290 [==============================] - 5s 2ms/step - loss: 0.2922 - accuracy: 0.8647 - val_loss: 0.3204 - val_accuracy: 0.8522\n",
            "Epoch 21/50\n",
            "2290/2290 [==============================] - 5s 2ms/step - loss: 0.2909 - accuracy: 0.8656 - val_loss: 0.3178 - val_accuracy: 0.8526\n",
            "Epoch 22/50\n",
            "2290/2290 [==============================] - 5s 2ms/step - loss: 0.2895 - accuracy: 0.8644 - val_loss: 0.3179 - val_accuracy: 0.8541\n",
            "Epoch 23/50\n",
            "2290/2290 [==============================] - 5s 2ms/step - loss: 0.2882 - accuracy: 0.8663 - val_loss: 0.3189 - val_accuracy: 0.8535\n",
            "Epoch 24/50\n",
            "2290/2290 [==============================] - 5s 2ms/step - loss: 0.2872 - accuracy: 0.8676 - val_loss: 0.3169 - val_accuracy: 0.8560\n",
            "Epoch 25/50\n",
            "2290/2290 [==============================] - 5s 2ms/step - loss: 0.2858 - accuracy: 0.8663 - val_loss: 0.3193 - val_accuracy: 0.8534\n",
            "Epoch 26/50\n",
            "2290/2290 [==============================] - 5s 2ms/step - loss: 0.2852 - accuracy: 0.8655 - val_loss: 0.3177 - val_accuracy: 0.8523\n",
            "Epoch 27/50\n",
            "2290/2290 [==============================] - 5s 2ms/step - loss: 0.2835 - accuracy: 0.8685 - val_loss: 0.3206 - val_accuracy: 0.8557\n",
            "Epoch 28/50\n",
            "2290/2290 [==============================] - 5s 2ms/step - loss: 0.2827 - accuracy: 0.8691 - val_loss: 0.3228 - val_accuracy: 0.8522\n",
            "Epoch 29/50\n",
            "2290/2290 [==============================] - 5s 2ms/step - loss: 0.2815 - accuracy: 0.8692 - val_loss: 0.3218 - val_accuracy: 0.8533\n",
            "Epoch 30/50\n",
            "2290/2290 [==============================] - 5s 2ms/step - loss: 0.2807 - accuracy: 0.8690 - val_loss: 0.3216 - val_accuracy: 0.8513\n",
            "Epoch 31/50\n",
            "2290/2290 [==============================] - 5s 2ms/step - loss: 0.2798 - accuracy: 0.8708 - val_loss: 0.3233 - val_accuracy: 0.8516\n",
            "Epoch 32/50\n",
            "2290/2290 [==============================] - 5s 2ms/step - loss: 0.2783 - accuracy: 0.8707 - val_loss: 0.3225 - val_accuracy: 0.8516\n",
            "Epoch 33/50\n",
            "2290/2290 [==============================] - 5s 2ms/step - loss: 0.2776 - accuracy: 0.8710 - val_loss: 0.3247 - val_accuracy: 0.8524\n",
            "Epoch 34/50\n",
            "2290/2290 [==============================] - 5s 2ms/step - loss: 0.2758 - accuracy: 0.8714 - val_loss: 0.3259 - val_accuracy: 0.8496\n",
            "Epoch 35/50\n",
            "2290/2290 [==============================] - 5s 2ms/step - loss: 0.2755 - accuracy: 0.8742 - val_loss: 0.3245 - val_accuracy: 0.8518\n",
            "Epoch 36/50\n",
            "2290/2290 [==============================] - 5s 2ms/step - loss: 0.2743 - accuracy: 0.8726 - val_loss: 0.3319 - val_accuracy: 0.8447\n",
            "Epoch 37/50\n",
            "2290/2290 [==============================] - 5s 2ms/step - loss: 0.2728 - accuracy: 0.8740 - val_loss: 0.3286 - val_accuracy: 0.8504\n",
            "Epoch 38/50\n",
            "2290/2290 [==============================] - 5s 2ms/step - loss: 0.2718 - accuracy: 0.8741 - val_loss: 0.3301 - val_accuracy: 0.8489\n",
            "Epoch 39/50\n",
            "2290/2290 [==============================] - 5s 2ms/step - loss: 0.2710 - accuracy: 0.8738 - val_loss: 0.3280 - val_accuracy: 0.8502\n",
            "Epoch 40/50\n",
            "2290/2290 [==============================] - 5s 2ms/step - loss: 0.2694 - accuracy: 0.8750 - val_loss: 0.3290 - val_accuracy: 0.8517\n",
            "Epoch 41/50\n",
            "2290/2290 [==============================] - 5s 2ms/step - loss: 0.2691 - accuracy: 0.8767 - val_loss: 0.3358 - val_accuracy: 0.8464\n",
            "Epoch 42/50\n",
            "2290/2290 [==============================] - 5s 2ms/step - loss: 0.2677 - accuracy: 0.8762 - val_loss: 0.3360 - val_accuracy: 0.8469\n",
            "Epoch 43/50\n",
            "2290/2290 [==============================] - 5s 2ms/step - loss: 0.2669 - accuracy: 0.8754 - val_loss: 0.3354 - val_accuracy: 0.8476\n",
            "Epoch 44/50\n",
            "2290/2290 [==============================] - 5s 2ms/step - loss: 0.2653 - accuracy: 0.8764 - val_loss: 0.3376 - val_accuracy: 0.8466\n",
            "Epoch 45/50\n",
            "2290/2290 [==============================] - 5s 2ms/step - loss: 0.2648 - accuracy: 0.8772 - val_loss: 0.3343 - val_accuracy: 0.8494\n",
            "Epoch 46/50\n",
            "2290/2290 [==============================] - 5s 2ms/step - loss: 0.2636 - accuracy: 0.8769 - val_loss: 0.3348 - val_accuracy: 0.8505\n",
            "Epoch 47/50\n",
            "2290/2290 [==============================] - 5s 2ms/step - loss: 0.2625 - accuracy: 0.8778 - val_loss: 0.3355 - val_accuracy: 0.8531\n",
            "Epoch 48/50\n",
            "2290/2290 [==============================] - 5s 2ms/step - loss: 0.2617 - accuracy: 0.8777 - val_loss: 0.3365 - val_accuracy: 0.8511\n",
            "Epoch 49/50\n",
            "2290/2290 [==============================] - 5s 2ms/step - loss: 0.2607 - accuracy: 0.8797 - val_loss: 0.3438 - val_accuracy: 0.8453\n",
            "Epoch 50/50\n",
            "2290/2290 [==============================] - 5s 2ms/step - loss: 0.2596 - accuracy: 0.8787 - val_loss: 0.3440 - val_accuracy: 0.8439\n"
          ],
          "name": "stdout"
        }
      ]
    },
    {
      "cell_type": "code",
      "metadata": {
        "colab": {
          "base_uri": "https://localhost:8080/",
          "height": 265
        },
        "id": "Gp0wHl8Cb-9p",
        "outputId": "51eaf027-7b7c-4f87-9596-65cc041a6946"
      },
      "source": [
        "plt.plot(history_simple.history['loss'], label='train')\n",
        "plt.plot(history_simple.history['val_loss'], label='test')\n",
        "plt.legend()\n",
        "plt.show()"
      ],
      "execution_count": 47,
      "outputs": [
        {
          "output_type": "display_data",
          "data": {
            "image/png": "[encoded data removed]",
            "text/plain": [
              "<Figure size 432x288 with 1 Axes>"
            ]
          },
          "metadata": {
            "tags": [],
            "needs_background": "light"
          }
        }
      ]
    },
    {
      "cell_type": "code",
      "metadata": {
        "id": "waKOxUVAcKLh"
      },
      "source": [
        "\"\"\" 构建神经网络 \n",
        "不使用正则化和Droupout\n",
        "使用Optimizer = adagrad\n",
        "loss = 'binary_crossentropy'\n",
        "最后输出层使用sigmoid激活函数\n",
        "\"\"\"\n",
        "model_adagrad = Sequential()\n",
        "# keras.regularizers.l1(lambda)\n",
        "# keras.regularizers.l2(lambda)\n",
        "# keras.regularizers.l1_l2(l1=lambda1, l2=lambda2)\n",
        "model_adagrad.add(Dense(128, activation='tanh', input_shape=train_data[0].shape))\n",
        "model_adagrad.add(Dense(64, activation='tanh'))\n",
        "model_adagrad.add(Dense(1, activation='sigmoid'))"
      ],
      "execution_count": 48,
      "outputs": []
    },
    {
      "cell_type": "code",
      "metadata": {
        "colab": {
          "base_uri": "https://localhost:8080/"
        },
        "id": "3KMTVhb3cK3i",
        "outputId": "6948142e-b4f3-4b41-ac2c-ab8462e30aae"
      },
      "source": [
        "model_adagrad.compile(optimizer='Adagrad',loss = 'binary_crossentropy',metrics=['accuracy'])\n",
        "history_adagrad = model_adagrad.fit(train_data, train_label, epochs=50, batch_size=16, validation_data=(test_data, test_label))"
      ],
      "execution_count": 49,
      "outputs": [
        {
          "output_type": "stream",
          "text": [
            "Epoch 1/50\n",
            "2290/2290 [==============================] - 6s 2ms/step - loss: 0.4634 - accuracy: 0.7786 - val_loss: 0.3905 - val_accuracy: 0.8258\n",
            "Epoch 2/50\n",
            "2290/2290 [==============================] - 5s 2ms/step - loss: 0.3693 - accuracy: 0.8360 - val_loss: 0.3574 - val_accuracy: 0.8398\n",
            "Epoch 3/50\n",
            "2290/2290 [==============================] - 6s 2ms/step - loss: 0.3494 - accuracy: 0.8419 - val_loss: 0.3452 - val_accuracy: 0.8428\n",
            "Epoch 4/50\n",
            "2290/2290 [==============================] - 5s 2ms/step - loss: 0.3407 - accuracy: 0.8438 - val_loss: 0.3390 - val_accuracy: 0.8452\n",
            "Epoch 5/50\n",
            "2290/2290 [==============================] - 6s 2ms/step - loss: 0.3358 - accuracy: 0.8461 - val_loss: 0.3354 - val_accuracy: 0.8464\n",
            "Epoch 6/50\n",
            "2290/2290 [==============================] - 6s 2ms/step - loss: 0.3327 - accuracy: 0.8463 - val_loss: 0.3334 - val_accuracy: 0.8469\n",
            "Epoch 7/50\n",
            "2290/2290 [==============================] - 6s 2ms/step - loss: 0.3305 - accuracy: 0.8469 - val_loss: 0.3314 - val_accuracy: 0.8475\n",
            "Epoch 8/50\n",
            "2290/2290 [==============================] - 6s 2ms/step - loss: 0.3289 - accuracy: 0.8476 - val_loss: 0.3301 - val_accuracy: 0.8483\n",
            "Epoch 9/50\n",
            "2290/2290 [==============================] - 5s 2ms/step - loss: 0.3276 - accuracy: 0.8482 - val_loss: 0.3292 - val_accuracy: 0.8487\n",
            "Epoch 10/50\n",
            "2290/2290 [==============================] - 6s 2ms/step - loss: 0.3265 - accuracy: 0.8488 - val_loss: 0.3283 - val_accuracy: 0.8488\n",
            "Epoch 11/50\n",
            "2290/2290 [==============================] - 5s 2ms/step - loss: 0.3257 - accuracy: 0.8491 - val_loss: 0.3279 - val_accuracy: 0.8487\n",
            "Epoch 12/50\n",
            "2290/2290 [==============================] - 5s 2ms/step - loss: 0.3249 - accuracy: 0.8491 - val_loss: 0.3274 - val_accuracy: 0.8490\n",
            "Epoch 13/50\n",
            "2290/2290 [==============================] - 5s 2ms/step - loss: 0.3243 - accuracy: 0.8493 - val_loss: 0.3271 - val_accuracy: 0.8490\n",
            "Epoch 14/50\n",
            "2290/2290 [==============================] - 6s 2ms/step - loss: 0.3237 - accuracy: 0.8497 - val_loss: 0.3266 - val_accuracy: 0.8487\n",
            "Epoch 15/50\n",
            "2290/2290 [==============================] - 6s 2ms/step - loss: 0.3232 - accuracy: 0.8497 - val_loss: 0.3266 - val_accuracy: 0.8485\n",
            "Epoch 16/50\n",
            "2290/2290 [==============================] - 6s 2ms/step - loss: 0.3228 - accuracy: 0.8497 - val_loss: 0.3259 - val_accuracy: 0.8483\n",
            "Epoch 17/50\n",
            "2290/2290 [==============================] - 5s 2ms/step - loss: 0.3223 - accuracy: 0.8505 - val_loss: 0.3260 - val_accuracy: 0.8484\n",
            "Epoch 18/50\n",
            "2290/2290 [==============================] - 5s 2ms/step - loss: 0.3220 - accuracy: 0.8502 - val_loss: 0.3256 - val_accuracy: 0.8485\n",
            "Epoch 19/50\n",
            "2290/2290 [==============================] - 5s 2ms/step - loss: 0.3216 - accuracy: 0.8509 - val_loss: 0.3255 - val_accuracy: 0.8483\n",
            "Epoch 20/50\n",
            "2290/2290 [==============================] - 5s 2ms/step - loss: 0.3213 - accuracy: 0.8506 - val_loss: 0.3253 - val_accuracy: 0.8489\n",
            "Epoch 21/50\n",
            "2290/2290 [==============================] - 5s 2ms/step - loss: 0.3210 - accuracy: 0.8509 - val_loss: 0.3251 - val_accuracy: 0.8488\n",
            "Epoch 22/50\n",
            "2290/2290 [==============================] - 6s 2ms/step - loss: 0.3207 - accuracy: 0.8511 - val_loss: 0.3249 - val_accuracy: 0.8488\n",
            "Epoch 23/50\n",
            "2290/2290 [==============================] - 6s 2ms/step - loss: 0.3205 - accuracy: 0.8515 - val_loss: 0.3247 - val_accuracy: 0.8492\n",
            "Epoch 24/50\n",
            "2290/2290 [==============================] - 6s 3ms/step - loss: 0.3202 - accuracy: 0.8516 - val_loss: 0.3247 - val_accuracy: 0.8487\n",
            "Epoch 25/50\n",
            "2290/2290 [==============================] - 6s 3ms/step - loss: 0.3200 - accuracy: 0.8516 - val_loss: 0.3244 - val_accuracy: 0.8490\n",
            "Epoch 26/50\n",
            "2290/2290 [==============================] - 6s 3ms/step - loss: 0.3198 - accuracy: 0.8515 - val_loss: 0.3244 - val_accuracy: 0.8495\n",
            "Epoch 27/50\n",
            "2290/2290 [==============================] - 6s 2ms/step - loss: 0.3196 - accuracy: 0.8514 - val_loss: 0.3243 - val_accuracy: 0.8495\n",
            "Epoch 28/50\n",
            "2290/2290 [==============================] - 5s 2ms/step - loss: 0.3194 - accuracy: 0.8517 - val_loss: 0.3242 - val_accuracy: 0.8496\n",
            "Epoch 29/50\n",
            "2290/2290 [==============================] - 6s 2ms/step - loss: 0.3192 - accuracy: 0.8518 - val_loss: 0.3242 - val_accuracy: 0.8493\n",
            "Epoch 30/50\n",
            "2290/2290 [==============================] - 6s 2ms/step - loss: 0.3190 - accuracy: 0.8517 - val_loss: 0.3242 - val_accuracy: 0.8497\n",
            "Epoch 31/50\n",
            "2290/2290 [==============================] - 5s 2ms/step - loss: 0.3188 - accuracy: 0.8518 - val_loss: 0.3242 - val_accuracy: 0.8494\n",
            "Epoch 32/50\n",
            "2290/2290 [==============================] - 5s 2ms/step - loss: 0.3187 - accuracy: 0.8519 - val_loss: 0.3240 - val_accuracy: 0.8498\n",
            "Epoch 33/50\n",
            "2290/2290 [==============================] - 5s 2ms/step - loss: 0.3185 - accuracy: 0.8522 - val_loss: 0.3240 - val_accuracy: 0.8496\n",
            "Epoch 34/50\n",
            "2290/2290 [==============================] - 6s 2ms/step - loss: 0.3183 - accuracy: 0.8521 - val_loss: 0.3238 - val_accuracy: 0.8501\n",
            "Epoch 35/50\n",
            "2290/2290 [==============================] - 5s 2ms/step - loss: 0.3182 - accuracy: 0.8521 - val_loss: 0.3238 - val_accuracy: 0.8496\n",
            "Epoch 36/50\n",
            "2290/2290 [==============================] - 6s 2ms/step - loss: 0.3180 - accuracy: 0.8523 - val_loss: 0.3237 - val_accuracy: 0.8501\n",
            "Epoch 37/50\n",
            "2290/2290 [==============================] - 6s 2ms/step - loss: 0.3179 - accuracy: 0.8523 - val_loss: 0.3235 - val_accuracy: 0.8499\n",
            "Epoch 38/50\n",
            "2290/2290 [==============================] - 6s 2ms/step - loss: 0.3177 - accuracy: 0.8523 - val_loss: 0.3237 - val_accuracy: 0.8497\n",
            "Epoch 39/50\n",
            "2290/2290 [==============================] - 6s 2ms/step - loss: 0.3176 - accuracy: 0.8523 - val_loss: 0.3236 - val_accuracy: 0.8494\n",
            "Epoch 40/50\n",
            "2290/2290 [==============================] - 5s 2ms/step - loss: 0.3175 - accuracy: 0.8527 - val_loss: 0.3236 - val_accuracy: 0.8489\n",
            "Epoch 41/50\n",
            "2290/2290 [==============================] - 5s 2ms/step - loss: 0.3174 - accuracy: 0.8524 - val_loss: 0.3235 - val_accuracy: 0.8496\n",
            "Epoch 42/50\n",
            "2290/2290 [==============================] - 6s 2ms/step - loss: 0.3172 - accuracy: 0.8526 - val_loss: 0.3235 - val_accuracy: 0.8495\n",
            "Epoch 43/50\n",
            "2290/2290 [==============================] - 5s 2ms/step - loss: 0.3171 - accuracy: 0.8528 - val_loss: 0.3234 - val_accuracy: 0.8498\n",
            "Epoch 44/50\n",
            "2290/2290 [==============================] - 6s 2ms/step - loss: 0.3170 - accuracy: 0.8528 - val_loss: 0.3232 - val_accuracy: 0.8498\n",
            "Epoch 45/50\n",
            "2290/2290 [==============================] - 5s 2ms/step - loss: 0.3169 - accuracy: 0.8533 - val_loss: 0.3233 - val_accuracy: 0.8497\n",
            "Epoch 46/50\n",
            "2290/2290 [==============================] - 5s 2ms/step - loss: 0.3168 - accuracy: 0.8527 - val_loss: 0.3232 - val_accuracy: 0.8497\n",
            "Epoch 47/50\n",
            "2290/2290 [==============================] - 5s 2ms/step - loss: 0.3166 - accuracy: 0.8532 - val_loss: 0.3233 - val_accuracy: 0.8493\n",
            "Epoch 48/50\n",
            "2290/2290 [==============================] - 6s 2ms/step - loss: 0.3165 - accuracy: 0.8530 - val_loss: 0.3232 - val_accuracy: 0.8495\n",
            "Epoch 49/50\n",
            "2290/2290 [==============================] - 6s 2ms/step - loss: 0.3164 - accuracy: 0.8532 - val_loss: 0.3231 - val_accuracy: 0.8495\n",
            "Epoch 50/50\n",
            "2290/2290 [==============================] - 6s 2ms/step - loss: 0.3163 - accuracy: 0.8531 - val_loss: 0.3231 - val_accuracy: 0.8496\n"
          ],
          "name": "stdout"
        }
      ]
    },
    {
      "cell_type": "code",
      "metadata": {
        "colab": {
          "base_uri": "https://localhost:8080/",
          "height": 265
        },
        "id": "cqXxvJyedRFT",
        "outputId": "6e2d9f61-e934-4fdd-d9e7-b0c641864459"
      },
      "source": [
        "plt.plot(history_adagrad.history['loss'], label='train')\n",
        "plt.plot(history_adagrad.history['val_loss'], label='test')\n",
        "plt.legend()\n",
        "plt.show()"
      ],
      "execution_count": 50,
      "outputs": [
        {
          "output_type": "display_data",
          "data": {
            "image/png": "[encoded data removed]",
            "text/plain": [
              "<Figure size 432x288 with 1 Axes>"
            ]
          },
          "metadata": {
            "tags": [],
            "needs_background": "light"
          }
        }
      ]
    },
    {
      "cell_type": "code",
      "metadata": {
        "id": "fhQ_DQwmmQpa"
      },
      "source": [
        "\"\"\" 构建神经网络 \n",
        "不使用正则化和Droupout\n",
        "使用Optimizer = adam\n",
        "loss = 'binary_crossentropy'\n",
        "最后输出层使用sigmoid激活函数\n",
        "\"\"\"\n",
        "model_adam = Sequential()\n",
        "# keras.regularizers.l1(lambda)\n",
        "# keras.regularizers.l2(lambda)\n",
        "# keras.regularizers.l1_l2(l1=lambda1, l2=lambda2)\n",
        "model_adam.add(Dense(128, activation='tanh', input_shape=train_data[0].shape))\n",
        "model_adam.add(Dense(64, activation='tanh'))\n",
        "model_adam.add(Dense(1, activation='sigmoid'))"
      ],
      "execution_count": 74,
      "outputs": []
    },
    {
      "cell_type": "code",
      "metadata": {
        "id": "s8akXtB7mVVO",
        "outputId": "eeabaf07-d948-4672-fd99-fd981093a760",
        "colab": {
          "base_uri": "https://localhost:8080/"
        }
      },
      "source": [
        "model_adam.compile(optimizer='Adam',loss = 'binary_crossentropy',metrics=['accuracy'])\n",
        "history_adam = model_adam.fit(train_data, train_label, epochs=50, batch_size=16, validation_data=(test_data, test_label))"
      ],
      "execution_count": 75,
      "outputs": [
        {
          "output_type": "stream",
          "text": [
            "Epoch 1/50\n",
            "2290/2290 [==============================] - 6s 3ms/step - loss: 0.3439 - accuracy: 0.8386 - val_loss: 0.3267 - val_accuracy: 0.8447\n",
            "Epoch 2/50\n",
            "2290/2290 [==============================] - 6s 2ms/step - loss: 0.3171 - accuracy: 0.8513 - val_loss: 0.3145 - val_accuracy: 0.8510\n",
            "Epoch 3/50\n",
            "2290/2290 [==============================] - 6s 2ms/step - loss: 0.3093 - accuracy: 0.8543 - val_loss: 0.3134 - val_accuracy: 0.8519\n",
            "Epoch 4/50\n",
            "2290/2290 [==============================] - 6s 3ms/step - loss: 0.3014 - accuracy: 0.8591 - val_loss: 0.3114 - val_accuracy: 0.8517\n",
            "Epoch 5/50\n",
            "2290/2290 [==============================] - 6s 2ms/step - loss: 0.2957 - accuracy: 0.8610 - val_loss: 0.3094 - val_accuracy: 0.8547\n",
            "Epoch 6/50\n",
            "2290/2290 [==============================] - 6s 2ms/step - loss: 0.2899 - accuracy: 0.8655 - val_loss: 0.3134 - val_accuracy: 0.8564\n",
            "Epoch 7/50\n",
            "2290/2290 [==============================] - 6s 3ms/step - loss: 0.2846 - accuracy: 0.8682 - val_loss: 0.3130 - val_accuracy: 0.8540\n",
            "Epoch 8/50\n",
            "2290/2290 [==============================] - 6s 2ms/step - loss: 0.2789 - accuracy: 0.8707 - val_loss: 0.3116 - val_accuracy: 0.8583\n",
            "Epoch 9/50\n",
            "2290/2290 [==============================] - 6s 2ms/step - loss: 0.2734 - accuracy: 0.8725 - val_loss: 0.3178 - val_accuracy: 0.8527\n",
            "Epoch 10/50\n",
            "2290/2290 [==============================] - 6s 2ms/step - loss: 0.2677 - accuracy: 0.8751 - val_loss: 0.3178 - val_accuracy: 0.8551\n",
            "Epoch 11/50\n",
            "2290/2290 [==============================] - 6s 2ms/step - loss: 0.2636 - accuracy: 0.8773 - val_loss: 0.3226 - val_accuracy: 0.8510\n",
            "Epoch 12/50\n",
            "2290/2290 [==============================] - 6s 3ms/step - loss: 0.2578 - accuracy: 0.8803 - val_loss: 0.3242 - val_accuracy: 0.8516\n",
            "Epoch 13/50\n",
            "2290/2290 [==============================] - 6s 2ms/step - loss: 0.2521 - accuracy: 0.8819 - val_loss: 0.3417 - val_accuracy: 0.8379\n",
            "Epoch 14/50\n",
            "2290/2290 [==============================] - 6s 2ms/step - loss: 0.2475 - accuracy: 0.8848 - val_loss: 0.3398 - val_accuracy: 0.8439\n",
            "Epoch 15/50\n",
            "2290/2290 [==============================] - 6s 2ms/step - loss: 0.2420 - accuracy: 0.8869 - val_loss: 0.3380 - val_accuracy: 0.8498\n",
            "Epoch 16/50\n",
            "2290/2290 [==============================] - 6s 2ms/step - loss: 0.2370 - accuracy: 0.8910 - val_loss: 0.3448 - val_accuracy: 0.8471\n",
            "Epoch 17/50\n",
            "2290/2290 [==============================] - 6s 2ms/step - loss: 0.2327 - accuracy: 0.8931 - val_loss: 0.3454 - val_accuracy: 0.8469\n",
            "Epoch 18/50\n",
            "2290/2290 [==============================] - 6s 2ms/step - loss: 0.2277 - accuracy: 0.8945 - val_loss: 0.3490 - val_accuracy: 0.8475\n",
            "Epoch 19/50\n",
            "2290/2290 [==============================] - 6s 2ms/step - loss: 0.2232 - accuracy: 0.8977 - val_loss: 0.3613 - val_accuracy: 0.8402\n",
            "Epoch 20/50\n",
            "2290/2290 [==============================] - 6s 2ms/step - loss: 0.2190 - accuracy: 0.8989 - val_loss: 0.3631 - val_accuracy: 0.8424\n",
            "Epoch 21/50\n",
            "2290/2290 [==============================] - 6s 3ms/step - loss: 0.2140 - accuracy: 0.9019 - val_loss: 0.3673 - val_accuracy: 0.8425\n",
            "Epoch 22/50\n",
            "2290/2290 [==============================] - 6s 3ms/step - loss: 0.2106 - accuracy: 0.9025 - val_loss: 0.3774 - val_accuracy: 0.8407\n",
            "Epoch 23/50\n",
            "2290/2290 [==============================] - 6s 2ms/step - loss: 0.2055 - accuracy: 0.9056 - val_loss: 0.3791 - val_accuracy: 0.8415\n",
            "Epoch 24/50\n",
            "2290/2290 [==============================] - 6s 2ms/step - loss: 0.2018 - accuracy: 0.9068 - val_loss: 0.3898 - val_accuracy: 0.8365\n",
            "Epoch 25/50\n",
            "2290/2290 [==============================] - 6s 3ms/step - loss: 0.1975 - accuracy: 0.9104 - val_loss: 0.4003 - val_accuracy: 0.8376\n",
            "Epoch 26/50\n",
            "2290/2290 [==============================] - 6s 2ms/step - loss: 0.1949 - accuracy: 0.9120 - val_loss: 0.4006 - val_accuracy: 0.8356\n",
            "Epoch 27/50\n",
            "2290/2290 [==============================] - 6s 2ms/step - loss: 0.1906 - accuracy: 0.9120 - val_loss: 0.4059 - val_accuracy: 0.8356\n",
            "Epoch 28/50\n",
            "2290/2290 [==============================] - 6s 2ms/step - loss: 0.1874 - accuracy: 0.9136 - val_loss: 0.4074 - val_accuracy: 0.8342\n",
            "Epoch 29/50\n",
            "2290/2290 [==============================] - 6s 2ms/step - loss: 0.1832 - accuracy: 0.9172 - val_loss: 0.4183 - val_accuracy: 0.8319\n",
            "Epoch 30/50\n",
            "2290/2290 [==============================] - 6s 3ms/step - loss: 0.1803 - accuracy: 0.9181 - val_loss: 0.4341 - val_accuracy: 0.8316\n",
            "Epoch 31/50\n",
            "2290/2290 [==============================] - 6s 2ms/step - loss: 0.1777 - accuracy: 0.9176 - val_loss: 0.4275 - val_accuracy: 0.8410\n",
            "Epoch 32/50\n",
            "2290/2290 [==============================] - 6s 2ms/step - loss: 0.1752 - accuracy: 0.9201 - val_loss: 0.4387 - val_accuracy: 0.8357\n",
            "Epoch 33/50\n",
            "2290/2290 [==============================] - 6s 2ms/step - loss: 0.1718 - accuracy: 0.9219 - val_loss: 0.4505 - val_accuracy: 0.8292\n",
            "Epoch 34/50\n",
            "2290/2290 [==============================] - 6s 2ms/step - loss: 0.1687 - accuracy: 0.9224 - val_loss: 0.4548 - val_accuracy: 0.8295\n",
            "Epoch 35/50\n",
            "2290/2290 [==============================] - 6s 3ms/step - loss: 0.1666 - accuracy: 0.9245 - val_loss: 0.4560 - val_accuracy: 0.8333\n",
            "Epoch 36/50\n",
            "2290/2290 [==============================] - 6s 3ms/step - loss: 0.1636 - accuracy: 0.9255 - val_loss: 0.4658 - val_accuracy: 0.8280\n",
            "Epoch 37/50\n",
            "2290/2290 [==============================] - 6s 2ms/step - loss: 0.1617 - accuracy: 0.9262 - val_loss: 0.4645 - val_accuracy: 0.8304\n",
            "Epoch 38/50\n",
            "2290/2290 [==============================] - 6s 2ms/step - loss: 0.1597 - accuracy: 0.9272 - val_loss: 0.4811 - val_accuracy: 0.8279\n",
            "Epoch 39/50\n",
            "2290/2290 [==============================] - 6s 2ms/step - loss: 0.1570 - accuracy: 0.9291 - val_loss: 0.4846 - val_accuracy: 0.8322\n",
            "Epoch 40/50\n",
            "2290/2290 [==============================] - 6s 2ms/step - loss: 0.1546 - accuracy: 0.9307 - val_loss: 0.4827 - val_accuracy: 0.8262\n",
            "Epoch 41/50\n",
            "2290/2290 [==============================] - 6s 2ms/step - loss: 0.1524 - accuracy: 0.9312 - val_loss: 0.4953 - val_accuracy: 0.8305\n",
            "Epoch 42/50\n",
            "2290/2290 [==============================] - 6s 2ms/step - loss: 0.1525 - accuracy: 0.9313 - val_loss: 0.5049 - val_accuracy: 0.8301\n",
            "Epoch 43/50\n",
            "2290/2290 [==============================] - 6s 2ms/step - loss: 0.1495 - accuracy: 0.9328 - val_loss: 0.5054 - val_accuracy: 0.8279\n",
            "Epoch 44/50\n",
            "2290/2290 [==============================] - 6s 3ms/step - loss: 0.1476 - accuracy: 0.9336 - val_loss: 0.5101 - val_accuracy: 0.8314\n",
            "Epoch 45/50\n",
            "2290/2290 [==============================] - 6s 3ms/step - loss: 0.1453 - accuracy: 0.9344 - val_loss: 0.5273 - val_accuracy: 0.8286\n",
            "Epoch 46/50\n",
            "2290/2290 [==============================] - 6s 2ms/step - loss: 0.1438 - accuracy: 0.9355 - val_loss: 0.5229 - val_accuracy: 0.8293\n",
            "Epoch 47/50\n",
            "2290/2290 [==============================] - 6s 2ms/step - loss: 0.1433 - accuracy: 0.9364 - val_loss: 0.5306 - val_accuracy: 0.8225\n",
            "Epoch 48/50\n",
            "2290/2290 [==============================] - 6s 2ms/step - loss: 0.1420 - accuracy: 0.9350 - val_loss: 0.5265 - val_accuracy: 0.8252\n",
            "Epoch 49/50\n",
            "2290/2290 [==============================] - 6s 3ms/step - loss: 0.1385 - accuracy: 0.9384 - val_loss: 0.5402 - val_accuracy: 0.8279\n",
            "Epoch 50/50\n",
            "2290/2290 [==============================] - 6s 3ms/step - loss: 0.1376 - accuracy: 0.9383 - val_loss: 0.5488 - val_accuracy: 0.8236\n"
          ],
          "name": "stdout"
        }
      ]
    },
    {
      "cell_type": "code",
      "metadata": {
        "id": "QEbUnSv4mcR4",
        "outputId": "5fbcb6d2-be68-4549-b8dd-764838ecf154",
        "colab": {
          "base_uri": "https://localhost:8080/",
          "height": 265
        }
      },
      "source": [
        "plt.plot(history_adam.history['loss'], label='train')\n",
        "plt.plot(history_adam.history['val_loss'], label='test')\n",
        "plt.legend()\n",
        "plt.show()"
      ],
      "execution_count": 76,
      "outputs": [
        {
          "output_type": "display_data",
          "data": {
            "image/png": "[encoded data removed]",
            "text/plain": [
              "<Figure size 432x288 with 1 Axes>"
            ]
          },
          "metadata": {
            "tags": [],
            "needs_background": "light"
          }
        }
      ]
    },
    {
      "cell_type": "code",
      "metadata": {
        "id": "l9Vj_sQcdWOo"
      },
      "source": [
        "\"\"\" 构建神经网络 \n",
        "不使用正则化\n",
        "使用Dropout\n",
        "使用Optimizer = adam\n",
        "loss = 'binary_crossentropy'\n",
        "最后输出层使用sigmoid激活函数\n",
        "\"\"\"\n",
        "model_dropout = Sequential()\n",
        "# keras.regularizers.l1(lambda)\n",
        "# keras.regularizers.l2(lambda)\n",
        "# keras.regularizers.l1_l2(l1=lambda1, l2=lambda2)\n",
        "model_dropout.add(Dense(128, activation='tanh', input_shape=train_data[0].shape))\n",
        "model_dropout.add(Dense(64, activation='tanh'))\n",
        "model_dropout.add(Dropout(0.25))\n",
        "model_dropout.add(Dense(1, activation='sigmoid'))"
      ],
      "execution_count": 52,
      "outputs": []
    },
    {
      "cell_type": "code",
      "metadata": {
        "colab": {
          "base_uri": "https://localhost:8080/"
        },
        "id": "aI7aKihGdmxZ",
        "outputId": "72d2e4f4-70c3-469e-dddd-81a9a5106753"
      },
      "source": [
        "model_dropout.compile(optimizer='adam',loss = 'binary_crossentropy',metrics=['accuracy'])\n",
        "history_dropout = model_dropout.fit(train_data, train_label, epochs=50, batch_size=16, validation_data=(test_data, test_label))"
      ],
      "execution_count": 53,
      "outputs": [
        {
          "output_type": "stream",
          "text": [
            "Epoch 1/50\n",
            "2290/2290 [==============================] - 6s 3ms/step - loss: 0.3508 - accuracy: 0.8347 - val_loss: 0.3246 - val_accuracy: 0.8505\n",
            "Epoch 2/50\n",
            "2290/2290 [==============================] - 6s 2ms/step - loss: 0.3264 - accuracy: 0.8465 - val_loss: 0.3267 - val_accuracy: 0.8448\n",
            "Epoch 3/50\n",
            "2290/2290 [==============================] - 6s 2ms/step - loss: 0.3186 - accuracy: 0.8525 - val_loss: 0.3164 - val_accuracy: 0.8529\n",
            "Epoch 4/50\n",
            "2290/2290 [==============================] - 6s 2ms/step - loss: 0.3138 - accuracy: 0.8541 - val_loss: 0.3135 - val_accuracy: 0.8509\n",
            "Epoch 5/50\n",
            "2290/2290 [==============================] - 6s 3ms/step - loss: 0.3097 - accuracy: 0.8554 - val_loss: 0.3150 - val_accuracy: 0.8503\n",
            "Epoch 6/50\n",
            "2290/2290 [==============================] - 6s 3ms/step - loss: 0.3046 - accuracy: 0.8583 - val_loss: 0.3129 - val_accuracy: 0.8556\n",
            "Epoch 7/50\n",
            "2290/2290 [==============================] - 6s 2ms/step - loss: 0.2995 - accuracy: 0.8618 - val_loss: 0.3122 - val_accuracy: 0.8546\n",
            "Epoch 8/50\n",
            "2290/2290 [==============================] - 6s 2ms/step - loss: 0.2965 - accuracy: 0.8616 - val_loss: 0.3121 - val_accuracy: 0.8578\n",
            "Epoch 9/50\n",
            "2290/2290 [==============================] - 6s 3ms/step - loss: 0.2916 - accuracy: 0.8648 - val_loss: 0.3096 - val_accuracy: 0.8574\n",
            "Epoch 10/50\n",
            "2290/2290 [==============================] - 6s 2ms/step - loss: 0.2885 - accuracy: 0.8639 - val_loss: 0.3157 - val_accuracy: 0.8501\n",
            "Epoch 11/50\n",
            "2290/2290 [==============================] - 6s 3ms/step - loss: 0.2852 - accuracy: 0.8679 - val_loss: 0.3114 - val_accuracy: 0.8565\n",
            "Epoch 12/50\n",
            "2290/2290 [==============================] - 6s 2ms/step - loss: 0.2808 - accuracy: 0.8694 - val_loss: 0.3154 - val_accuracy: 0.8573\n",
            "Epoch 13/50\n",
            "2290/2290 [==============================] - 6s 3ms/step - loss: 0.2784 - accuracy: 0.8692 - val_loss: 0.3147 - val_accuracy: 0.8550\n",
            "Epoch 14/50\n",
            "2290/2290 [==============================] - 6s 2ms/step - loss: 0.2758 - accuracy: 0.8717 - val_loss: 0.3171 - val_accuracy: 0.8546\n",
            "Epoch 15/50\n",
            "2290/2290 [==============================] - 6s 2ms/step - loss: 0.2713 - accuracy: 0.8726 - val_loss: 0.3203 - val_accuracy: 0.8525\n",
            "Epoch 16/50\n",
            "2290/2290 [==============================] - 6s 2ms/step - loss: 0.2693 - accuracy: 0.8749 - val_loss: 0.3223 - val_accuracy: 0.8479\n",
            "Epoch 17/50\n",
            "2290/2290 [==============================] - 6s 2ms/step - loss: 0.2660 - accuracy: 0.8766 - val_loss: 0.3247 - val_accuracy: 0.8514\n",
            "Epoch 18/50\n",
            "2290/2290 [==============================] - 6s 3ms/step - loss: 0.2633 - accuracy: 0.8777 - val_loss: 0.3264 - val_accuracy: 0.8534\n",
            "Epoch 19/50\n",
            "2290/2290 [==============================] - 6s 3ms/step - loss: 0.2611 - accuracy: 0.8793 - val_loss: 0.3295 - val_accuracy: 0.8482\n",
            "Epoch 20/50\n",
            "2290/2290 [==============================] - 7s 3ms/step - loss: 0.2575 - accuracy: 0.8802 - val_loss: 0.3293 - val_accuracy: 0.8546\n",
            "Epoch 21/50\n",
            "2290/2290 [==============================] - 6s 3ms/step - loss: 0.2549 - accuracy: 0.8812 - val_loss: 0.3377 - val_accuracy: 0.8520\n",
            "Epoch 22/50\n",
            "2290/2290 [==============================] - 6s 2ms/step - loss: 0.2524 - accuracy: 0.8843 - val_loss: 0.3341 - val_accuracy: 0.8505\n",
            "Epoch 23/50\n",
            "2290/2290 [==============================] - 6s 3ms/step - loss: 0.2503 - accuracy: 0.8834 - val_loss: 0.3379 - val_accuracy: 0.8510\n",
            "Epoch 24/50\n",
            "2290/2290 [==============================] - 6s 3ms/step - loss: 0.2460 - accuracy: 0.8866 - val_loss: 0.3435 - val_accuracy: 0.8481\n",
            "Epoch 25/50\n",
            "2290/2290 [==============================] - 6s 2ms/step - loss: 0.2455 - accuracy: 0.8854 - val_loss: 0.3443 - val_accuracy: 0.8533\n",
            "Epoch 26/50\n",
            "2290/2290 [==============================] - 6s 3ms/step - loss: 0.2435 - accuracy: 0.8858 - val_loss: 0.3482 - val_accuracy: 0.8472\n",
            "Epoch 27/50\n",
            "2290/2290 [==============================] - 6s 2ms/step - loss: 0.2405 - accuracy: 0.8897 - val_loss: 0.3479 - val_accuracy: 0.8476\n",
            "Epoch 28/50\n",
            "2290/2290 [==============================] - 6s 2ms/step - loss: 0.2396 - accuracy: 0.8869 - val_loss: 0.3521 - val_accuracy: 0.8464\n",
            "Epoch 29/50\n",
            "2290/2290 [==============================] - 6s 3ms/step - loss: 0.2373 - accuracy: 0.8902 - val_loss: 0.3561 - val_accuracy: 0.8493\n",
            "Epoch 30/50\n",
            "2290/2290 [==============================] - 6s 2ms/step - loss: 0.2337 - accuracy: 0.8916 - val_loss: 0.3530 - val_accuracy: 0.8454\n",
            "Epoch 31/50\n",
            "2290/2290 [==============================] - 6s 3ms/step - loss: 0.2325 - accuracy: 0.8921 - val_loss: 0.3553 - val_accuracy: 0.8454\n",
            "Epoch 32/50\n",
            "2290/2290 [==============================] - 6s 3ms/step - loss: 0.2303 - accuracy: 0.8936 - val_loss: 0.3608 - val_accuracy: 0.8459\n",
            "Epoch 33/50\n",
            "2290/2290 [==============================] - 6s 3ms/step - loss: 0.2289 - accuracy: 0.8932 - val_loss: 0.3608 - val_accuracy: 0.8459\n",
            "Epoch 34/50\n",
            "2290/2290 [==============================] - 6s 3ms/step - loss: 0.2261 - accuracy: 0.8967 - val_loss: 0.3684 - val_accuracy: 0.8431\n",
            "Epoch 35/50\n",
            "2290/2290 [==============================] - 6s 2ms/step - loss: 0.2257 - accuracy: 0.8959 - val_loss: 0.3700 - val_accuracy: 0.8445\n",
            "Epoch 36/50\n",
            "2290/2290 [==============================] - 6s 3ms/step - loss: 0.2253 - accuracy: 0.8960 - val_loss: 0.3748 - val_accuracy: 0.8455\n",
            "Epoch 37/50\n",
            "2290/2290 [==============================] - 6s 3ms/step - loss: 0.2232 - accuracy: 0.8972 - val_loss: 0.3725 - val_accuracy: 0.8446\n",
            "Epoch 38/50\n",
            "2290/2290 [==============================] - 6s 3ms/step - loss: 0.2210 - accuracy: 0.8956 - val_loss: 0.3834 - val_accuracy: 0.8373\n",
            "Epoch 39/50\n",
            "2290/2290 [==============================] - 6s 2ms/step - loss: 0.2197 - accuracy: 0.8975 - val_loss: 0.3790 - val_accuracy: 0.8402\n",
            "Epoch 40/50\n",
            "2290/2290 [==============================] - 6s 3ms/step - loss: 0.2162 - accuracy: 0.8984 - val_loss: 0.3818 - val_accuracy: 0.8445\n",
            "Epoch 41/50\n",
            "2290/2290 [==============================] - 6s 3ms/step - loss: 0.2156 - accuracy: 0.9013 - val_loss: 0.3842 - val_accuracy: 0.8391\n",
            "Epoch 42/50\n",
            "2290/2290 [==============================] - 6s 3ms/step - loss: 0.2141 - accuracy: 0.9007 - val_loss: 0.3804 - val_accuracy: 0.8425\n",
            "Epoch 43/50\n",
            "2290/2290 [==============================] - 6s 3ms/step - loss: 0.2129 - accuracy: 0.9015 - val_loss: 0.3916 - val_accuracy: 0.8397\n",
            "Epoch 44/50\n",
            "2290/2290 [==============================] - 6s 2ms/step - loss: 0.2114 - accuracy: 0.9029 - val_loss: 0.3856 - val_accuracy: 0.8410\n",
            "Epoch 45/50\n",
            "2290/2290 [==============================] - 6s 2ms/step - loss: 0.2113 - accuracy: 0.9017 - val_loss: 0.3909 - val_accuracy: 0.8428\n",
            "Epoch 46/50\n",
            "2290/2290 [==============================] - 6s 2ms/step - loss: 0.2096 - accuracy: 0.9031 - val_loss: 0.3943 - val_accuracy: 0.8408\n",
            "Epoch 47/50\n",
            "2290/2290 [==============================] - 6s 3ms/step - loss: 0.2074 - accuracy: 0.9029 - val_loss: 0.4022 - val_accuracy: 0.8365\n",
            "Epoch 48/50\n",
            "2290/2290 [==============================] - 6s 3ms/step - loss: 0.2059 - accuracy: 0.9064 - val_loss: 0.4046 - val_accuracy: 0.8385\n",
            "Epoch 49/50\n",
            "2290/2290 [==============================] - 6s 2ms/step - loss: 0.2064 - accuracy: 0.9052 - val_loss: 0.4037 - val_accuracy: 0.8376\n",
            "Epoch 50/50\n",
            "2290/2290 [==============================] - 6s 3ms/step - loss: 0.2039 - accuracy: 0.9067 - val_loss: 0.4129 - val_accuracy: 0.8353\n"
          ],
          "name": "stdout"
        }
      ]
    },
    {
      "cell_type": "code",
      "metadata": {
        "colab": {
          "base_uri": "https://localhost:8080/",
          "height": 265
        },
        "id": "Ixm_RaX3dp6g",
        "outputId": "82712881-e86f-478e-8e82-6e3972fbe4c6"
      },
      "source": [
        "plt.plot(history_dropout.history['loss'], label='train')\n",
        "plt.plot(history_dropout.history['val_loss'], label='test')\n",
        "plt.legend()\n",
        "plt.show()"
      ],
      "execution_count": 54,
      "outputs": [
        {
          "output_type": "display_data",
          "data": {
            "image/png": "[encoded data removed]",
            "text/plain": [
              "<Figure size 432x288 with 1 Axes>"
            ]
          },
          "metadata": {
            "tags": [],
            "needs_background": "light"
          }
        }
      ]
    },
    {
      "cell_type": "code",
      "metadata": {
        "id": "QqMgjaL5d9zR"
      },
      "source": [
        "\"\"\" 构建神经网络 \n",
        "使用l2正则化不使用Dropout\n",
        "使用Optimizer = adam\n",
        "loss = 'binary_crossentropy'\n",
        "最后输出层使用sigmoid激活函数\n",
        "\"\"\"\n",
        "model_l2 = Sequential()\n",
        "# keras.regularizers.l1(lambda)\n",
        "# keras.regularizers.l2(lambda)\n",
        "# keras.regularizers.l1_l2(l1=lambda1, l2=lambda2)\n",
        "model_l2.add(Dense(128, activation='tanh', input_shape=train_data[0].shape,kernel_regularizer=tf.keras.regularizers.l2(0.01)))\n",
        "model_l2.add(Dense(64, activation='tanh'))\n",
        "model_l2.add(Dense(1, activation='sigmoid'))"
      ],
      "execution_count": 55,
      "outputs": []
    },
    {
      "cell_type": "code",
      "metadata": {
        "colab": {
          "base_uri": "https://localhost:8080/"
        },
        "id": "NmmkhhgIeD_5",
        "outputId": "267b79f1-cee6-4039-c467-4f1bebaa2ca7"
      },
      "source": [
        "model_l2.compile(optimizer='adam',loss = 'binary_crossentropy',metrics=['accuracy'])\n",
        "history_l2 = model_l2.fit(train_data, train_label, epochs=50, batch_size=16, validation_data=(test_data, test_label))"
      ],
      "execution_count": 56,
      "outputs": [
        {
          "output_type": "stream",
          "text": [
            "Epoch 1/50\n",
            "2290/2290 [==============================] - 6s 3ms/step - loss: 0.4362 - accuracy: 0.8370 - val_loss: 0.3525 - val_accuracy: 0.8446\n",
            "Epoch 2/50\n",
            "2290/2290 [==============================] - 6s 3ms/step - loss: 0.3498 - accuracy: 0.8442 - val_loss: 0.3429 - val_accuracy: 0.8457\n",
            "Epoch 3/50\n",
            "2290/2290 [==============================] - 6s 3ms/step - loss: 0.3454 - accuracy: 0.8466 - val_loss: 0.3448 - val_accuracy: 0.8478\n",
            "Epoch 4/50\n",
            "2290/2290 [==============================] - 6s 3ms/step - loss: 0.3438 - accuracy: 0.8462 - val_loss: 0.3394 - val_accuracy: 0.8483\n",
            "Epoch 5/50\n",
            "2290/2290 [==============================] - 6s 3ms/step - loss: 0.3427 - accuracy: 0.8468 - val_loss: 0.3390 - val_accuracy: 0.8505\n",
            "Epoch 6/50\n",
            "2290/2290 [==============================] - 6s 3ms/step - loss: 0.3420 - accuracy: 0.8468 - val_loss: 0.3362 - val_accuracy: 0.8481\n",
            "Epoch 7/50\n",
            "2290/2290 [==============================] - 6s 3ms/step - loss: 0.3396 - accuracy: 0.8482 - val_loss: 0.3350 - val_accuracy: 0.8501\n",
            "Epoch 8/50\n",
            "2290/2290 [==============================] - 6s 3ms/step - loss: 0.3392 - accuracy: 0.8490 - val_loss: 0.3423 - val_accuracy: 0.8470\n",
            "Epoch 9/50\n",
            "2290/2290 [==============================] - 6s 3ms/step - loss: 0.3376 - accuracy: 0.8476 - val_loss: 0.3369 - val_accuracy: 0.8498\n",
            "Epoch 10/50\n",
            "2290/2290 [==============================] - 6s 3ms/step - loss: 0.3384 - accuracy: 0.8481 - val_loss: 0.3343 - val_accuracy: 0.8498\n",
            "Epoch 11/50\n",
            "2290/2290 [==============================] - 6s 3ms/step - loss: 0.3373 - accuracy: 0.8489 - val_loss: 0.3411 - val_accuracy: 0.8451\n",
            "Epoch 12/50\n",
            "2290/2290 [==============================] - 6s 3ms/step - loss: 0.3371 - accuracy: 0.8487 - val_loss: 0.3358 - val_accuracy: 0.8512\n",
            "Epoch 13/50\n",
            "2290/2290 [==============================] - 6s 3ms/step - loss: 0.3378 - accuracy: 0.8481 - val_loss: 0.3348 - val_accuracy: 0.8492\n",
            "Epoch 14/50\n",
            "2290/2290 [==============================] - 6s 3ms/step - loss: 0.3365 - accuracy: 0.8486 - val_loss: 0.3326 - val_accuracy: 0.8517\n",
            "Epoch 15/50\n",
            "2290/2290 [==============================] - 6s 3ms/step - loss: 0.3370 - accuracy: 0.8471 - val_loss: 0.3340 - val_accuracy: 0.8501\n",
            "Epoch 16/50\n",
            "2290/2290 [==============================] - 6s 3ms/step - loss: 0.3362 - accuracy: 0.8491 - val_loss: 0.3369 - val_accuracy: 0.8470\n",
            "Epoch 17/50\n",
            "2290/2290 [==============================] - 6s 3ms/step - loss: 0.3360 - accuracy: 0.8499 - val_loss: 0.3363 - val_accuracy: 0.8522\n",
            "Epoch 18/50\n",
            "2290/2290 [==============================] - 6s 3ms/step - loss: 0.3366 - accuracy: 0.8477 - val_loss: 0.3464 - val_accuracy: 0.8460\n",
            "Epoch 19/50\n",
            "2290/2290 [==============================] - 6s 3ms/step - loss: 0.3368 - accuracy: 0.8483 - val_loss: 0.3339 - val_accuracy: 0.8502\n",
            "Epoch 20/50\n",
            "2290/2290 [==============================] - 6s 3ms/step - loss: 0.3368 - accuracy: 0.8476 - val_loss: 0.3329 - val_accuracy: 0.8518\n",
            "Epoch 21/50\n",
            "2290/2290 [==============================] - 6s 3ms/step - loss: 0.3360 - accuracy: 0.8490 - val_loss: 0.3419 - val_accuracy: 0.8455\n",
            "Epoch 22/50\n",
            "2290/2290 [==============================] - 6s 3ms/step - loss: 0.3363 - accuracy: 0.8487 - val_loss: 0.3314 - val_accuracy: 0.8510\n",
            "Epoch 23/50\n",
            "2290/2290 [==============================] - 7s 3ms/step - loss: 0.3360 - accuracy: 0.8479 - val_loss: 0.3414 - val_accuracy: 0.8449\n",
            "Epoch 24/50\n",
            "2290/2290 [==============================] - 6s 3ms/step - loss: 0.3358 - accuracy: 0.8490 - val_loss: 0.3325 - val_accuracy: 0.8519\n",
            "Epoch 25/50\n",
            "2290/2290 [==============================] - 6s 3ms/step - loss: 0.3363 - accuracy: 0.8482 - val_loss: 0.3362 - val_accuracy: 0.8452\n",
            "Epoch 26/50\n",
            "2290/2290 [==============================] - 6s 3ms/step - loss: 0.3356 - accuracy: 0.8483 - val_loss: 0.3342 - val_accuracy: 0.8518\n",
            "Epoch 27/50\n",
            "2290/2290 [==============================] - 6s 3ms/step - loss: 0.3352 - accuracy: 0.8497 - val_loss: 0.3352 - val_accuracy: 0.8489\n",
            "Epoch 28/50\n",
            "2290/2290 [==============================] - 6s 3ms/step - loss: 0.3362 - accuracy: 0.8483 - val_loss: 0.3371 - val_accuracy: 0.8502\n",
            "Epoch 29/50\n",
            "2290/2290 [==============================] - 6s 3ms/step - loss: 0.3353 - accuracy: 0.8486 - val_loss: 0.3350 - val_accuracy: 0.8492\n",
            "Epoch 30/50\n",
            "2290/2290 [==============================] - 6s 3ms/step - loss: 0.3356 - accuracy: 0.8487 - val_loss: 0.3307 - val_accuracy: 0.8517\n",
            "Epoch 31/50\n",
            "2290/2290 [==============================] - 6s 3ms/step - loss: 0.3356 - accuracy: 0.8488 - val_loss: 0.3318 - val_accuracy: 0.8515\n",
            "Epoch 32/50\n",
            "2290/2290 [==============================] - 6s 3ms/step - loss: 0.3349 - accuracy: 0.8494 - val_loss: 0.3323 - val_accuracy: 0.8495\n",
            "Epoch 33/50\n",
            "2290/2290 [==============================] - 6s 3ms/step - loss: 0.3359 - accuracy: 0.8476 - val_loss: 0.3301 - val_accuracy: 0.8502\n",
            "Epoch 34/50\n",
            "2290/2290 [==============================] - 6s 3ms/step - loss: 0.3351 - accuracy: 0.8478 - val_loss: 0.3342 - val_accuracy: 0.8496\n",
            "Epoch 35/50\n",
            "2290/2290 [==============================] - 6s 3ms/step - loss: 0.3352 - accuracy: 0.8481 - val_loss: 0.3438 - val_accuracy: 0.8451\n",
            "Epoch 36/50\n",
            "2290/2290 [==============================] - 6s 3ms/step - loss: 0.3357 - accuracy: 0.8480 - val_loss: 0.3382 - val_accuracy: 0.8471\n",
            "Epoch 37/50\n",
            "2290/2290 [==============================] - 6s 3ms/step - loss: 0.3348 - accuracy: 0.8473 - val_loss: 0.3321 - val_accuracy: 0.8496\n",
            "Epoch 38/50\n",
            "2290/2290 [==============================] - 6s 3ms/step - loss: 0.3352 - accuracy: 0.8481 - val_loss: 0.3343 - val_accuracy: 0.8482\n",
            "Epoch 39/50\n",
            "2290/2290 [==============================] - 6s 3ms/step - loss: 0.3346 - accuracy: 0.8491 - val_loss: 0.3330 - val_accuracy: 0.8479\n",
            "Epoch 40/50\n",
            "2290/2290 [==============================] - 6s 3ms/step - loss: 0.3351 - accuracy: 0.8492 - val_loss: 0.3368 - val_accuracy: 0.8478\n",
            "Epoch 41/50\n",
            "2290/2290 [==============================] - 6s 3ms/step - loss: 0.3351 - accuracy: 0.8486 - val_loss: 0.3332 - val_accuracy: 0.8505\n",
            "Epoch 42/50\n",
            "2290/2290 [==============================] - 6s 3ms/step - loss: 0.3354 - accuracy: 0.8494 - val_loss: 0.3359 - val_accuracy: 0.8484\n",
            "Epoch 43/50\n",
            "2290/2290 [==============================] - 6s 3ms/step - loss: 0.3341 - accuracy: 0.8487 - val_loss: 0.3377 - val_accuracy: 0.8483\n",
            "Epoch 44/50\n",
            "2290/2290 [==============================] - 6s 3ms/step - loss: 0.3357 - accuracy: 0.8487 - val_loss: 0.3406 - val_accuracy: 0.8445\n",
            "Epoch 45/50\n",
            "2290/2290 [==============================] - 6s 3ms/step - loss: 0.3344 - accuracy: 0.8498 - val_loss: 0.3319 - val_accuracy: 0.8497\n",
            "Epoch 46/50\n",
            "2290/2290 [==============================] - 6s 3ms/step - loss: 0.3351 - accuracy: 0.8487 - val_loss: 0.3400 - val_accuracy: 0.8447\n",
            "Epoch 47/50\n",
            "2290/2290 [==============================] - 6s 3ms/step - loss: 0.3349 - accuracy: 0.8478 - val_loss: 0.3331 - val_accuracy: 0.8505\n",
            "Epoch 48/50\n",
            "2290/2290 [==============================] - 6s 3ms/step - loss: 0.3343 - accuracy: 0.8488 - val_loss: 0.3298 - val_accuracy: 0.8510\n",
            "Epoch 49/50\n",
            "2290/2290 [==============================] - 6s 3ms/step - loss: 0.3343 - accuracy: 0.8483 - val_loss: 0.3381 - val_accuracy: 0.8454\n",
            "Epoch 50/50\n",
            "2290/2290 [==============================] - 6s 3ms/step - loss: 0.3340 - accuracy: 0.8484 - val_loss: 0.3335 - val_accuracy: 0.8502\n"
          ],
          "name": "stdout"
        }
      ]
    },
    {
      "cell_type": "code",
      "metadata": {
        "colab": {
          "base_uri": "https://localhost:8080/",
          "height": 266
        },
        "id": "sOYyu3JDeU2Y",
        "outputId": "dd127b09-875f-4b40-8221-3a51cfe9a147"
      },
      "source": [
        "plt.plot(history_l2.history['loss'], label='train')\n",
        "plt.plot(history_l2.history['val_loss'], label='test')\n",
        "plt.legend()\n",
        "plt.show()"
      ],
      "execution_count": 57,
      "outputs": [
        {
          "output_type": "display_data",
          "data": {
            "image/png": "[encoded data removed]",
            "text/plain": [
              "<Figure size 432x288 with 1 Axes>"
            ]
          },
          "metadata": {
            "tags": [],
            "needs_background": "light"
          }
        }
      ]
    },
    {
      "cell_type": "code",
      "metadata": {
        "id": "Il2bAi54eV0s"
      },
      "source": [
        "\"\"\" 构建神经网络 \n",
        "使用l1正则化不使用Dropout\n",
        "使用Optimizer = adam\n",
        "loss = 'binary_crossentropy'\n",
        "最后输出层使用sigmoid激活函数\n",
        "\"\"\"\n",
        "model_l1 = Sequential()\n",
        "# keras.regularizers.l1(lambda)\n",
        "# keras.regularizers.l2(lambda)\n",
        "# keras.regularizers.l1_l2(l1=lambda1, l2=lambda2)\n",
        "model_l1.add(Dense(128, activation='tanh', input_shape=train_data[0].shape,kernel_regularizer=tf.keras.regularizers.l1(0.01)))\n",
        "model_l1.add(Dense(64, activation='tanh'))\n",
        "model_l1.add(Dense(1, activation='sigmoid'))"
      ],
      "execution_count": 58,
      "outputs": []
    },
    {
      "cell_type": "code",
      "metadata": {
        "colab": {
          "base_uri": "https://localhost:8080/"
        },
        "id": "IqfhiG9zebG9",
        "outputId": "23ff7677-b16f-452b-ad57-44f544cea141"
      },
      "source": [
        "model_l1.compile(optimizer='adam',loss = 'binary_crossentropy',metrics=['accuracy'])\n",
        "history_l1 = model_l1.fit(train_data, train_label, epochs=50, batch_size=16, validation_data=(test_data, test_label))"
      ],
      "execution_count": 59,
      "outputs": [
        {
          "output_type": "stream",
          "text": [
            "Epoch 1/50\n",
            "2290/2290 [==============================] - 6s 3ms/step - loss: 0.7422 - accuracy: 0.8403 - val_loss: 0.3861 - val_accuracy: 0.8451\n",
            "Epoch 2/50\n",
            "2290/2290 [==============================] - 6s 3ms/step - loss: 0.3775 - accuracy: 0.8475 - val_loss: 0.3730 - val_accuracy: 0.8451\n",
            "Epoch 3/50\n",
            "2290/2290 [==============================] - 6s 3ms/step - loss: 0.3728 - accuracy: 0.8466 - val_loss: 0.3649 - val_accuracy: 0.8476\n",
            "Epoch 4/50\n",
            "2290/2290 [==============================] - 6s 3ms/step - loss: 0.3733 - accuracy: 0.8472 - val_loss: 0.3595 - val_accuracy: 0.8494\n",
            "Epoch 5/50\n",
            "2290/2290 [==============================] - 6s 3ms/step - loss: 0.3726 - accuracy: 0.8467 - val_loss: 0.3656 - val_accuracy: 0.8451\n",
            "Epoch 6/50\n",
            "2290/2290 [==============================] - 6s 3ms/step - loss: 0.3725 - accuracy: 0.8472 - val_loss: 0.3712 - val_accuracy: 0.8486\n",
            "Epoch 7/50\n",
            "2290/2290 [==============================] - 6s 3ms/step - loss: 0.3780 - accuracy: 0.8463 - val_loss: 0.3902 - val_accuracy: 0.8493\n",
            "Epoch 8/50\n",
            "2290/2290 [==============================] - 6s 3ms/step - loss: 0.3693 - accuracy: 0.8472 - val_loss: 0.3644 - val_accuracy: 0.8466\n",
            "Epoch 9/50\n",
            "2290/2290 [==============================] - 6s 3ms/step - loss: 0.3727 - accuracy: 0.8488 - val_loss: 0.3681 - val_accuracy: 0.8465\n",
            "Epoch 10/50\n",
            "2290/2290 [==============================] - 6s 3ms/step - loss: 0.3722 - accuracy: 0.8470 - val_loss: 0.3617 - val_accuracy: 0.8497\n",
            "Epoch 11/50\n",
            "2290/2290 [==============================] - 6s 3ms/step - loss: 0.3733 - accuracy: 0.8491 - val_loss: 0.3623 - val_accuracy: 0.8469\n",
            "Epoch 12/50\n",
            "2290/2290 [==============================] - 6s 3ms/step - loss: 0.3695 - accuracy: 0.8482 - val_loss: 0.3683 - val_accuracy: 0.8441\n",
            "Epoch 13/50\n",
            "2290/2290 [==============================] - 6s 3ms/step - loss: 0.3713 - accuracy: 0.8464 - val_loss: 0.3594 - val_accuracy: 0.8501\n",
            "Epoch 14/50\n",
            "2290/2290 [==============================] - 6s 3ms/step - loss: 0.3707 - accuracy: 0.8467 - val_loss: 0.3611 - val_accuracy: 0.8475\n",
            "Epoch 15/50\n",
            "2290/2290 [==============================] - 6s 3ms/step - loss: 0.3723 - accuracy: 0.8459 - val_loss: 0.3791 - val_accuracy: 0.8472\n",
            "Epoch 16/50\n",
            "2290/2290 [==============================] - 6s 3ms/step - loss: 0.3727 - accuracy: 0.8481 - val_loss: 0.3696 - val_accuracy: 0.8497\n",
            "Epoch 17/50\n",
            "2290/2290 [==============================] - 6s 3ms/step - loss: 0.3703 - accuracy: 0.8466 - val_loss: 0.3635 - val_accuracy: 0.8486\n",
            "Epoch 18/50\n",
            "2290/2290 [==============================] - 6s 3ms/step - loss: 0.3724 - accuracy: 0.8477 - val_loss: 0.3795 - val_accuracy: 0.8515\n",
            "Epoch 19/50\n",
            "2290/2290 [==============================] - 6s 3ms/step - loss: 0.3707 - accuracy: 0.8480 - val_loss: 0.3717 - val_accuracy: 0.8472\n",
            "Epoch 20/50\n",
            "2290/2290 [==============================] - 6s 3ms/step - loss: 0.3702 - accuracy: 0.8471 - val_loss: 0.3641 - val_accuracy: 0.8446\n",
            "Epoch 21/50\n",
            "2290/2290 [==============================] - 6s 3ms/step - loss: 0.3744 - accuracy: 0.8469 - val_loss: 0.3634 - val_accuracy: 0.8492\n",
            "Epoch 22/50\n",
            "2290/2290 [==============================] - 6s 3ms/step - loss: 0.3710 - accuracy: 0.8475 - val_loss: 0.3715 - val_accuracy: 0.8502\n",
            "Epoch 23/50\n",
            "2290/2290 [==============================] - 6s 3ms/step - loss: 0.3711 - accuracy: 0.8466 - val_loss: 0.3661 - val_accuracy: 0.8464\n",
            "Epoch 24/50\n",
            "2290/2290 [==============================] - 6s 3ms/step - loss: 0.3696 - accuracy: 0.8463 - val_loss: 0.3619 - val_accuracy: 0.8519\n",
            "Epoch 25/50\n",
            "2290/2290 [==============================] - 6s 3ms/step - loss: 0.3694 - accuracy: 0.8467 - val_loss: 0.3689 - val_accuracy: 0.8477\n",
            "Epoch 26/50\n",
            "2290/2290 [==============================] - 7s 3ms/step - loss: 0.3715 - accuracy: 0.8459 - val_loss: 0.4007 - val_accuracy: 0.8485\n",
            "Epoch 27/50\n",
            "2290/2290 [==============================] - 6s 3ms/step - loss: 0.3711 - accuracy: 0.8483 - val_loss: 0.3768 - val_accuracy: 0.8494\n",
            "Epoch 28/50\n",
            "2290/2290 [==============================] - 6s 3ms/step - loss: 0.3717 - accuracy: 0.8458 - val_loss: 0.3775 - val_accuracy: 0.8477\n",
            "Epoch 29/50\n",
            "2290/2290 [==============================] - 6s 3ms/step - loss: 0.3714 - accuracy: 0.8468 - val_loss: 0.3639 - val_accuracy: 0.8451\n",
            "Epoch 30/50\n",
            "2290/2290 [==============================] - 6s 3ms/step - loss: 0.3700 - accuracy: 0.8483 - val_loss: 0.3892 - val_accuracy: 0.8449\n",
            "Epoch 31/50\n",
            "2290/2290 [==============================] - 6s 3ms/step - loss: 0.3736 - accuracy: 0.8484 - val_loss: 0.3656 - val_accuracy: 0.8482\n",
            "Epoch 32/50\n",
            "2290/2290 [==============================] - 6s 3ms/step - loss: 0.3710 - accuracy: 0.8472 - val_loss: 0.3721 - val_accuracy: 0.8483\n",
            "Epoch 33/50\n",
            "2290/2290 [==============================] - 6s 3ms/step - loss: 0.3700 - accuracy: 0.8487 - val_loss: 0.3783 - val_accuracy: 0.8488\n",
            "Epoch 34/50\n",
            "2290/2290 [==============================] - 6s 3ms/step - loss: 0.3689 - accuracy: 0.8467 - val_loss: 0.3621 - val_accuracy: 0.8465\n",
            "Epoch 35/50\n",
            "2290/2290 [==============================] - 6s 3ms/step - loss: 0.3689 - accuracy: 0.8466 - val_loss: 0.3678 - val_accuracy: 0.8492\n",
            "Epoch 36/50\n",
            "2290/2290 [==============================] - 6s 3ms/step - loss: 0.3727 - accuracy: 0.8487 - val_loss: 0.4026 - val_accuracy: 0.8422\n",
            "Epoch 37/50\n",
            "2290/2290 [==============================] - 6s 3ms/step - loss: 0.3708 - accuracy: 0.8464 - val_loss: 0.3740 - val_accuracy: 0.8489\n",
            "Epoch 38/50\n",
            "2290/2290 [==============================] - 6s 3ms/step - loss: 0.3673 - accuracy: 0.8488 - val_loss: 0.3628 - val_accuracy: 0.8464\n",
            "Epoch 39/50\n",
            "2290/2290 [==============================] - 6s 3ms/step - loss: 0.3721 - accuracy: 0.8458 - val_loss: 0.3685 - val_accuracy: 0.8448\n",
            "Epoch 40/50\n",
            "2290/2290 [==============================] - 6s 3ms/step - loss: 0.3689 - accuracy: 0.8472 - val_loss: 0.3739 - val_accuracy: 0.8473\n",
            "Epoch 41/50\n",
            "2290/2290 [==============================] - 6s 3ms/step - loss: 0.3717 - accuracy: 0.8472 - val_loss: 0.3688 - val_accuracy: 0.8466\n",
            "Epoch 42/50\n",
            "2290/2290 [==============================] - 6s 3ms/step - loss: 0.3690 - accuracy: 0.8471 - val_loss: 0.3703 - val_accuracy: 0.8496\n",
            "Epoch 43/50\n",
            "2290/2290 [==============================] - 6s 3ms/step - loss: 0.3696 - accuracy: 0.8456 - val_loss: 0.3723 - val_accuracy: 0.8504\n",
            "Epoch 44/50\n",
            "2290/2290 [==============================] - 6s 3ms/step - loss: 0.3712 - accuracy: 0.8472 - val_loss: 0.3645 - val_accuracy: 0.8487\n",
            "Epoch 45/50\n",
            "2290/2290 [==============================] - 6s 3ms/step - loss: 0.3705 - accuracy: 0.8460 - val_loss: 0.3668 - val_accuracy: 0.8464\n",
            "Epoch 46/50\n",
            "2290/2290 [==============================] - 6s 3ms/step - loss: 0.3693 - accuracy: 0.8479 - val_loss: 0.3760 - val_accuracy: 0.8460\n",
            "Epoch 47/50\n",
            "2290/2290 [==============================] - 6s 3ms/step - loss: 0.3688 - accuracy: 0.8468 - val_loss: 0.3590 - val_accuracy: 0.8485\n",
            "Epoch 48/50\n",
            "2290/2290 [==============================] - 6s 3ms/step - loss: 0.3699 - accuracy: 0.8467 - val_loss: 0.3625 - val_accuracy: 0.8504\n",
            "Epoch 49/50\n",
            "2290/2290 [==============================] - 6s 3ms/step - loss: 0.3724 - accuracy: 0.8473 - val_loss: 0.3673 - val_accuracy: 0.8510\n",
            "Epoch 50/50\n",
            "2290/2290 [==============================] - 6s 3ms/step - loss: 0.3678 - accuracy: 0.8486 - val_loss: 0.3634 - val_accuracy: 0.8477\n"
          ],
          "name": "stdout"
        }
      ]
    },
    {
      "cell_type": "code",
      "metadata": {
        "colab": {
          "base_uri": "https://localhost:8080/",
          "height": 265
        },
        "id": "ro3PuTmfebmE",
        "outputId": "2f9d9bdd-c9e0-42f4-8c1e-bb8dc1a53e9a"
      },
      "source": [
        "plt.plot(history_l1.history['loss'], label='train')\n",
        "plt.plot(history_l1.history['val_loss'], label='test')\n",
        "plt.legend()\n",
        "plt.show()"
      ],
      "execution_count": 60,
      "outputs": [
        {
          "output_type": "display_data",
          "data": {
            "image/png": "[encoded data removed]",
            "text/plain": [
              "<Figure size 432x288 with 1 Axes>"
            ]
          },
          "metadata": {
            "tags": [],
            "needs_background": "light"
          }
        }
      ]
    },
    {
      "cell_type": "code",
      "metadata": {
        "id": "bwIoiqZ1342j"
      },
      "source": [
        "\"\"\" 构建神经网络 \n",
        "使用l1正则化不使用Dropout\n",
        "使用Optimizer = adagrad\n",
        "loss = 'binary_crossentropy'\n",
        "最后输出层使用sigmoid激活函数\n",
        "\"\"\"\n",
        "model_l1_Adagrad = Sequential()\n",
        "# keras.regularizers.l1(lambda)\n",
        "# keras.regularizers.l2(lambda)\n",
        "# keras.regularizers.l1_l2(l1=lambda1, l2=lambda2)\n",
        "model_l1_Adagrad.add(Dense(128, activation='tanh', input_shape=train_data[0].shape,kernel_regularizer=tf.keras.regularizers.l1(0.01)))\n",
        "model_l1_Adagrad.add(Dense(64, activation='tanh'))\n",
        "model_l1_Adagrad.add(Dense(1, activation='sigmoid'))"
      ],
      "execution_count": 77,
      "outputs": []
    },
    {
      "cell_type": "code",
      "metadata": {
        "id": "bseAsIpF35JF",
        "outputId": "688a782b-613c-4ef8-a3cb-2fb013ba49c3",
        "colab": {
          "base_uri": "https://localhost:8080/"
        }
      },
      "source": [
        "model_l1_Adagrad.compile(optimizer='Adagrad',loss = 'binary_crossentropy',metrics=['accuracy'])\n",
        "history_l1_Adagrad = model_l1_Adagrad.fit(train_data, train_label, epochs=50, batch_size=16, validation_data=(test_data, test_label))"
      ],
      "execution_count": 78,
      "outputs": [
        {
          "output_type": "stream",
          "text": [
            "Epoch 1/50\n",
            "2290/2290 [==============================] - 7s 3ms/step - loss: 8.0088 - accuracy: 0.7891 - val_loss: 5.6487 - val_accuracy: 0.8382\n",
            "Epoch 2/50\n",
            "2290/2290 [==============================] - 6s 3ms/step - loss: 4.2595 - accuracy: 0.8371 - val_loss: 3.1335 - val_accuracy: 0.8398\n",
            "Epoch 3/50\n",
            "2290/2290 [==============================] - 6s 3ms/step - loss: 2.3868 - accuracy: 0.8398 - val_loss: 1.7649 - val_accuracy: 0.8410\n",
            "Epoch 4/50\n",
            "2290/2290 [==============================] - 6s 3ms/step - loss: 1.3524 - accuracy: 0.8396 - val_loss: 1.0147 - val_accuracy: 0.8410\n",
            "Epoch 5/50\n",
            "2290/2290 [==============================] - 6s 3ms/step - loss: 0.8219 - accuracy: 0.8391 - val_loss: 0.6764 - val_accuracy: 0.8416\n",
            "Epoch 6/50\n",
            "2290/2290 [==============================] - 6s 3ms/step - loss: 0.6153 - accuracy: 0.8385 - val_loss: 0.5624 - val_accuracy: 0.8414\n",
            "Epoch 7/50\n",
            "2290/2290 [==============================] - 6s 3ms/step - loss: 0.5354 - accuracy: 0.8387 - val_loss: 0.5065 - val_accuracy: 0.8424\n",
            "Epoch 8/50\n",
            "2290/2290 [==============================] - 6s 3ms/step - loss: 0.4932 - accuracy: 0.8392 - val_loss: 0.4741 - val_accuracy: 0.8429\n",
            "Epoch 9/50\n",
            "2290/2290 [==============================] - 6s 3ms/step - loss: 0.4675 - accuracy: 0.8394 - val_loss: 0.4539 - val_accuracy: 0.8434\n",
            "Epoch 10/50\n",
            "2290/2290 [==============================] - 6s 3ms/step - loss: 0.4505 - accuracy: 0.8399 - val_loss: 0.4392 - val_accuracy: 0.8439\n",
            "Epoch 11/50\n",
            "2290/2290 [==============================] - 6s 3ms/step - loss: 0.4381 - accuracy: 0.8399 - val_loss: 0.4288 - val_accuracy: 0.8440\n",
            "Epoch 12/50\n",
            "2290/2290 [==============================] - 6s 2ms/step - loss: 0.4290 - accuracy: 0.8408 - val_loss: 0.4209 - val_accuracy: 0.8448\n",
            "Epoch 13/50\n",
            "2290/2290 [==============================] - 6s 3ms/step - loss: 0.4218 - accuracy: 0.8408 - val_loss: 0.4144 - val_accuracy: 0.8447\n",
            "Epoch 14/50\n",
            "2290/2290 [==============================] - 6s 2ms/step - loss: 0.4159 - accuracy: 0.8415 - val_loss: 0.4090 - val_accuracy: 0.8460\n",
            "Epoch 15/50\n",
            "2290/2290 [==============================] - 6s 3ms/step - loss: 0.4109 - accuracy: 0.8423 - val_loss: 0.4044 - val_accuracy: 0.8464\n",
            "Epoch 16/50\n",
            "2290/2290 [==============================] - 6s 3ms/step - loss: 0.4065 - accuracy: 0.8425 - val_loss: 0.4004 - val_accuracy: 0.8466\n",
            "Epoch 17/50\n",
            "2290/2290 [==============================] - 6s 3ms/step - loss: 0.4027 - accuracy: 0.8429 - val_loss: 0.3967 - val_accuracy: 0.8473\n",
            "Epoch 18/50\n",
            "2290/2290 [==============================] - 6s 3ms/step - loss: 0.3993 - accuracy: 0.8433 - val_loss: 0.3935 - val_accuracy: 0.8470\n",
            "Epoch 19/50\n",
            "2290/2290 [==============================] - 6s 3ms/step - loss: 0.3963 - accuracy: 0.8437 - val_loss: 0.3910 - val_accuracy: 0.8475\n",
            "Epoch 20/50\n",
            "2290/2290 [==============================] - 6s 3ms/step - loss: 0.3936 - accuracy: 0.8441 - val_loss: 0.3883 - val_accuracy: 0.8469\n",
            "Epoch 21/50\n",
            "2290/2290 [==============================] - 6s 3ms/step - loss: 0.3911 - accuracy: 0.8447 - val_loss: 0.3862 - val_accuracy: 0.8478\n",
            "Epoch 22/50\n",
            "2290/2290 [==============================] - 6s 3ms/step - loss: 0.3888 - accuracy: 0.8448 - val_loss: 0.3839 - val_accuracy: 0.8473\n",
            "Epoch 23/50\n",
            "2290/2290 [==============================] - 6s 3ms/step - loss: 0.3867 - accuracy: 0.8450 - val_loss: 0.3824 - val_accuracy: 0.8483\n",
            "Epoch 24/50\n",
            "2290/2290 [==============================] - 6s 3ms/step - loss: 0.3848 - accuracy: 0.8454 - val_loss: 0.3801 - val_accuracy: 0.8488\n",
            "Epoch 25/50\n",
            "2290/2290 [==============================] - 6s 3ms/step - loss: 0.3831 - accuracy: 0.8454 - val_loss: 0.3785 - val_accuracy: 0.8487\n",
            "Epoch 26/50\n",
            "2290/2290 [==============================] - 6s 3ms/step - loss: 0.3814 - accuracy: 0.8461 - val_loss: 0.3771 - val_accuracy: 0.8487\n",
            "Epoch 27/50\n",
            "2290/2290 [==============================] - 6s 3ms/step - loss: 0.3799 - accuracy: 0.8460 - val_loss: 0.3758 - val_accuracy: 0.8492\n",
            "Epoch 28/50\n",
            "2290/2290 [==============================] - 6s 3ms/step - loss: 0.3785 - accuracy: 0.8465 - val_loss: 0.3743 - val_accuracy: 0.8494\n",
            "Epoch 29/50\n",
            "2290/2290 [==============================] - 6s 3ms/step - loss: 0.3772 - accuracy: 0.8465 - val_loss: 0.3733 - val_accuracy: 0.8488\n",
            "Epoch 30/50\n",
            "2290/2290 [==============================] - 6s 3ms/step - loss: 0.3761 - accuracy: 0.8472 - val_loss: 0.3721 - val_accuracy: 0.8492\n",
            "Epoch 31/50\n",
            "2290/2290 [==============================] - 6s 3ms/step - loss: 0.3750 - accuracy: 0.8472 - val_loss: 0.3713 - val_accuracy: 0.8496\n",
            "Epoch 32/50\n",
            "2290/2290 [==============================] - 6s 3ms/step - loss: 0.3740 - accuracy: 0.8476 - val_loss: 0.3705 - val_accuracy: 0.8500\n",
            "Epoch 33/50\n",
            "2290/2290 [==============================] - 6s 3ms/step - loss: 0.3731 - accuracy: 0.8475 - val_loss: 0.3693 - val_accuracy: 0.8500\n",
            "Epoch 34/50\n",
            "2290/2290 [==============================] - 6s 3ms/step - loss: 0.3722 - accuracy: 0.8481 - val_loss: 0.3685 - val_accuracy: 0.8499\n",
            "Epoch 35/50\n",
            "2290/2290 [==============================] - 6s 3ms/step - loss: 0.3713 - accuracy: 0.8479 - val_loss: 0.3676 - val_accuracy: 0.8501\n",
            "Epoch 36/50\n",
            "2290/2290 [==============================] - 6s 3ms/step - loss: 0.3705 - accuracy: 0.8479 - val_loss: 0.3671 - val_accuracy: 0.8498\n",
            "Epoch 37/50\n",
            "2290/2290 [==============================] - 6s 3ms/step - loss: 0.3697 - accuracy: 0.8483 - val_loss: 0.3665 - val_accuracy: 0.8501\n",
            "Epoch 38/50\n",
            "2290/2290 [==============================] - 6s 3ms/step - loss: 0.3690 - accuracy: 0.8486 - val_loss: 0.3656 - val_accuracy: 0.8501\n",
            "Epoch 39/50\n",
            "2290/2290 [==============================] - 6s 3ms/step - loss: 0.3683 - accuracy: 0.8488 - val_loss: 0.3650 - val_accuracy: 0.8507\n",
            "Epoch 40/50\n",
            "2290/2290 [==============================] - 6s 3ms/step - loss: 0.3676 - accuracy: 0.8487 - val_loss: 0.3644 - val_accuracy: 0.8507\n",
            "Epoch 41/50\n",
            "2290/2290 [==============================] - 6s 3ms/step - loss: 0.3670 - accuracy: 0.8487 - val_loss: 0.3639 - val_accuracy: 0.8505\n",
            "Epoch 42/50\n",
            "2290/2290 [==============================] - 6s 3ms/step - loss: 0.3663 - accuracy: 0.8487 - val_loss: 0.3630 - val_accuracy: 0.8507\n",
            "Epoch 43/50\n",
            "2290/2290 [==============================] - 6s 3ms/step - loss: 0.3657 - accuracy: 0.8489 - val_loss: 0.3628 - val_accuracy: 0.8508\n",
            "Epoch 44/50\n",
            "2290/2290 [==============================] - 6s 3ms/step - loss: 0.3651 - accuracy: 0.8492 - val_loss: 0.3621 - val_accuracy: 0.8506\n",
            "Epoch 45/50\n",
            "2290/2290 [==============================] - 6s 3ms/step - loss: 0.3646 - accuracy: 0.8492 - val_loss: 0.3621 - val_accuracy: 0.8508\n",
            "Epoch 46/50\n",
            "2290/2290 [==============================] - 6s 3ms/step - loss: 0.3640 - accuracy: 0.8487 - val_loss: 0.3609 - val_accuracy: 0.8507\n",
            "Epoch 47/50\n",
            "2290/2290 [==============================] - 6s 3ms/step - loss: 0.3635 - accuracy: 0.8490 - val_loss: 0.3605 - val_accuracy: 0.8507\n",
            "Epoch 48/50\n",
            "2290/2290 [==============================] - 6s 3ms/step - loss: 0.3630 - accuracy: 0.8489 - val_loss: 0.3602 - val_accuracy: 0.8514\n",
            "Epoch 49/50\n",
            "2290/2290 [==============================] - 6s 3ms/step - loss: 0.3625 - accuracy: 0.8491 - val_loss: 0.3598 - val_accuracy: 0.8511\n",
            "Epoch 50/50\n",
            "2290/2290 [==============================] - 6s 3ms/step - loss: 0.3621 - accuracy: 0.8491 - val_loss: 0.3593 - val_accuracy: 0.8510\n"
          ],
          "name": "stdout"
        }
      ]
    },
    {
      "cell_type": "code",
      "metadata": {
        "id": "WBPNXrX43-nV",
        "outputId": "e7cff20e-1210-4efd-965e-b2c79bc5dd54",
        "colab": {
          "base_uri": "https://localhost:8080/",
          "height": 265
        }
      },
      "source": [
        "plt.plot(history_l1_Adagrad.history['loss'], label='train')\n",
        "plt.plot(history_l1_Adagrad.history['val_loss'], label='test')\n",
        "plt.legend()\n",
        "plt.show()"
      ],
      "execution_count": 80,
      "outputs": [
        {
          "output_type": "display_data",
          "data": {
            "image/png": "[encoded data removed]",
            "text/plain": [
              "<Figure size 432x288 with 1 Axes>"
            ]
          },
          "metadata": {
            "tags": [],
            "needs_background": "light"
          }
        }
      ]
    },
    {
      "cell_type": "code",
      "metadata": {
        "id": "i72pIX3H-xAf"
      },
      "source": [
        "\"\"\" 构建神经网络 \n",
        "使用l2_l1正则化\n",
        "使用Dropout\n",
        "使用Optimizer = adam\n",
        "loss = 'binary_crossentropy'\n",
        "最后输出层使用sigmoid激活函数\n",
        "\"\"\"\n",
        "model = Sequential()\n",
        "# keras.regularizers.l1(lambda)\n",
        "# keras.regularizers.l2(lambda)\n",
        "# keras.regularizers.l1_l2(l1=lambda1, l2=lambda2)\n",
        "model.add(Dense(128, activation='tanh', input_shape=train_data[0].shape,kernel_regularizer=tf.keras.regularizers.l1_l2(0.05,0.05)))\n",
        "model.add(Dense(64, activation='tanh'))\n",
        "model.add(Dropout(0.25))\n",
        "model.add(Dense(1, activation='sigmoid'))"
      ],
      "execution_count": 71,
      "outputs": []
    },
    {
      "cell_type": "code",
      "metadata": {
        "colab": {
          "base_uri": "https://localhost:8080/"
        },
        "id": "mCQ2gYPjAfIi",
        "outputId": "50020abf-ddc3-48fe-ea45-de08f31c7426"
      },
      "source": [
        "model.compile(optimizer='adam',loss = 'binary_crossentropy',metrics=['accuracy'])\n",
        "history = model.fit(train_data, train_label, epochs=50, batch_size=16, validation_data=(test_data, test_label))"
      ],
      "execution_count": 72,
      "outputs": [
        {
          "output_type": "stream",
          "text": [
            "Epoch 1/50\n",
            "2290/2290 [==============================] - 6s 3ms/step - loss: 2.0142 - accuracy: 0.8287 - val_loss: 0.4856 - val_accuracy: 0.8451\n",
            "Epoch 2/50\n",
            "2290/2290 [==============================] - 6s 3ms/step - loss: 0.4928 - accuracy: 0.8436 - val_loss: 0.4749 - val_accuracy: 0.8457\n",
            "Epoch 3/50\n",
            "2290/2290 [==============================] - 6s 3ms/step - loss: 0.4870 - accuracy: 0.8411 - val_loss: 0.4802 - val_accuracy: 0.8432\n",
            "Epoch 4/50\n",
            "2290/2290 [==============================] - 6s 3ms/step - loss: 0.4826 - accuracy: 0.8435 - val_loss: 0.4801 - val_accuracy: 0.8473\n",
            "Epoch 5/50\n",
            "2290/2290 [==============================] - 6s 3ms/step - loss: 0.4841 - accuracy: 0.8416 - val_loss: 0.4710 - val_accuracy: 0.8443\n",
            "Epoch 6/50\n",
            "2290/2290 [==============================] - 6s 3ms/step - loss: 0.4841 - accuracy: 0.8434 - val_loss: 0.4677 - val_accuracy: 0.8465\n",
            "Epoch 7/50\n",
            "2290/2290 [==============================] - 6s 3ms/step - loss: 0.4839 - accuracy: 0.8432 - val_loss: 0.4752 - val_accuracy: 0.8442\n",
            "Epoch 8/50\n",
            "2290/2290 [==============================] - 6s 3ms/step - loss: 0.4822 - accuracy: 0.8421 - val_loss: 0.4783 - val_accuracy: 0.8458\n",
            "Epoch 9/50\n",
            "2290/2290 [==============================] - 6s 3ms/step - loss: 0.4809 - accuracy: 0.8426 - val_loss: 0.4780 - val_accuracy: 0.8482\n",
            "Epoch 10/50\n",
            "2290/2290 [==============================] - 6s 3ms/step - loss: 0.4827 - accuracy: 0.8423 - val_loss: 0.4852 - val_accuracy: 0.8444\n",
            "Epoch 11/50\n",
            "2290/2290 [==============================] - 6s 3ms/step - loss: 0.4828 - accuracy: 0.8420 - val_loss: 0.4713 - val_accuracy: 0.8443\n",
            "Epoch 12/50\n",
            "2290/2290 [==============================] - 6s 3ms/step - loss: 0.4797 - accuracy: 0.8415 - val_loss: 0.4936 - val_accuracy: 0.8392\n",
            "Epoch 13/50\n",
            "2290/2290 [==============================] - 6s 3ms/step - loss: 0.4820 - accuracy: 0.8426 - val_loss: 0.4665 - val_accuracy: 0.8460\n",
            "Epoch 14/50\n",
            "2290/2290 [==============================] - 6s 3ms/step - loss: 0.4808 - accuracy: 0.8425 - val_loss: 0.4722 - val_accuracy: 0.8482\n",
            "Epoch 15/50\n",
            "2290/2290 [==============================] - 6s 3ms/step - loss: 0.4779 - accuracy: 0.8424 - val_loss: 0.4818 - val_accuracy: 0.8471\n",
            "Epoch 16/50\n",
            "2290/2290 [==============================] - 6s 3ms/step - loss: 0.4777 - accuracy: 0.8435 - val_loss: 0.4943 - val_accuracy: 0.8424\n",
            "Epoch 17/50\n",
            "2290/2290 [==============================] - 6s 3ms/step - loss: 0.4806 - accuracy: 0.8417 - val_loss: 0.4651 - val_accuracy: 0.8471\n",
            "Epoch 18/50\n",
            "2290/2290 [==============================] - 6s 3ms/step - loss: 0.4789 - accuracy: 0.8431 - val_loss: 0.4730 - val_accuracy: 0.8444\n",
            "Epoch 19/50\n",
            "2290/2290 [==============================] - 6s 3ms/step - loss: 0.4783 - accuracy: 0.8432 - val_loss: 0.4673 - val_accuracy: 0.8470\n",
            "Epoch 20/50\n",
            "2290/2290 [==============================] - 6s 3ms/step - loss: 0.4799 - accuracy: 0.8428 - val_loss: 0.4668 - val_accuracy: 0.8461\n",
            "Epoch 21/50\n",
            "2290/2290 [==============================] - 6s 3ms/step - loss: 0.4779 - accuracy: 0.8434 - val_loss: 0.4825 - val_accuracy: 0.8451\n",
            "Epoch 22/50\n",
            "2290/2290 [==============================] - 7s 3ms/step - loss: 0.4774 - accuracy: 0.8432 - val_loss: 0.4715 - val_accuracy: 0.8465\n",
            "Epoch 23/50\n",
            "2290/2290 [==============================] - 6s 3ms/step - loss: 0.4797 - accuracy: 0.8432 - val_loss: 0.4655 - val_accuracy: 0.8444\n",
            "Epoch 24/50\n",
            "2290/2290 [==============================] - 6s 3ms/step - loss: 0.4780 - accuracy: 0.8433 - val_loss: 0.4835 - val_accuracy: 0.8460\n",
            "Epoch 25/50\n",
            "2290/2290 [==============================] - 6s 3ms/step - loss: 0.4756 - accuracy: 0.8425 - val_loss: 0.4914 - val_accuracy: 0.8456\n",
            "Epoch 26/50\n",
            "2290/2290 [==============================] - 6s 3ms/step - loss: 0.4775 - accuracy: 0.8430 - val_loss: 0.4790 - val_accuracy: 0.8438\n",
            "Epoch 27/50\n",
            "2290/2290 [==============================] - 6s 3ms/step - loss: 0.4775 - accuracy: 0.8426 - val_loss: 0.4960 - val_accuracy: 0.8377\n",
            "Epoch 28/50\n",
            "2290/2290 [==============================] - 6s 3ms/step - loss: 0.4784 - accuracy: 0.8419 - val_loss: 0.4569 - val_accuracy: 0.8461\n",
            "Epoch 29/50\n",
            "2290/2290 [==============================] - 6s 3ms/step - loss: 0.4762 - accuracy: 0.8427 - val_loss: 0.4675 - val_accuracy: 0.8453\n",
            "Epoch 30/50\n",
            "2290/2290 [==============================] - 6s 3ms/step - loss: 0.4784 - accuracy: 0.8444 - val_loss: 0.4735 - val_accuracy: 0.8424\n",
            "Epoch 31/50\n",
            "2290/2290 [==============================] - 6s 3ms/step - loss: 0.4772 - accuracy: 0.8424 - val_loss: 0.4739 - val_accuracy: 0.8414\n",
            "Epoch 32/50\n",
            "2290/2290 [==============================] - 6s 3ms/step - loss: 0.4783 - accuracy: 0.8417 - val_loss: 0.4749 - val_accuracy: 0.8417\n",
            "Epoch 33/50\n",
            "2290/2290 [==============================] - 6s 3ms/step - loss: 0.4771 - accuracy: 0.8430 - val_loss: 0.4687 - val_accuracy: 0.8454\n",
            "Epoch 34/50\n",
            "2290/2290 [==============================] - 6s 3ms/step - loss: 0.4779 - accuracy: 0.8421 - val_loss: 0.4814 - val_accuracy: 0.8443\n",
            "Epoch 35/50\n",
            "2290/2290 [==============================] - 6s 3ms/step - loss: 0.4759 - accuracy: 0.8437 - val_loss: 0.4842 - val_accuracy: 0.8431\n",
            "Epoch 36/50\n",
            "2290/2290 [==============================] - 6s 3ms/step - loss: 0.4773 - accuracy: 0.8423 - val_loss: 0.4696 - val_accuracy: 0.8455\n",
            "Epoch 37/50\n",
            "2290/2290 [==============================] - 6s 3ms/step - loss: 0.4767 - accuracy: 0.8413 - val_loss: 0.4801 - val_accuracy: 0.8383\n",
            "Epoch 38/50\n",
            "2290/2290 [==============================] - 6s 3ms/step - loss: 0.4746 - accuracy: 0.8438 - val_loss: 0.4823 - val_accuracy: 0.8449\n",
            "Epoch 39/50\n",
            "2290/2290 [==============================] - 6s 3ms/step - loss: 0.4754 - accuracy: 0.8436 - val_loss: 0.4771 - val_accuracy: 0.8439\n",
            "Epoch 40/50\n",
            "2290/2290 [==============================] - 6s 3ms/step - loss: 0.4770 - accuracy: 0.8423 - val_loss: 0.4780 - val_accuracy: 0.8445\n",
            "Epoch 41/50\n",
            "2290/2290 [==============================] - 6s 3ms/step - loss: 0.4757 - accuracy: 0.8421 - val_loss: 0.4785 - val_accuracy: 0.8460\n",
            "Epoch 42/50\n",
            "2290/2290 [==============================] - 6s 3ms/step - loss: 0.4767 - accuracy: 0.8412 - val_loss: 0.4612 - val_accuracy: 0.8463\n",
            "Epoch 43/50\n",
            "2290/2290 [==============================] - 6s 3ms/step - loss: 0.4759 - accuracy: 0.8421 - val_loss: 0.4954 - val_accuracy: 0.8386\n",
            "Epoch 44/50\n",
            "2290/2290 [==============================] - 6s 3ms/step - loss: 0.4758 - accuracy: 0.8426 - val_loss: 0.4690 - val_accuracy: 0.8443\n",
            "Epoch 45/50\n",
            "2290/2290 [==============================] - 6s 3ms/step - loss: 0.4749 - accuracy: 0.8440 - val_loss: 0.4695 - val_accuracy: 0.8492\n",
            "Epoch 46/50\n",
            "2290/2290 [==============================] - 6s 3ms/step - loss: 0.4742 - accuracy: 0.8433 - val_loss: 0.4877 - val_accuracy: 0.8423\n",
            "Epoch 47/50\n",
            "2290/2290 [==============================] - 6s 3ms/step - loss: 0.4741 - accuracy: 0.8428 - val_loss: 0.4785 - val_accuracy: 0.8456\n",
            "Epoch 48/50\n",
            "2290/2290 [==============================] - 6s 3ms/step - loss: 0.4751 - accuracy: 0.8431 - val_loss: 0.4742 - val_accuracy: 0.8421\n",
            "Epoch 49/50\n",
            "2290/2290 [==============================] - 6s 3ms/step - loss: 0.4735 - accuracy: 0.8425 - val_loss: 0.4741 - val_accuracy: 0.8410\n",
            "Epoch 50/50\n",
            "2290/2290 [==============================] - 6s 3ms/step - loss: 0.4742 - accuracy: 0.8415 - val_loss: 0.4802 - val_accuracy: 0.8454\n"
          ],
          "name": "stdout"
        }
      ]
    },
    {
      "cell_type": "code",
      "metadata": {
        "id": "dRRUCNyBF5CG",
        "colab": {
          "base_uri": "https://localhost:8080/",
          "height": 265
        },
        "outputId": "06560f4f-5b39-4dc2-fcb8-9c84d933f01f"
      },
      "source": [
        "plt.plot(history.history['loss'], label='train')\n",
        "plt.plot(history.history['val_loss'], label='test')\n",
        "plt.legend()\n",
        "plt.show()"
      ],
      "execution_count": 73,
      "outputs": [
        {
          "output_type": "display_data",
          "data": {
            "image/png": "[encoded data removed]",
            "text/plain": [
              "<Figure size 432x288 with 1 Axes>"
            ]
          },
          "metadata": {
            "tags": [],
            "needs_background": "light"
          }
        }
      ]
    },
    {
      "cell_type": "code",
      "metadata": {
        "id": "ghs_BdNnGB9z",
        "colab": {
          "base_uri": "https://localhost:8080/"
        },
        "outputId": "f8d5ef07-725f-47bf-9ef9-e9b4d2674e0a"
      },
      "source": [
        "salary_pre = model.predict(test_data)\n",
        "for i,j in zip(salary_pre , test_label):\n",
        "  if j == 1:\n",
        "    print(i,j,end=' ')\n",
        "    # input(   )"
      ],
      "execution_count": 64,
      "outputs": [
        {
          "output_type": "stream",
          "text": [
            "[0.8672245] 1 [0.8072985] 1 [0.47682205] 1 [0.45370755] 1 [0.3791679] 1 [0.28759196] 1 [0.2476546] 1 [0.36525434] 1 [0.78868926] 1 [0.2955238] 1 [0.8208797] 1 [0.78580475] 1 [0.73121023] 1 [0.59865737] 1 [0.68776244] 1 [0.65119356] 1 [0.2609322] 1 [0.5312864] 1 [0.5117241] 1 [0.7947812] 1 [0.424385] 1 [0.47382307] 1 [0.907853] 1 [0.70427567] 1 [0.9366414] 1 [0.80253637] 1 [0.9037702] 1 [0.64478385] 1 [0.37833926] 1 [0.1494762] 1 [0.9281676] 1 [0.82025737] 1 [0.30001748] 1 [0.38149694] 1 [0.8395353] 1 [0.87210816] 1 [0.23839742] 1 [0.5685707] 1 [0.31166723] 1 [0.5206632] 1 [0.38588652] 1 [0.5634514] 1 [0.42347243] 1 [0.41464186] 1 [0.66616964] 1 [0.52501667] 1 [0.72498405] 1 [0.63515264] 1 [0.43086928] 1 [0.5584419] 1 [0.1423596] 1 [0.76013917] 1 [0.26016173] 1 [0.8205706] 1 [0.4221086] 1 [0.22899607] 1 [0.09941889] 1 [0.47754055] 1 [0.44080207] 1 [0.9263958] 1 [0.41438952] 1 [0.49576408] 1 [0.576951] 1 [0.4628839] 1 [0.70781285] 1 [0.5538138] 1 [0.5263795] 1 [0.66866976] 1 [0.8506853] 1 [0.3060386] 1 [0.7192731] 1 [0.10677186] 1 [0.09416568] 1 [0.18893343] 1 [0.72366416] 1 [0.9721985] 1 [0.95752394] 1 [0.8245218] 1 [0.1174293] 1 [0.4162311] 1 [0.7850556] 1 [0.9583487] 1 [0.5666362] 1 [0.85537106] 1 [0.87165725] 1 [0.6780539] 1 [0.7580757] 1 [0.46524668] 1 [0.76963055] 1 [0.5082596] 1 [0.8190041] 1 [0.8871863] 1 [0.97235346] 1 [0.8257387] 1 [0.33819562] 1 [0.7306332] 1 [0.03806759] 1 [0.0671479] 1 [0.9519547] 1 [0.69862485] 1 [0.3179664] 1 [0.3563038] 1 [0.95483613] 1 [0.4498686] 1 [0.36322775] 1 [0.80496687] 1 [0.7700799] 1 [0.37904134] 1 [0.87438935] 1 [0.32028684] 1 [0.44190338] 1 [0.53953826] 1 [0.55779517] 1 [0.48781493] 1 [0.2874605] 1 [0.61576056] 1 [0.9040625] 1 [0.9017219] 1 [0.8660328] 1 [0.7824705] 1 [0.41625318] 1 [0.23662928] 1 [0.8158757] 1 [0.8172917] 1 [0.50284666] 1 [0.31315568] 1 [0.9545336] 1 [0.8547898] 1 [0.5142402] 1 [0.86255145] 1 [0.735597] 1 [0.706253] 1 [0.8407787] 1 [0.42714772] 1 [0.12847291] 1 [0.73263377] 1 [0.47621602] 1 [0.7535415] 1 [0.3036048] 1 [0.5681451] 1 [0.2429087] 1 [0.6737012] 1 [0.74830323] 1 [0.6582059] 1 [0.7384544] 1 [0.78062] 1 [0.12882955] 1 [0.6025298] 1 [0.3277133] 1 [0.79994506] 1 [0.7447434] 1 [0.253309] 1 [0.85637784] 1 [0.4791034] 1 [0.8337475] 1 [0.597408] 1 [0.80748516] 1 [0.57431895] 1 [0.7792631] 1 [0.42632267] 1 [0.53397715] 1 [0.8919532] 1 [0.8853975] 1 [0.6702806] 1 [0.62295765] 1 [0.581203] 1 [0.540843] 1 [0.75848395] 1 [0.5030168] 1 [0.7754505] 1 [0.6978584] 1 [0.6658529] 1 [0.69266546] 1 [0.763399] 1 [0.5973269] 1 [0.3761626] 1 [0.5157255] 1 [0.631541] 1 [0.8245412] 1 [0.04453415] 1 [0.7362414] 1 [0.40932307] 1 [0.25960293] 1 [0.74601465] 1 [0.65197283] 1 [0.5138304] 1 [0.03497615] 1 [0.7174065] 1 [0.23675172] 1 [0.6060191] 1 [0.67251134] 1 [0.66103977] 1 [0.71052456] 1 [0.29979226] 1 [0.6596177] 1 [0.9350951] 1 [0.7180234] 1 [0.869395] 1 [0.8574661] 1 [0.9487604] 1 [0.5598669] 1 [0.7799205] 1 [0.25986353] 1 [0.77912253] 1 [0.64357436] 1 [0.7965123] 1 [0.63202685] 1 [0.77156895] 1 [0.94444215] 1 [0.7695892] 1 [0.83353627] 1 [0.6299531] 1 [0.3587827] 1 [0.056093] 1 [0.9406892] 1 [0.82387024] 1 [0.9277306] 1 [0.50168246] 1 [0.8658146] 1 [0.39407468] 1 [0.46863994] 1 [0.30774617] 1 [0.7124165] 1 [0.66154754] 1 [0.75693417] 1 [0.8395343] 1 [0.97216517] 1 [0.61028713] 1 [0.97206897] 1 [0.46760932] 1 [0.81413007] 1 [0.37962326] 1 [0.15897964] 1 [0.12480342] 1 [0.69480985] 1 [0.17130187] 1 [0.32715964] 1 [0.13437782] 1 [0.12383109] 1 [0.6710522] 1 [0.8287124] 1 [0.9077525] 1 [0.75376433] 1 [0.9421527] 1 [0.82098436] 1 [0.23651308] 1 [0.74421555] 1 [0.97195184] 1 [0.83405703] 1 [0.34532443] 1 [0.27484146] 1 [0.774605] 1 [0.12841386] 1 [0.43490502] 1 [0.49553442] 1 [0.97192603] 1 [0.6922831] 1 [0.9266137] 1 [0.9458117] 1 [0.20312127] 1 [0.24661754] 1 [0.97199464] 1 [0.9349402] 1 [0.5426477] 1 [0.7610482] 1 [0.7188681] 1 [0.7445278] 1 [0.76970696] 1 [0.61868227] 1 [0.4611291] 1 [0.92696667] 1 [0.4494959] 1 [0.7204481] 1 [0.93606687] 1 [0.75521946] 1 [0.38195345] 1 [0.47513115] 1 [0.6599194] 1 [0.90091026] 1 [0.8088958] 1 [0.5191451] 1 [0.6201683] 1 [0.1771475] 1 [0.30469158] 1 [0.5417407] 1 [0.7906722] 1 [0.81096774] 1 [0.9442671] 1 [0.9496226] 1 [0.7778383] 1 [0.369149] 1 [0.7736261] 1 [0.9721177] 1 [0.33453274] 1 [0.24956864] 1 [0.4869023] 1 [0.45676163] 1 [0.9045604] 1 [0.79565847] 1 [0.74818206] 1 [0.95346665] 1 [0.15969487] 1 [0.424712] 1 [0.5900463] 1 [0.40493307] 1 [0.47985455] 1 [0.804128] 1 [0.42346445] 1 [0.48956478] 1 [0.19001037] 1 [0.25246763] 1 [0.618675] 1 [0.8245902] 1 [0.68724835] 1 [0.55524874] 1 [0.51844126] 1 [0.6322157] 1 [0.9240245] 1 [0.86753213] 1 [0.575866] 1 [0.24800475] 1 [0.23245843] 1 [0.5982297] 1 [0.64985025] 1 [0.00882804] 1 [0.5717011] 1 [0.76553214] 1 [0.780033] 1 [0.8352223] 1 [0.45331085] 1 [0.24602278] 1 [0.9604009] 1 [0.81790197] 1 [0.34294656] 1 [0.4636866] 1 [0.5357348] 1 [0.377371] 1 [0.3115378] 1 [0.4246839] 1 [0.6188674] 1 [0.46215567] 1 [0.3790144] 1 [0.3179143] 1 [0.4978659] 1 [0.93512124] 1 [0.7885459] 1 [0.8634108] 1 [0.97224146] 1 [0.93798983] 1 [0.9065597] 1 [0.6109894] 1 [0.3520857] 1 [0.15854599] 1 [0.84014523] 1 [0.9720853] 1 [0.3808787] 1 [0.95115364] 1 [0.2711031] 1 [0.81813014] 1 [0.63597053] 1 [0.8592141] 1 [0.20656185] 1 [0.32613686] 1 [0.7813095] 1 [0.5502782] 1 [0.5026263] 1 [0.8238583] 1 [0.1719319] 1 [0.6351285] 1 [0.3244292] 1 [0.64284205] 1 [0.55263454] 1 [0.1860266] 1 [0.860863] 1 [0.23765722] 1 [0.50897115] 1 [0.9491047] 1 [0.17486364] 1 [0.8632495] 1 [0.5544576] 1 [0.87910676] 1 [0.6811293] 1 [0.00518384] 1 [0.5293826] 1 [0.8247833] 1 [0.90553313] 1 [0.32044002] 1 [0.8026522] 1 [0.1806876] 1 [0.74955064] 1 [0.654555] 1 [0.34888712] 1 [0.57603663] 1 [0.85456955] 1 [0.74406505] 1 [0.9474125] 1 [0.69764966] 1 [0.46894488] 1 [0.5509425] 1 [0.66433483] 1 [0.52016395] 1 [0.3472675] 1 [0.32416138] 1 [0.7455985] 1 [0.78642035] 1 [0.7257902] 1 [0.06819247] 1 [0.3255018] 1 [0.9722119] 1 [0.33450392] 1 [0.42151195] 1 [0.7749957] 1 [0.7071579] 1 [0.7522549] 1 [0.18248522] 1 [0.28296325] 1 [0.3158887] 1 [0.26943758] 1 [0.80164737] 1 [0.7964698] 1 [0.89091426] 1 [0.58634853] 1 [0.75762945] 1 [0.6730268] 1 [0.2863546] 1 [0.95018816] 1 [0.73406506] 1 [0.69710183] 1 [0.6575513] 1 [0.5581996] 1 [0.94404954] 1 [0.5856961] 1 [0.73600674] 1 [0.8710398] 1 [0.3713514] 1 [0.29493558] 1 [0.7495339] 1 [0.8262398] 1 [0.46928236] 1 [0.80502355] 1 [0.5856747] 1 [0.73110807] 1 [0.43050802] 1 [0.8706061] 1 [0.55263174] 1 [0.5036516] 1 [0.7291271] 1 [0.6745575] 1 [0.5645762] 1 [0.87775517] 1 [0.4997882] 1 [0.7608588] 1 [0.4390655] 1 [0.14003213] 1 [0.22914821] 1 [0.33296975] 1 [0.64258707] 1 [0.77739286] 1 [0.31332648] 1 [0.7252777] 1 [0.49311724] 1 [0.94357634] 1 [0.36401528] 1 [0.4512673] 1 [0.85324764] 1 [0.7838821] 1 [0.856585] 1 [0.8005717] 1 [0.86729634] 1 [0.2487877] 1 [0.64159125] 1 [0.6106901] 1 [0.48256433] 1 [0.92733765] 1 [0.6367788] 1 [0.8233804] 1 [0.48318225] 1 [0.81113046] 1 [0.52154857] 1 [0.22095975] 1 [0.48754123] 1 [0.8353157] 1 [0.70506865] 1 [0.50079393] 1 [0.87651986] 1 [0.7511272] 1 [0.30650795] 1 [0.6487133] 1 [0.3445858] 1 [0.2723919] 1 [0.5748044] 1 [0.02892298] 1 [0.5553035] 1 [0.20775056] 1 [0.5385862] 1 [0.05280023] 1 [0.9421112] 1 [0.60043424] 1 [0.6783151] 1 [0.59835947] 1 [0.7813102] 1 [0.6463706] 1 [0.9722269] 1 [0.8251859] 1 [0.68328094] 1 [0.7781844] 1 [0.83777356] 1 [0.94404775] 1 [0.8743536] 1 [0.6510299] 1 [0.9429124] 1 [0.53981805] 1 [0.12726927] 1 [0.15338844] 1 [0.06679282] 1 [0.84307855] 1 [0.32319584] 1 [0.8507095] 1 [0.5545733] 1 [0.74073964] 1 [0.25084832] 1 [0.13488263] 1 [0.40488046] 1 [0.46229786] 1 [0.54776925] 1 [0.483541] 1 [0.88394797] 1 [0.622229] 1 [0.6564981] 1 [0.8283711] 1 [0.47356066] 1 [0.719805] 1 [0.61685294] 1 [0.8703595] 1 [0.8946522] 1 [0.30655476] 1 [0.53125703] 1 [0.49147186] 1 [0.358161] 1 [0.67935103] 1 [0.40663993] 1 [0.8913729] 1 [0.38295022] 1 [0.8535209] 1 [0.24552417] 1 [0.19516915] 1 [0.9305256] 1 [0.55535716] 1 [0.9148009] 1 [0.45871663] 1 [0.9525927] 1 [0.61795706] 1 [0.40533593] 1 [0.805939] 1 [0.83104897] 1 [0.8751643] 1 [0.82305646] 1 [0.51677144] 1 [0.93092644] 1 [0.14669189] 1 [0.20716964] 1 [0.5541162] 1 [0.40415278] 1 [0.6911231] 1 [0.9359434] 1 [0.9435524] 1 [0.5912864] 1 [0.63375854] 1 [0.60297453] 1 [0.4844857] 1 [0.0574078] 1 [0.31866762] 1 [0.43269867] 1 [0.7695958] 1 [0.7675061] 1 [0.84704906] 1 [0.5869853] 1 [0.10968719] 1 [0.9082012] 1 [0.12017629] 1 [0.19851764] 1 [0.24754895] 1 [0.46467683] 1 [0.93901604] 1 [0.97254443] 1 [0.65209293] 1 [0.14586656] 1 [0.48919654] 1 [0.80594254] 1 [0.19175792] 1 [0.51068515] 1 [0.30343005] 1 [0.156988] 1 [0.30528468] 1 [0.8664594] 1 [0.61984146] 1 [0.6090226] 1 [0.23027696] 1 [0.33665028] 1 [0.93173474] 1 [0.6677429] 1 [0.660792] 1 [0.829503] 1 [0.16360942] 1 [0.9723785] 1 [0.9720638] 1 [0.592589] 1 [0.6124894] 1 [0.97202516] 1 [0.0699444] 1 [0.23962292] 1 [0.6494973] 1 [0.571019] 1 [0.7163676] 1 [0.2640337] 1 [0.6775576] 1 [0.45599535] 1 [0.8308606] 1 [0.36318928] 1 [0.5713252] 1 [0.8613223] 1 [0.8128337] 1 [0.70534575] 1 [0.54998654] 1 [0.48529154] 1 [0.4840632] 1 [0.74067044] 1 [0.39152706] 1 [0.20942204] 1 [0.88394815] 1 [0.49931312] 1 [0.6151979] 1 [0.37850705] 1 [0.9332303] 1 [0.80368125] 1 [0.71162003] 1 [0.5802038] 1 [0.38883787] 1 [0.16922438] 1 [0.58022016] 1 [0.7148427] 1 [0.42242455] 1 [0.24774125] 1 [0.6031307] 1 [0.70364785] 1 [0.21645951] 1 [0.5594212] 1 [0.86888504] 1 [0.6880556] 1 [0.5570907] 1 [0.773095] 1 [0.6268372] 1 [0.868119] 1 [0.8951619] 1 [0.84566826] 1 [0.1179631] 1 [0.40959296] 1 [0.51366484] 1 [0.55506426] 1 [0.23816599] 1 [0.11279222] 1 [0.6167497] 1 [0.68835497] 1 [0.5081244] 1 [0.6242722] 1 [0.48150042] 1 [0.5295304] 1 [0.69511807] 1 [0.85621804] 1 [0.5867815] 1 [0.32610267] 1 [0.65625006] 1 [0.6405308] 1 [0.6835942] 1 [0.40982395] 1 [0.8056717] 1 [0.79027754] 1 [0.5861322] 1 [0.56382656] 1 [0.81315804] 1 [0.40180066] 1 [0.8702115] 1 [0.5688058] 1 [0.52614826] 1 [0.1728229] 1 [0.18864626] 1 [0.9140744] 1 [0.76702625] 1 [0.78023446] 1 [0.37679648] 1 [0.40622133] 1 [0.605233] 1 [0.2630582] 1 [0.36044887] 1 [0.9037275] 1 [0.84298486] 1 [0.4493811] 1 [0.08182083] 1 [0.6788222] 1 [0.07411617] 1 [0.6338796] 1 [0.36945537] 1 [0.9099722] 1 [0.6788106] 1 [0.32647926] 1 [0.39921588] 1 [0.78262436] 1 [0.8975901] 1 [0.01643629] 1 [0.36744326] 1 [0.24410222] 1 [0.82384634] 1 [0.86725205] 1 [0.9517533] 1 [0.551831] 1 [0.5053844] 1 [0.08774129] 1 [0.5808002] 1 [0.7631302] 1 [0.9518909] 1 [0.10665878] 1 [0.42501333] 1 [0.25634554] 1 [0.8356285] 1 [0.38639536] 1 [0.2971087] 1 [0.27257076] 1 [0.4832006] 1 [0.55106103] 1 [0.8918797] 1 [0.91746277] 1 [0.9639531] 1 [0.21599159] 1 [0.72310287] 1 [0.08938477] 1 [0.04942729] 1 [0.3443136] 1 [0.5990279] 1 [0.941365] 1 [0.38530537] 1 [0.74368423] 1 [0.97218114] 1 [0.9494705] 1 [0.97220266] 1 [0.33968243] 1 [0.7613844] 1 [0.36639923] 1 [0.21483664] 1 [0.37878162] 1 [0.54373324] 1 [0.6987029] 1 [0.29706842] 1 [0.91847456] 1 [0.7661623] 1 [0.17859584] 1 [0.8283129] 1 [0.79635906] 1 [0.42915294] 1 [0.25101936] 1 [0.5723997] 1 [0.7940478] 1 [0.6482943] 1 [0.45952064] 1 [0.48582906] 1 [0.5144853] 1 [0.31124505] 1 [0.69312656] 1 [0.5235641] 1 [0.37564757] 1 [0.59696674] 1 [0.80181444] 1 [0.5433708] 1 [0.40318388] 1 [0.11727949] 1 [0.07972249] 1 [0.41214743] 1 [0.53278416] 1 [0.2028568] 1 [0.09641] 1 [0.7429734] 1 [0.44733134] 1 [0.9269883] 1 [0.84484] 1 [0.07907895] 1 [0.9101176] 1 [0.83508754] 1 [0.75500566] 1 [0.08033712] 1 [0.93367994] 1 [0.9446076] 1 [0.1872837] 1 [0.5008407] 1 [0.85907274] 1 [0.35933986] 1 [0.53429997] 1 [0.86228573] 1 [0.95618206] 1 [0.87053126] 1 [0.7544027] 1 [0.5237613] 1 [0.03335645] 1 [0.31843984] 1 [0.972264] 1 [0.84316695] 1 [0.33297095] 1 [0.7391656] 1 [0.6355423] 1 [0.90153486] 1 [0.7872538] 1 [0.8593902] 1 [0.6459311] 1 [0.77841634] 1 [0.7583344] 1 [0.20382273] 1 [0.67927486] 1 [0.92688626] 1 [0.3092503] 1 [0.24611574] 1 [0.97201896] 1 [0.5750856] 1 [0.7212339] 1 [0.6365679] 1 [0.943031] 1 [0.8095168] 1 [0.7457847] 1 [0.6586877] 1 [0.38161802] 1 [0.19543582] 1 [0.90098035] 1 [0.03755585] 1 [0.73844266] 1 [0.6895059] 1 [0.5965937] 1 [0.9056147] 1 [0.8921966] 1 [0.5452278] 1 [0.059125] 1 [0.25674015] 1 [0.9045406] 1 [0.42083216] 1 [0.499506] 1 [0.95061654] 1 [0.9423984] 1 [0.08613774] 1 [0.6085635] 1 [0.36199135] 1 [0.39209804] 1 [0.7426244] 1 [0.9397695] 1 [0.82218164] 1 [0.6561069] 1 [0.6746363] 1 [0.3642966] 1 [0.9512437] 1 [0.72809297] 1 [0.9046274] 1 [0.7757258] 1 [0.89964575] 1 [0.6961279] 1 [0.6706881] 1 [0.94389963] 1 [0.7873247] 1 [0.37022147] 1 [0.7851514] 1 [0.7956746] 1 [0.54774904] 1 [0.5245859] 1 [0.16244112] 1 [0.50788367] 1 [0.7852742] 1 [0.10179143] 1 [0.5770615] 1 [0.6695984] 1 [0.47359917] 1 [0.9325932] 1 [0.91895187] 1 [0.7365625] 1 [0.9159369] 1 [0.73299456] 1 [0.01286334] 1 [0.42517477] 1 [0.19656657] 1 [0.93783134] 1 [0.1546207] 1 [0.9227089] 1 [0.9723341] 1 [0.5424406] 1 [0.88145083] 1 [0.06306992] 1 [0.27968988] 1 [0.9721396] 1 [0.6035811] 1 [0.94558936] 1 [0.3041742] 1 [0.8339858] 1 [0.97237486] 1 [0.79785687] 1 [0.6043989] 1 [0.6496703] 1 [0.44055566] 1 [0.0828981] 1 [0.6705808] 1 [0.8729984] 1 [0.30892164] 1 [0.76689035] 1 [0.15416507] 1 [0.97114444] 1 [0.12230899] 1 [0.58539796] 1 [0.5790383] 1 [0.42365286] 1 [0.0665353] 1 [0.332132] 1 [0.7999547] 1 [0.03876562] 1 [0.91892034] 1 [0.55203056] 1 [0.73457915] 1 [0.12789889] 1 [0.4103408] 1 [0.27336156] 1 [0.86596984] 1 [0.73633176] 1 [0.43330196] 1 [0.70235974] 1 [0.9444607] 1 [0.62184215] 1 [0.5967296] 1 [0.46055713] 1 [0.5314496] 1 [0.3582439] 1 [0.3468289] 1 [0.27977931] 1 [0.67338717] 1 [0.46115282] 1 [0.5607898] 1 [0.12878102] 1 [0.56859875] 1 [0.09948162] 1 [0.30871007] 1 [0.92902213] 1 [0.71257937] 1 [0.7883879] 1 [0.8105574] 1 [0.64750695] 1 [0.17600715] 1 [0.9303158] 1 [0.04776014] 1 [0.7531789] 1 [0.7065677] 1 [0.05558428] 1 [0.1327096] 1 [0.46467265] 1 [0.5626105] 1 [0.94171566] 1 [0.5384013] 1 [0.42251527] 1 [0.7779131] 1 [0.64648664] 1 [0.4253572] 1 [0.8706926] 1 [0.86046094] 1 [0.4889198] 1 [0.94492143] 1 [0.38055578] 1 [0.9157189] 1 [0.10511901] 1 [0.37306252] 1 [0.76889133] 1 [0.53241634] 1 [0.31176555] 1 [0.48705462] 1 [0.92906326] 1 [0.2520959] 1 [0.13671534] 1 [0.7250906] 1 [0.75048137] 1 [0.6099498] 1 [0.53191626] 1 [0.94041014] 1 [0.85156584] 1 [0.81760716] 1 [0.22192399] 1 [0.31298217] 1 [0.7763985] 1 [0.94678974] 1 [0.37125725] 1 [0.59231395] 1 [0.6452008] 1 [0.666289] 1 [0.67411673] 1 [0.9718527] 1 [0.38094687] 1 [0.6213018] 1 [0.29337394] 1 [0.43027365] 1 [0.7007932] 1 [0.74666065] 1 [0.28177777] 1 [0.70322925] 1 [0.82598567] 1 [0.8553795] 1 [0.7253173] 1 [0.83997226] 1 [0.33166376] 1 [0.2531931] 1 [0.26168638] 1 [0.88137764] 1 [0.76083994] 1 [0.606007] 1 [0.0676152] 1 [0.8087744] 1 [0.6311745] 1 [0.5273937] 1 [0.67175984] 1 [0.8138243] 1 [0.8392489] 1 [0.7845325] 1 [0.78815055] 1 [0.25973967] 1 [0.15095185] 1 [0.71902823] 1 [0.6339112] 1 [0.63792396] 1 [0.9580539] 1 [0.5504171] 1 [0.94326645] 1 [0.6512822] 1 [0.28955156] 1 [0.5351127] 1 [0.8852767] 1 [0.41966456] 1 [0.7149201] 1 [0.76349765] 1 [0.8199672] 1 [0.8585849] 1 [0.7795627] 1 [0.9240182] 1 [0.32344264] 1 [0.7569961] 1 [0.68413234] 1 [0.5194742] 1 [0.26902458] 1 [0.7373397] 1 [0.8393455] 1 [0.5449437] 1 [0.92116725] 1 [0.7822001] 1 [0.6120347] 1 [0.8662533] 1 [0.9452418] 1 [0.71545595] 1 [0.74778986] 1 [0.94435245] 1 [0.93723744] 1 [0.745817] 1 [0.7596278] 1 [0.5754965] 1 [0.7032795] 1 [0.6176082] 1 [0.05927797] 1 [0.34480393] 1 [0.65904313] 1 [0.78875226] 1 [0.8332235] 1 [0.6683485] 1 [0.59109074] 1 [0.896006] 1 [0.20316547] 1 [0.81980324] 1 [0.19092864] 1 [0.4433555] 1 [0.7488844] 1 [0.8980919] 1 [0.48938116] 1 [0.7606845] 1 [0.79296136] 1 [0.891271] 1 [0.34999186] 1 [0.8716489] 1 [0.7009457] 1 [0.9333722] 1 [0.6446451] 1 [0.4385306] 1 [0.35685727] 1 [0.0156969] 1 [0.93619543] 1 [0.15273514] 1 [0.36263826] 1 [0.8710984] 1 [0.34139952] 1 [0.93986666] 1 [0.95458734] 1 [0.32004264] 1 [0.87040734] 1 [0.7644089] 1 [0.10117813] 1 [0.41300645] 1 [0.76633656] 1 [0.6337696] 1 [0.66505945] 1 [0.32070884] 1 [0.5983787] 1 [0.49388477] 1 [0.4233865] 1 [0.48659033] 1 [0.7960242] 1 [0.61205184] 1 [0.15784697] 1 [0.5968902] 1 [0.52500224] 1 [0.40430304] 1 [0.32406887] 1 [0.70802176] 1 [0.9376112] 1 [0.34081662] 1 [0.8311387] 1 [0.38068047] 1 [0.69534504] 1 [0.51969427] 1 [0.7249799] 1 [0.9559979] 1 [0.5628797] 1 [0.23174891] 1 [0.2507774] 1 [0.16347778] 1 [0.3028647] 1 [0.58300114] 1 [0.24250616] 1 [0.5439216] 1 [0.4800344] 1 [0.6557949] 1 [0.24291047] 1 [0.4928786] 1 [0.39043233] 1 [0.9630378] 1 [0.58521974] 1 [0.44962972] 1 [0.8829662] 1 [0.6910908] 1 [0.12288849] 1 [0.25500345] 1 [0.2910837] 1 [0.55567706] 1 [0.8207829] 1 [0.745522] 1 [0.66254497] 1 [0.5781744] 1 [0.42676497] 1 [0.6321538] 1 [0.44382036] 1 [0.75490755] 1 [0.4326288] 1 [0.19206716] 1 [0.4221924] 1 [0.10385021] 1 [0.7830756] 1 [0.97188437] 1 [0.87385756] 1 [0.5254824] 1 [0.6750579] 1 [0.23974027] 1 [0.97212064] 1 [0.33250037] 1 [0.70453364] 1 [0.3640581] 1 [0.8807566] 1 [0.7168941] 1 [0.8448651] 1 [0.08088993] 1 [0.2694793] 1 [0.41652265] 1 [0.09325886] 1 [0.555672] 1 [0.6055693] 1 [0.95243615] 1 [0.711141] 1 [0.02216776] 1 [0.6023602] 1 [0.49573642] 1 [0.70095974] 1 [0.69226336] 1 [0.34969145] 1 [0.8900873] 1 [0.53093046] 1 [0.35161456] 1 [0.95329416] 1 [0.46868917] 1 [0.4654995] 1 [0.6721638] 1 [0.49239576] 1 [0.8131907] 1 [0.933533] 1 [0.3372678] 1 [0.8326016] 1 [0.6498017] 1 [0.526473] 1 [0.52318907] 1 [0.8283559] 1 [0.43919626] 1 [0.09175179] 1 [0.6553374] 1 [0.73976374] 1 [0.31392974] 1 [0.78508353] 1 [0.05901203] 1 [0.61688143] 1 [0.80764997] 1 [0.9282692] 1 [0.47555858] 1 [0.97197896] 1 [0.8966431] 1 [0.50523794] 1 [0.6151462] 1 [0.14177734] 1 [0.37925428] 1 [0.7422635] 1 [0.3446535] 1 [0.38594574] 1 [0.29103738] 1 [0.8521063] 1 [0.3717821] 1 [0.7762585] 1 [0.9000254] 1 [0.9719241] 1 [0.22061452] 1 [0.77644086] 1 [0.8254906] 1 [0.63805854] 1 [0.33384863] 1 [0.11684006] 1 [0.8011237] 1 [0.84833425] 1 [0.10675935] 1 [0.44293156] 1 [0.22320233] 1 [0.89609617] 1 [0.97175926] 1 [0.6317122] 1 [0.9032854] 1 [0.19024116] 1 [0.57605064] 1 [0.25596508] 1 [0.87776715] 1 [0.08281614] 1 [0.11082435] 1 [0.68241453] 1 [0.8686868] 1 [0.9329381] 1 [0.7777768] 1 [0.8563591] 1 [0.7283561] 1 [0.12656775] 1 [0.6198669] 1 [0.8126681] 1 [0.88329095] 1 [0.94107056] 1 [0.54623854] 1 [0.8157587] 1 [0.4247328] 1 [0.9354398] 1 [0.53567094] 1 [0.919885] 1 [0.46298376] 1 [0.8030226] 1 [0.76985806] 1 [0.7556256] 1 [0.22876815] 1 [0.9195109] 1 [0.06751875] 1 [0.21406527] 1 [0.7115061] 1 [0.7667863] 1 [0.48160166] 1 [0.5533322] 1 [0.8620399] 1 [0.86424184] 1 [0.5006096] 1 [0.7147132] 1 [0.6696566] 1 [0.5971271] 1 [0.81245184] 1 [0.88933426] 1 [0.7805778] 1 [0.6521462] 1 [0.6094077] 1 [0.6958953] 1 [0.60624295] 1 [0.63300055] 1 [0.5688555] 1 [0.08833674] 1 [0.39815575] 1 [0.5336662] 1 [0.95780945] 1 [0.34557554] 1 [0.5141262] 1 [0.66180617] 1 [0.85491145] 1 [0.5407236] 1 [0.946073] 1 [0.4209829] 1 [0.5493583] 1 [0.32176694] 1 [0.94710785] 1 [0.95313025] 1 [0.62961495] 1 [0.68731] 1 [0.24637403] 1 [0.855544] 1 [0.4757885] 1 [0.9577322] 1 [0.46167547] 1 [0.3791914] 1 [0.9007167] 1 [0.82225585] 1 [0.68751645] 1 [0.72337425] 1 [0.9599582] 1 [0.34667444] 1 [0.54521745] 1 [0.6712718] 1 [0.6362922] 1 [0.6291135] 1 [0.47396287] 1 [0.10107382] 1 [0.5531712] 1 [0.8474894] 1 [0.49385867] 1 [0.88834876] 1 [0.14365922] 1 [0.86863303] 1 [0.597549] 1 [0.52194995] 1 [0.9642058] 1 [0.06647357] 1 [0.5416111] 1 [0.8598684] 1 [0.64435816] 1 [0.09378991] 1 [0.89189786] 1 [0.94665176] 1 [0.93750256] 1 [0.36650664] 1 [0.85116386] 1 [0.49170965] 1 [0.06242787] 1 [0.94685394] 1 [0.40433198] 1 [0.4063508] 1 [0.16676602] 1 [0.8149038] 1 [0.82433707] 1 [0.7042753] 1 [0.2924427] 1 [0.11012853] 1 [0.22880514] 1 [0.61531734] 1 [0.8871194] 1 [0.26653758] 1 [0.87233275] 1 [0.6991766] 1 [0.41699058] 1 [0.23361479] 1 [0.61750376] 1 [0.409131] 1 [0.7253328] 1 [0.68816257] 1 [0.0776055] 1 [0.81023115] 1 [0.46421307] 1 [0.8003361] 1 [0.12820679] 1 [0.8737917] 1 [0.91606474] 1 [0.436206] 1 [0.7628909] 1 [0.9516172] 1 [0.30069837] 1 [0.58844095] 1 [0.8879866] 1 [0.7614354] 1 [0.62723744] 1 [0.21490344] 1 [0.9280614] 1 [0.7487321] 1 [0.7393546] 1 [0.6708089] 1 [0.7499496] 1 [0.5016573] 1 [0.7532166] 1 [0.26266098] 1 [0.8313237] 1 [0.038358] 1 [0.651719] 1 [0.50828475] 1 [0.9720133] 1 [0.84501386] 1 [0.85479975] 1 [0.22271298] 1 [0.3480255] 1 [0.18946786] 1 [0.4440932] 1 [0.5854813] 1 [0.840791] 1 [0.890496] 1 [0.420188] 1 [0.3903339] 1 [0.95800906] 1 [0.45290858] 1 [0.03624374] 1 [0.698862] 1 [0.24814813] 1 [0.9122775] 1 [0.80024993] 1 [0.5719447] 1 [0.6898098] 1 [0.7590504] 1 [0.7771236] 1 [0.8501458] 1 [0.28256246] 1 [0.79199046] 1 [0.61052763] 1 [0.684774] 1 [0.44418123] 1 [0.8867264] 1 [0.6110461] 1 [0.742359] 1 [0.9364742] 1 [0.4135498] 1 [0.7830219] 1 [0.274393] 1 [0.3305304] 1 [0.6768129] 1 [0.22657952] 1 [0.7278936] 1 [0.7091249] 1 [0.60579467] 1 [0.764656] 1 [0.7127237] 1 [0.28417337] 1 [0.2721792] 1 [0.8540835] 1 [0.18949114] 1 [0.7286495] 1 [0.55269396] 1 [0.8948892] 1 [0.29662028] 1 [0.7495148] 1 [0.6305203] 1 [0.8316531] 1 [0.57821524] 1 [0.62553406] 1 [0.86763346] 1 [0.6095379] 1 [0.22183596] 1 [0.97226894] 1 [0.4238995] 1 [0.09348014] 1 [0.36509022] 1 [0.5632662] 1 [0.7697491] 1 [0.97216684] 1 [0.7202397] 1 [0.37384325] 1 [0.7217763] 1 [0.2784723] 1 [0.52966946] 1 [0.5772373] 1 [0.41123578] 1 [0.5608252] 1 [0.03928496] 1 [0.630088] 1 [0.47976288] 1 [0.31365407] 1 [0.72191155] 1 [0.71632457] 1 [0.4891474] 1 [0.61875826] 1 [0.650691] 1 [0.6910411] 1 [0.10163334] 1 [0.8022551] 1 [0.57349783] 1 [0.449977] 1 [0.11164767] 1 [0.8291635] 1 [0.6474508] 1 [0.4781935] 1 [0.92731494] 1 [0.9230779] 1 [0.20110717] 1 [0.5817488] 1 [0.06678248] 1 [0.27895164] 1 [0.6657637] 1 [0.9464651] 1 [0.3624927] 1 [0.78825897] 1 [0.23818886] 1 [0.13050863] 1 [0.5343561] 1 [0.8520287] 1 [0.82042223] 1 [0.7128488] 1 [0.7313892] 1 [0.741043] 1 [0.80230963] 1 [0.33912504] 1 [0.5565809] 1 [0.8354991] 1 [0.936623] 1 [0.35035127] 1 [0.6797411] 1 [0.20081723] 1 [0.97240067] 1 [0.10777348] 1 [0.43134004] 1 [0.73792773] 1 [0.9025549] 1 [0.8835466] 1 [0.7853668] 1 [0.7430493] 1 [0.68001556] 1 [0.30492175] 1 [0.6652096] 1 [0.4656868] 1 [0.88064367] 1 [0.5556618] 1 [0.26720318] 1 [0.6863748] 1 [0.3234671] 1 [0.8145844] 1 [0.656768] 1 [0.1781183] 1 [0.36418417] 1 [0.8158818] 1 [0.9388456] 1 [0.7014701] 1 [0.6620186] 1 [0.51083267] 1 [0.9118417] 1 [0.69185054] 1 [0.921875] 1 [0.582715] 1 [0.22083536] 1 [0.37414226] 1 [0.4718034] 1 [0.34883684] 1 [0.9720277] 1 [0.45103064] 1 [0.4258195] 1 [0.62139475] 1 [0.93640155] 1 [0.62199837] 1 [0.37951395] 1 [0.7946727] 1 [0.6650838] 1 [0.7159803] 1 [0.66239274] 1 [0.23056121] 1 [0.4544295] 1 [0.2942945] 1 [0.48697257] 1 [0.21134548] 1 [0.3334966] 1 [0.5236457] 1 [0.7665358] 1 [0.90981686] 1 [0.5549873] 1 [0.8321135] 1 [0.24456874] 1 [0.60113895] 1 [0.1055833] 1 [0.5762662] 1 [0.86924654] 1 [0.04712295] 1 [0.6188157] 1 [0.12298626] 1 [0.79695666] 1 [0.96682334] 1 [0.6950973] 1 [0.09296012] 1 [0.85545385] 1 [0.72732496] 1 [0.7830785] 1 [0.6677409] 1 [0.8757941] 1 [0.16621105] 1 [0.3846336] 1 [0.66109455] 1 [0.3967874] 1 [0.68026453] 1 [0.53627205] 1 [0.78044295] 1 [0.9464034] 1 [0.6947367] 1 [0.8202718] 1 [0.29576936] 1 [0.91043514] 1 [0.5178877] 1 [0.91636074] 1 [0.8323699] 1 [0.46915868] 1 [0.8220023] 1 [0.36704215] 1 [0.63903904] 1 [0.5982756] 1 [0.69410735] 1 [0.7949367] 1 [0.4054579] 1 [0.48684487] 1 [0.9201399] 1 [0.6730507] 1 [0.2965776] 1 [0.41896266] 1 [0.66927356] 1 [0.9569724] 1 [0.37126285] 1 [0.26596493] 1 [0.7729776] 1 [0.07063842] 1 [0.8303889] 1 [0.4266994] 1 [0.22767965] 1 [0.68701094] 1 [0.92563206] 1 [0.09366574] 1 [0.869699] 1 [0.87634104] 1 [0.5214088] 1 [0.38620657] 1 [0.8236549] 1 [0.1591819] 1 [0.53547984] 1 [0.9486902] 1 [0.43674144] 1 [0.74925524] 1 [0.12857838] 1 [0.5731057] 1 [0.72864485] 1 [0.6728229] 1 [0.86869556] 1 [0.9333962] 1 [0.8100029] 1 [0.97213924] 1 [0.6123039] 1 [0.46598998] 1 [0.5313416] 1 [0.8742521] 1 [0.9302259] 1 [0.16965814] 1 [0.8629787] 1 [0.85168004] 1 [0.46682125] 1 [0.34666258] 1 [0.75117224] 1 [0.7003688] 1 [0.2189184] 1 [0.901916] 1 [0.7876606] 1 [0.84857684] 1 [0.396238] 1 [0.22900568] 1 [0.9335679] 1 [0.95576674] 1 [0.4418853] 1 [0.26743257] 1 [0.74499935] 1 [0.70414716] 1 [0.37947693] 1 [0.9506565] 1 [0.02639072] 1 [0.20844392] 1 [0.7101626] 1 [0.75648886] 1 [0.7001711] 1 [0.30064097] 1 [0.7723903] 1 [0.23061897] 1 [0.27846104] 1 [0.34945422] 1 [0.6083668] 1 [0.03171676] 1 [0.7440873] 1 [0.67769015] 1 [0.37775162] 1 [0.3669307] 1 [0.57442796] 1 [0.52373207] 1 [0.288666] 1 [0.06867886] 1 [0.5690429] 1 [0.6209356] 1 [0.9140025] 1 [0.74887663] 1 [0.43720296] 1 [0.9016872] 1 [0.47747025] 1 [0.7311993] 1 [0.90388685] 1 [0.6086637] 1 [0.5448037] 1 [0.74929315] 1 [0.18372421] 1 [0.641725] 1 [0.9430593] 1 [0.13960853] 1 [0.65933675] 1 [0.3471327] 1 [0.31614944] 1 [0.2591419] 1 [0.4687971] 1 [0.74996346] 1 [0.97194076] 1 [0.14490826] 1 [0.5385709] 1 [0.21424095] 1 [0.13543083] 1 [0.545287] 1 [0.6252459] 1 [0.7053653] 1 [0.9725146] 1 [0.57232755] 1 [0.83044505] 1 [0.8102449] 1 [0.5812329] 1 [0.21650672] 1 [0.7443894] 1 [0.7645445] 1 [0.52443546] 1 [0.07618493] 1 [0.41709724] 1 [0.91126114] 1 [0.4810454] 1 [0.7128852] 1 [0.62966067] 1 [0.9028095] 1 [0.9073457] 1 [0.886551] 1 [0.03519976] 1 [0.9335606] 1 [0.616798] 1 [0.56283534] 1 [0.25830576] 1 [0.71787685] 1 [0.5512561] 1 [0.47983983] 1 [0.7117244] 1 [0.29765853] 1 [0.40333363] 1 [0.6837597] 1 [0.3275304] 1 [0.4681657] 1 [0.781959] 1 [0.29057118] 1 [0.33642447] 1 [0.7639844] 1 [0.33759812] 1 [0.47891992] 1 [0.9724964] 1 [0.7365077] 1 [0.82067513] 1 [0.33976012] 1 [0.47153628] 1 [0.76613367] 1 [0.34928986] 1 [0.5968424] 1 [0.7380029] 1 [0.32479525] 1 [0.7619743] 1 [0.4235167] 1 [0.8010123] 1 [0.9528458] 1 [0.9007933] 1 [0.8920572] 1 [0.28276575] 1 [0.55730885] 1 [0.4733184] 1 [0.73252547] 1 [0.2746504] 1 [0.62518805] 1 [0.29046786] 1 [0.61693656] 1 [0.78704906] 1 [0.15983433] 1 [0.9471475] 1 [0.6746024] 1 [0.9448025] 1 [0.5271974] 1 [0.3467527] 1 [0.38201195] 1 [0.13483398] 1 [0.82464814] 1 [0.9723583] 1 [0.7857283] 1 [0.7753926] 1 [0.5026438] 1 [0.8408036] 1 [0.4939594] 1 [0.9262224] 1 [0.17170551] 1 [0.69167364] 1 [0.07970681] 1 [0.33741087] 1 [0.93435776] 1 [0.5499226] 1 [0.7220473] 1 [0.6047038] 1 [0.3569539] 1 [0.6448828] 1 [0.7219034] 1 [0.85479593] 1 [0.922499] 1 [0.7800968] 1 [0.32379025] 1 [0.8117767] 1 [0.3024702] 1 [0.22483186] 1 [0.42372537] 1 [0.05505127] 1 [0.4637831] 1 [0.6120453] 1 [0.5989105] 1 [0.9717581] 1 [0.5216228] 1 [0.8213255] 1 [0.4444161] 1 [0.9481353] 1 [0.8506582] 1 [0.5328326] 1 [0.92130375] 1 [0.70977384] 1 [0.3546156] 1 [0.53791153] 1 [0.34622827] 1 [0.08972562] 1 [0.7864124] 1 [0.27815127] 1 [0.30553883] 1 [0.6179579] 1 [0.8768651] 1 [0.37122723] 1 [0.6353943] 1 [0.5591079] 1 [0.4455398] 1 [0.66607237] 1 [0.12998623] 1 [0.22095743] 1 [0.67393047] 1 [0.55599636] 1 [0.8371044] 1 [0.6528246] 1 [0.85727376] 1 [0.4794419] 1 [0.766674] 1 [0.6349806] 1 [0.07281119] 1 [0.42660582] 1 [0.08386455] 1 [0.20177111] 1 [0.41738757] 1 [0.62266725] 1 [0.88310677] 1 [0.7182031] 1 [0.6299905] 1 [0.49994093] 1 [0.8632592] 1 [0.5340935] 1 [0.5291811] 1 [0.84729564] 1 [0.46234518] 1 [0.8731245] 1 [0.63815165] 1 [0.41152477] 1 [0.43882865] 1 [0.32158944] 1 [0.26270935] 1 [0.35182768] 1 [0.9720733] 1 [0.75938] 1 [0.4177921] 1 [0.5684366] 1 [0.06765262] 1 [0.34908444] 1 [0.6742868] 1 [0.79152554] 1 [0.7435075] 1 [0.4219642] 1 [0.8109996] 1 [0.5953283] 1 [0.53985703] 1 [0.63695073] 1 [0.65859735] 1 [0.03105748] 1 [0.7208298] 1 [0.9585015] 1 [0.3195962] 1 [0.34817484] 1 [0.5378782] 1 [0.45486394] 1 [0.0461473] 1 [0.39497504] 1 [0.3192254] 1 [0.5273907] 1 [0.3838589] 1 [0.3274109] 1 [0.81732327] 1 [0.8205826] 1 [0.5788037] 1 [0.8117889] 1 [0.08068017] 1 [0.8445699] 1 [0.927843] 1 [0.6974453] 1 [0.9604177] 1 [0.46419126] 1 [0.8053069] 1 [0.9601117] 1 [0.57072645] 1 [0.46658933] 1 [0.0502001] 1 [0.8606424] 1 [0.86588764] 1 [0.62630576] 1 [0.41903013] 1 [0.5964041] 1 [0.580223] 1 [0.6934139] 1 [0.6553214] 1 [0.36809576] 1 [0.5979488] 1 [0.6293341] 1 [0.36735278] 1 [0.6301529] 1 [0.24488649] 1 [0.6544331] 1 [0.25926423] 1 [0.90110296] 1 [0.618446] 1 [0.75394666] 1 [0.31573054] 1 [0.3203375] 1 [0.41410902] 1 [0.9565506] 1 [0.54356146] 1 [0.7867014] 1 [0.67425674] 1 [0.77447677] 1 [0.58945674] 1 [0.22466148] 1 [0.636076] 1 [0.518171] 1 [0.14313106] 1 [0.36047894] 1 [0.1027034] 1 [0.9351099] 1 [0.16173042] 1 [0.35954458] 1 [0.23946524] 1 [0.6311211] 1 [0.50621676] 1 [0.13135274] 1 [0.55573004] 1 [0.41230163] 1 [0.45224887] 1 [0.9582053] 1 [0.30775845] 1 [0.0273126] 1 [0.44616476] 1 [0.93438554] 1 [0.5243956] 1 [0.14437172] 1 [0.59566736] 1 [0.9193609] 1 [0.19025093] 1 [0.47040635] 1 [0.44134554] 1 [0.40120298] 1 [0.13448632] 1 [0.601238] 1 [0.51666576] 1 [0.58477664] 1 [0.60019606] 1 [0.95009893] 1 [0.9087713] 1 [0.8250126] 1 [0.52936536] 1 [0.65179104] 1 [0.86219907] 1 [0.37167722] 1 [0.5574055] 1 [0.8826576] 1 [0.4692614] 1 [0.89975584] 1 [0.0822904] 1 [0.6808174] 1 [0.41568837] 1 [0.85169846] 1 [0.53434163] 1 [0.2737103] 1 [0.51909715] 1 [0.56337297] 1 [0.9467628] 1 [0.66182303] 1 [0.95717686] 1 [0.72415346] 1 [0.46511844] 1 [0.9276061] 1 [0.5775284] 1 [0.72274315] 1 [0.7889701] 1 [0.9045786] 1 [0.62483484] 1 [0.85701436] 1 [0.9076343] 1 [0.77393365] 1 [0.3849817] 1 [0.28370303] 1 [0.58424246] 1 [0.4283089] 1 [0.19031855] 1 [0.55027646] 1 [0.22920918] 1 [0.86190504] 1 [0.7867863] 1 [0.6468994] 1 [0.61310613] 1 [0.24906373] 1 [0.8311774] 1 [0.15187049] 1 [0.710053] 1 [0.35441473] 1 [0.48786935] 1 [0.7210729] 1 [0.92163587] 1 [0.5263259] 1 [0.8096386] 1 [0.01103235] 1 [0.28643692] 1 [0.63924396] 1 [0.9521734] 1 [0.64342755] 1 [0.9148396] 1 [0.8650286] 1 [0.95343953] 1 [0.74448645] 1 [0.18604825] 1 [0.6047221] 1 [0.38498256] 1 [0.6838602] 1 [0.13189425] 1 [0.6472819] 1 [0.44670096] 1 [0.7514077] 1 [0.37485397] 1 [0.5964829] 1 [0.9618985] 1 [0.7228094] 1 [0.7209225] 1 [0.5800923] 1 [0.6181812] 1 [0.39789242] 1 [0.80039] 1 [0.461115] 1 [0.85442084] 1 [0.734919] 1 [0.5962321] 1 [0.30487674] 1 [0.8686989] 1 [0.4316354] 1 [0.63063526] 1 [0.58048826] 1 [0.42995703] 1 [0.920826] 1 [0.82177633] 1 [0.38979563] 1 [0.7900129] 1 [0.8173356] 1 [0.34780228] 1 [0.71037763] 1 [0.5169181] 1 [0.93161404] 1 [0.29228222] 1 [0.19821694] 1 [0.7431344] 1 [0.310195] 1 [0.7818078] 1 [0.91769826] 1 [0.4915859] 1 [0.9530443] 1 [0.31756303] 1 [0.77608997] 1 [0.65044224] 1 [0.86445194] 1 [0.73710763] 1 [0.82085687] 1 [0.95335317] 1 [0.6123932] 1 [0.97222835] 1 [0.90166986] 1 [0.90144974] 1 [0.43621984] 1 [0.50819886] 1 [0.7886709] 1 [0.34779137] 1 [0.0992861] 1 [0.6507671] 1 [0.84863913] 1 [0.7657494] 1 [0.33171016] 1 [0.34795362] 1 [0.5957691] 1 [0.45446754] 1 [0.8461522] 1 [0.3556755] 1 [0.8585053] 1 [0.77674437] 1 [0.30920908] 1 [0.8010769] 1 [0.2046752] 1 [0.8757618] 1 [0.69400454] 1 [0.44584185] 1 [0.8619922] 1 [0.26782417] 1 [0.05145999] 1 [0.76109624] 1 [0.6811756] 1 [0.4107604] 1 [0.79859275] 1 [0.16120511] 1 [0.8465354] 1 [0.8144819] 1 [0.7008354] 1 [0.9546261] 1 [0.7595602] 1 [0.27685657] 1 [0.51039344] 1 [0.5091006] 1 [0.68297213] 1 [0.6725445] 1 [0.95681536] 1 [0.19193482] 1 [0.573351] 1 [0.5027774] 1 [0.97192717] 1 [0.36469308] 1 [0.97204775] 1 [0.59470916] 1 [0.5901893] 1 [0.22963072] 1 [0.6880705] 1 [0.84468305] 1 [0.09547082] 1 [0.87127864] 1 [0.5085243] 1 [0.26940063] 1 [0.39033547] 1 [0.3159143] 1 [0.5112577] 1 [0.7785602] 1 [0.30432016] 1 [0.2816387] 1 [0.86593765] 1 [0.6621317] 1 [0.5725472] 1 [0.9506915] 1 [0.48906332] 1 [0.76071155] 1 [0.34689945] 1 [0.35680178] 1 [0.6233326] 1 [0.79087347] 1 [0.09749983] 1 [0.49034554] 1 [0.2072897] 1 [0.76795214] 1 [0.27245113] 1 [0.4550557] 1 [0.77460426] 1 [0.40441084] 1 [0.8973894] 1 [0.9573941] 1 [0.52796197] 1 [0.58067536] 1 [0.45659018] 1 [0.682718] 1 [0.5158901] 1 [0.588262] 1 [0.9263143] 1 [0.56729835] 1 [0.802868] 1 [0.8018765] 1 [0.3827957] 1 [0.5403659] 1 [0.87944573] 1 [0.43916187] 1 [0.13589068] 1 [0.27616018] 1 [0.25671875] 1 [0.8613995] 1 [0.9260783] 1 [0.42129627] 1 [0.8408909] 1 [0.48734993] 1 [0.4931062] 1 [0.3995372] 1 [0.32318133] 1 [0.5400359] 1 [0.16652644] 1 [0.9174418] 1 [0.60026705] 1 [0.3535707] 1 [0.05297064] 1 [0.5188824] 1 [0.65196276] 1 [0.77739596] 1 [0.65884465] 1 [0.97149086] 1 [0.29333138] 1 [0.66680706] 1 [0.2791191] 1 [0.44988462] 1 [0.15013738] 1 [0.42380056] 1 [0.77415675] 1 [0.6644389] 1 [0.2579387] 1 [0.49203146] 1 [0.92208433] 1 [0.5316263] 1 [0.6795056] 1 [0.25871122] 1 [0.627596] 1 [0.5210107] 1 [0.26523525] 1 [0.3982768] 1 [0.8841439] 1 [0.12038448] 1 [0.37204537] 1 [0.7980129] 1 [0.37794197] 1 [0.46762922] 1 [0.8123374] 1 [0.4527824] 1 [0.49471995] 1 [0.41884068] 1 [0.24840988] 1 [0.12937042] 1 [0.24326731] 1 [0.6268283] 1 [0.8381161] 1 [0.20504966] 1 [0.80316955] 1 [0.5313278] 1 [0.87675244] 1 [0.6165407] 1 [0.44257364] 1 [0.9721982] 1 [0.17064118] 1 [0.9574161] 1 [0.8002652] 1 [0.7825984] 1 [0.8266223] 1 [0.90881264] 1 [0.7498928] 1 [0.9602874] 1 [0.95630693] 1 [0.4546934] 1 [0.8150256] 1 [0.3176154] 1 [0.84757113] 1 [0.8713087] 1 [0.6384857] 1 [0.724397] 1 [0.7855262] 1 [0.7922662] 1 [0.78692836] 1 [0.8373094] 1 [0.46694848] 1 [0.9026605] 1 [0.4682025] 1 [0.15926982] 1 [0.0882651] 1 [0.8452605] 1 [0.6194414] 1 [0.14647745] 1 [0.06306813] 1 [0.22563326] 1 [0.6154984] 1 [0.8315451] 1 [0.15352501] 1 [0.3646254] 1 [0.00792871] 1 [0.5173274] 1 [0.8557949] 1 [0.52402] 1 [0.5715622] 1 [0.22607817] 1 [0.8688609] 1 [0.3306445] 1 [0.6185508] 1 [0.54410195] 1 [0.7745531] 1 [0.47362685] 1 [0.72818285] 1 [0.29702964] 1 [0.29951105] 1 [0.7526308] 1 [0.18249431] 1 [0.8843991] 1 [0.8189429] 1 [0.9275014] 1 [0.6937155] 1 [0.81329393] 1 [0.94264793] 1 [0.630461] 1 [0.90508205] 1 [0.56495774] 1 [0.17770177] 1 [0.7171102] 1 [0.24746004] 1 [0.7500711] 1 [0.7857521] 1 [0.96030223] 1 [0.28973377] 1 [0.9723316] 1 [0.224898] 1 [0.71766216] 1 [0.80210716] 1 [0.8420857] 1 [0.31716752] 1 [0.31857592] 1 [0.2922988] 1 [0.4662216] 1 [0.73701066] 1 [0.22741228] 1 [0.45595342] 1 [0.5722429] 1 [0.20370896] 1 [0.97245324] 1 [0.1224077] 1 [0.83906233] 1 [0.75858045] 1 [0.5161062] 1 [0.7399717] 1 [0.55172384] 1 [0.54534405] 1 [0.97253394] 1 [0.41727427] 1 [0.9299396] 1 [0.30210888] 1 [0.8694192] 1 [0.6633674] 1 [0.7935663] 1 [0.24124204] 1 [0.67589384] 1 [0.6803014] 1 [0.7095542] 1 [0.7340847] 1 [0.8538767] 1 [0.9322007] 1 [0.97217596] 1 [0.7558021] 1 [0.7804833] 1 [0.67238283] 1 [0.16766691] 1 [0.5679346] 1 [0.92568] 1 [0.38323218] 1 [0.33269805] 1 [0.95377386] 1 [0.8027924] 1 [0.63767517] 1 [0.6429525] 1 [0.44056544] 1 [0.7259261] 1 [0.57532674] 1 [0.6525851] 1 [0.70389795] 1 [0.27941164] 1 [0.71422714] 1 [0.32441] 1 [0.38462153] 1 [0.9531467] 1 [0.94882226] 1 [0.6802855] 1 [0.66627103] 1 [0.35078073] 1 [0.8227457] 1 [0.87292486] 1 [0.8684418] 1 [0.7854044] 1 [0.23827869] 1 [0.11486354] 1 [0.36600164] 1 [0.08706627] 1 [0.5338486] 1 [0.8106635] 1 [0.8899537] 1 [0.3017915] 1 [0.51612914] 1 [0.17791186] 1 [0.63787204] 1 [0.80805874] 1 [0.7188709] 1 [0.21480408] 1 [0.93524116] 1 [0.4759592] 1 [0.8390087] 1 [0.63645846] 1 [0.75471777] 1 [0.65137327] 1 [0.67727584] 1 [0.5050102] 1 [0.8982696] 1 [0.68793106] 1 [0.8694723] 1 [0.8284935] 1 [0.46110025] 1 [0.530455] 1 [0.48864064] 1 [0.15441433] 1 [0.91372484] 1 [0.36192194] 1 [0.62932444] 1 [0.40957463] 1 [0.4350908] 1 [0.8499003] 1 [0.56754375] 1 [0.7992269] 1 [0.62183845] 1 [0.28493997] 1 [0.56327736] 1 [0.972471] 1 [0.8148794] 1 [0.36051175] 1 [0.65315] 1 [0.88431203] 1 [0.8781882] 1 [0.67833173] 1 [0.5013894] 1 [0.32277685] 1 [0.25771853] 1 [0.9648849] 1 [0.41243532] 1 [0.8266469] 1 [0.87386906] 1 [0.4359902] 1 [0.67857873] 1 [0.59442216] 1 [0.618188] 1 [0.87869096] 1 [0.78923] 1 [0.8874233] 1 [0.19137017] 1 [0.9720828] 1 [0.42547858] 1 [0.23710398] 1 [0.24402176] 1 [0.23184012] 1 [0.1985092] 1 [0.9065204] 1 [0.1119838] 1 [0.9720675] 1 [0.44461218] 1 [0.9565809] 1 [0.70366776] 1 [0.3725623] 1 [0.10871331] 1 [0.95455694] 1 [0.45908737] 1 [0.04606972] 1 [0.86281276] 1 [0.54682934] 1 [0.7167649] 1 [0.80776346] 1 [0.7368663] 1 [0.05874155] 1 [0.45557964] 1 [0.5042726] 1 [0.8645211] 1 [0.9213654] 1 [0.74766314] 1 [0.7491312] 1 [0.20277461] 1 [0.7962263] 1 [0.8549055] 1 [0.79193395] 1 [0.72029775] 1 [0.36005345] 1 [0.5624749] 1 [0.733475] 1 [0.4551607] 1 [0.6290384] 1 [0.7191734] 1 [0.7044834] 1 [0.18856317] 1 [0.43729687] 1 [0.78247815] 1 [0.5017642] 1 [0.44219318] 1 [0.48787934] 1 [0.72570163] 1 [0.6483285] 1 [0.56553847] 1 [0.8508158] 1 [0.53397226] 1 [0.65978813] 1 [0.57640904] 1 [0.60917157] 1 [0.7717113] 1 [0.1502201] 1 [0.43248898] 1 [0.2894773] 1 [0.80311096] 1 [0.19714354] 1 [0.8685719] 1 [0.7576108] 1 [0.25261733] 1 [0.43767855] 1 [0.6954433] 1 [0.7123867] 1 [0.37914577] 1 [0.70906895] 1 [0.45084307] 1 [0.47217223] 1 [0.48346874] 1 [0.72780377] 1 [0.9721397] 1 [0.50456756] 1 [0.6711656] 1 [0.4572823] 1 [0.79148746] 1 [0.19726934] 1 [0.4459702] 1 [0.44597474] 1 [0.43695042] 1 [0.26821792] 1 [0.75171065] 1 [0.8112058] 1 [0.33072662] 1 [0.10331525] 1 [0.8031873] 1 [0.7474282] 1 [0.10972601] 1 [0.5646876] 1 [0.8936997] 1 [0.34654847] 1 [0.32966113] 1 [0.59001577] 1 [0.6957384] 1 [0.41544902] 1 [0.97190845] 1 [0.35227957] 1 [0.24172172] 1 [0.46616492] 1 [0.972147] 1 [0.7552891] 1 [0.5225138] 1 [0.7959465] 1 [0.6924424] 1 [0.9324461] 1 [0.44238952] 1 [0.43120363] 1 [0.31338492] 1 [0.86988807] 1 [0.6585816] 1 [0.4762982] 1 [0.59002954] 1 [0.735597] 1 [0.2987147] 1 [0.5802937] 1 [0.6633136] 1 [0.8204524] 1 [0.9487808] 1 [0.5988373] 1 [0.7939329] 1 [0.3383262] 1 [0.95208776] 1 [0.2751088] 1 [0.53676915] 1 [0.69031084] 1 [0.6905554] 1 [0.8057824] 1 [0.812661] 1 [0.14149317] 1 [0.5871631] 1 [0.596891] 1 [0.20799644] 1 [0.8020651] 1 [0.3848606] 1 [0.7344898] 1 [0.21003896] 1 [0.02648339] 1 [0.92451304] 1 [0.8008557] 1 [0.7514908] 1 [0.2701275] 1 [0.36882618] 1 [0.22957967] 1 [0.3147039] 1 [0.941809] 1 [0.95611787] 1 [0.4318728] 1 [0.70448196] 1 [0.43992177] 1 [0.7568893] 1 [0.5362531] 1 [0.61391354] 1 [0.22957096] 1 [0.6743809] 1 [0.86062694] 1 [0.49945104] 1 [0.49728647] 1 [0.41314465] 1 [0.35867277] 1 [0.6367395] 1 [0.72446376] 1 [0.22815701] 1 [0.10687917] 1 [0.3699802] 1 [0.16007052] 1 [0.34420952] 1 [0.8796478] 1 [0.25430858] 1 [0.72864044] 1 [0.84125906] 1 [0.5265256] 1 [0.48874193] 1 [0.77884156] 1 [0.07013161] 1 [0.35371858] 1 [0.68648624] 1 [0.14842848] 1 [0.3860974] 1 [0.6945086] 1 [0.22537635] 1 [0.83438605] 1 [0.8851463] 1 [0.9402067] 1 [0.8762946] 1 [0.5521499] 1 [0.79791135] 1 [0.5594611] 1 [0.16318029] 1 [0.7275387] 1 [0.60801816] 1 [0.68952954] 1 [0.6503168] 1 [0.7305919] 1 [0.58224005] 1 [0.03987234] 1 [0.32731682] 1 [0.66321045] 1 [0.8006501] 1 [0.8260729] 1 [0.9725441] 1 [0.38599733] 1 [0.90729773] 1 [0.40483063] 1 [0.5412853] 1 [0.8691768] 1 [0.6657304] 1 [0.3089903] 1 [0.71253544] 1 [0.39036673] 1 [0.80793715] 1 [0.88039255] 1 [0.30694202] 1 [0.4778763] 1 [0.9508953] 1 [0.5637878] 1 [0.09468668] 1 [0.66863054] 1 [0.63959116] 1 [0.54039985] 1 [0.49050575] 1 [0.5376094] 1 [0.6952444] 1 [0.17567039] 1 [0.7823603] 1 [0.56993145] 1 [0.47174153] 1 [0.6701586] 1 [0.36876503] 1 [0.681397] 1 [0.15621623] 1 [0.92126155] 1 [0.03156123] 1 [0.9461524] 1 [0.8621446] 1 [0.95671326] 1 [0.87197965] 1 [0.32394242] 1 [0.7323761] 1 [0.2850995] 1 [0.4729325] 1 [0.19165753] 1 [0.22007585] 1 [0.49324906] 1 [0.52040124] 1 [0.13042358] 1 [0.40121633] 1 [0.97154117] 1 [0.8148274] 1 [0.6463691] 1 [0.36961553] 1 [0.53887993] 1 [0.25985754] 1 [0.81713694] 1 [0.8778378] 1 [0.0557089] 1 [0.6897512] 1 [0.7064269] 1 [0.76379347] 1 [0.1416937] 1 [0.9718124] 1 [0.9723742] 1 [0.7289238] 1 [0.34699383] 1 [0.1541568] 1 [0.2509499] 1 [0.945822] 1 [0.36440814] 1 [0.45692146] 1 [0.2415486] 1 [0.34972337] 1 [0.82312423] 1 [0.70996076] 1 [0.4780714] 1 [0.83519065] 1 [0.85330284] 1 [0.77357787] 1 [0.9718645] 1 [0.23356754] 1 [0.6032084] 1 [0.62752193] 1 [0.15771261] 1 [0.40259057] 1 [0.18436891] 1 [0.46211636] 1 [0.9718973] 1 [0.43922517] 1 [0.6776472] 1 [0.9359265] 1 [0.6002787] 1 [0.31995797] 1 [0.82597995] 1 [0.88799703] 1 [0.71090347] 1 [0.8919521] 1 [0.23248646] 1 [0.91458696] 1 [0.7761368] 1 [0.6730721] 1 [0.93746686] 1 [0.8620958] 1 [0.03548884] 1 [0.4169635] 1 [0.5684456] 1 [0.28478044] 1 [0.9258882] 1 [0.86853915] 1 [0.6241191] 1 [0.7047695] 1 [0.61756927] 1 [0.75225896] 1 [0.3458139] 1 [0.23109138] 1 [0.4586119] 1 [0.2134051] 1 [0.51680934] 1 [0.1788223] 1 [0.65847063] 1 [0.42414922] 1 [0.15326539] 1 [0.30421287] 1 [0.66321266] 1 [0.2715155] 1 [0.9088505] 1 [0.4746399] 1 [0.8501524] 1 [0.53615856] 1 [0.24106686] 1 [0.94765246] 1 [0.23435275] 1 [0.2625388] 1 [0.52625] 1 [0.5897303] 1 [0.57287693] 1 [0.35703903] 1 [0.47513503] 1 [0.26582292] 1 [0.44051152] 1 [0.36388913] 1 [0.89831036] 1 [0.18540557] 1 [0.9721771] 1 [0.34169573] 1 [0.5350099] 1 [0.30074862] 1 [0.32989362] 1 [0.8329978] 1 [0.4542336] 1 [0.8335905] 1 [0.6374644] 1 [0.18716507] 1 [0.6105888] 1 [0.6339738] 1 [0.9723449] 1 [0.84818715] 1 [0.5694614] 1 [0.07124229] 1 [0.19398926] 1 [0.01533113] 1 [0.6215888] 1 [0.6907217] 1 [0.40372664] 1 [0.62934905] 1 [0.04269796] 1 [0.23383291] 1 [0.36312434] 1 [0.4947895] 1 [0.7848595] 1 [0.32893735] 1 [0.7691797] 1 [0.7617038] 1 [0.36447313] 1 [0.52058357] 1 [0.7445644] 1 [0.4261658] 1 [0.7473389] 1 [0.90681154] 1 [0.88884455] 1 [0.7643042] 1 [0.32095748] 1 [0.6227849] 1 [0.93219805] 1 [0.7821798] 1 [0.91155624] 1 [0.7165406] 1 [0.7167437] 1 [0.92751735] 1 [0.25660372] 1 [0.8962037] 1 [0.62779367] 1 [0.910384] 1 [0.75562286] 1 [0.3643253] 1 "
          ],
          "name": "stdout"
        }
      ]
    },
    {
      "cell_type": "code",
      "metadata": {
        "id": "s9ckJNAv49f4"
      },
      "source": [
        ""
      ],
      "execution_count": 64,
      "outputs": []
    },
    {
      "cell_type": "markdown",
      "metadata": {
        "id": "rY-5lYapXjVu"
      },
      "source": [
        "---\n",
        "# 5. Conclusion"
      ]
    },
    {
      "cell_type": "markdown",
      "metadata": {
        "id": "GH-jnN54XjVv"
      },
      "source": [
        "I choose **Adaboost** model as my preferred my approach. The Adaboost model not only has the **highest accuracy**, but also has the **highest precision and F-measure** of all the models developed as a part of this analysis. The advantages of using Adaboost over other models is that they are very simple to implement. Since they are made up of weak individual learners, they are less susceptible to overfitting. However, Adaboost is sensitive to noisy data and outliers. \n"
      ]
    }
  ]
}